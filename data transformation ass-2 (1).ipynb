{
 "cells": [
  {
   "cell_type": "code",
   "execution_count": 55,
   "id": "cd7e12aa-cabc-4251-9162-d43780178850",
   "metadata": {},
   "outputs": [],
   "source": [
    "import pandas as pd\n",
    "import numpy as nump"
   ]
  },
  {
   "cell_type": "code",
   "execution_count": 56,
   "id": "01adf9fb-4e93-4f69-8baf-d8310cc2f6c9",
   "metadata": {},
   "outputs": [],
   "source": [
    "#load the datasets\n",
    "df=pd.read_csv('pima-indians-diabetes.csv')"
   ]
  },
  {
   "cell_type": "code",
   "execution_count": 57,
   "id": "d2e25c57-e6e7-4629-81cb-102262670d1b",
   "metadata": {},
   "outputs": [
    {
     "name": "stdout",
     "output_type": "stream",
     "text": [
      "First few rows of the dataset:\n",
      "   Pregnancies  Glucose  BloodPressure  SkinThickness  Insulin   BMI  \\\n",
      "0            6      148             72             35        0  33.6   \n",
      "1            1       85             66             29        0  26.6   \n",
      "2            8      183             64              0        0  23.3   \n",
      "3            1       89             66             23       94  28.1   \n",
      "4            0      137             40             35      168  43.1   \n",
      "\n",
      "   DiabetesPedigreeFunction  Age  Class  \n",
      "0                     0.627   50      1  \n",
      "1                     0.351   31      0  \n",
      "2                     0.672   32      1  \n",
      "3                     0.167   21      0  \n",
      "4                     2.288   33      1  \n"
     ]
    }
   ],
   "source": [
    "# Display the first few rows of the dataset\n",
    "print(\"First few rows of the dataset:\")\n",
    "print(df.head())"
   ]
  },
  {
   "cell_type": "code",
   "execution_count": 58,
   "id": "06893f73-f68c-4fa5-a041-f208f8734598",
   "metadata": {},
   "outputs": [
    {
     "name": "stdout",
     "output_type": "stream",
     "text": [
      "\n",
      "Summary information of the dataset:\n",
      "<class 'pandas.core.frame.DataFrame'>\n",
      "RangeIndex: 768 entries, 0 to 767\n",
      "Data columns (total 9 columns):\n",
      " #   Column                    Non-Null Count  Dtype  \n",
      "---  ------                    --------------  -----  \n",
      " 0   Pregnancies               768 non-null    int64  \n",
      " 1   Glucose                   768 non-null    int64  \n",
      " 2   BloodPressure             768 non-null    int64  \n",
      " 3   SkinThickness             768 non-null    int64  \n",
      " 4   Insulin                   768 non-null    int64  \n",
      " 5   BMI                       768 non-null    float64\n",
      " 6   DiabetesPedigreeFunction  768 non-null    float64\n",
      " 7   Age                       768 non-null    int64  \n",
      " 8   Class                     768 non-null    int64  \n",
      "dtypes: float64(2), int64(7)\n",
      "memory usage: 54.1 KB\n",
      "None\n"
     ]
    }
   ],
   "source": [
    "# Display summary information of the dataset\n",
    "print(\"\\nSummary information of the dataset:\")\n",
    "print(df.info())"
   ]
  },
  {
   "cell_type": "code",
   "execution_count": 59,
   "id": "13c6c274-e3b5-40c8-ad93-868f6a630811",
   "metadata": {},
   "outputs": [
    {
     "name": "stdout",
     "output_type": "stream",
     "text": [
      "\n",
      "Basic statistical details for numeric columns:\n",
      "       Pregnancies     Glucose  BloodPressure  SkinThickness     Insulin  \\\n",
      "count   768.000000  768.000000     768.000000     768.000000  768.000000   \n",
      "mean      3.845052  120.894531      69.105469      20.536458   79.799479   \n",
      "std       3.369578   31.972618      19.355807      15.952218  115.244002   \n",
      "min       0.000000    0.000000       0.000000       0.000000    0.000000   \n",
      "25%       1.000000   99.000000      62.000000       0.000000    0.000000   \n",
      "50%       3.000000  117.000000      72.000000      23.000000   30.500000   \n",
      "75%       6.000000  140.250000      80.000000      32.000000  127.250000   \n",
      "max      17.000000  199.000000     122.000000      99.000000  846.000000   \n",
      "\n",
      "              BMI  DiabetesPedigreeFunction         Age       Class  \n",
      "count  768.000000                768.000000  768.000000  768.000000  \n",
      "mean    31.992578                  0.471876   33.240885    0.348958  \n",
      "std      7.884160                  0.331329   11.760232    0.476951  \n",
      "min      0.000000                  0.078000   21.000000    0.000000  \n",
      "25%     27.300000                  0.243750   24.000000    0.000000  \n",
      "50%     32.000000                  0.372500   29.000000    0.000000  \n",
      "75%     36.600000                  0.626250   41.000000    1.000000  \n",
      "max     67.100000                  2.420000   81.000000    1.000000  \n"
     ]
    }
   ],
   "source": [
    "# Display basic statistical details for numeric columns\n",
    "print(\"\\nBasic statistical details for numeric columns:\")\n",
    "print(df.describe())"
   ]
  },
  {
   "cell_type": "code",
   "execution_count": 60,
   "id": "d84cdade-a3ce-43b8-8fbb-27fb26e143ce",
   "metadata": {},
   "outputs": [
    {
     "name": "stdout",
     "output_type": "stream",
     "text": [
      "\n",
      "Missing values in the dataset:\n",
      "Pregnancies                 0\n",
      "Glucose                     0\n",
      "BloodPressure               0\n",
      "SkinThickness               0\n",
      "Insulin                     0\n",
      "BMI                         0\n",
      "DiabetesPedigreeFunction    0\n",
      "Age                         0\n",
      "Class                       0\n",
      "dtype: int64\n"
     ]
    }
   ],
   "source": [
    "# Check for missing values\n",
    "print(\"\\nMissing values in the dataset:\")\n",
    "print(df.isnull().sum())"
   ]
  },
  {
   "cell_type": "code",
   "execution_count": 61,
   "id": "7b22b7ef-79a9-4956-abd5-39fd48c035dd",
   "metadata": {},
   "outputs": [
    {
     "name": "stdout",
     "output_type": "stream",
     "text": [
      "\n",
      "Data types of each column:\n",
      "Pregnancies                   int64\n",
      "Glucose                       int64\n",
      "BloodPressure                 int64\n",
      "SkinThickness                 int64\n",
      "Insulin                       int64\n",
      "BMI                         float64\n",
      "DiabetesPedigreeFunction    float64\n",
      "Age                           int64\n",
      "Class                         int64\n",
      "dtype: object\n"
     ]
    }
   ],
   "source": [
    "# Display data types of each column\n",
    "print(\"\\nData types of each column:\")\n",
    "print(df.dtypes)"
   ]
  },
  {
   "cell_type": "code",
   "execution_count": 62,
   "id": "3a9f768f-7b53-4141-8d1f-0b3e4f5772d4",
   "metadata": {},
   "outputs": [],
   "source": [
    "# 2 no question"
   ]
  },
  {
   "cell_type": "code",
   "execution_count": 63,
   "id": "0bb65b4a-2017-4eaf-973e-d7c68fdb2aec",
   "metadata": {},
   "outputs": [
    {
     "name": "stdout",
     "output_type": "stream",
     "text": [
      "Defaulting to user installation because normal site-packages is not writeable\n",
      "Requirement already satisfied: scikit-learn in c:\\users\\admin\\appdata\\local\\packages\\pythonsoftwarefoundation.python.3.12_qbz5n2kfra8p0\\localcache\\local-packages\\python312\\site-packages (1.5.1)\n",
      "Requirement already satisfied: numpy>=1.19.5 in c:\\users\\admin\\appdata\\local\\packages\\pythonsoftwarefoundation.python.3.12_qbz5n2kfra8p0\\localcache\\local-packages\\python312\\site-packages (from scikit-learn) (2.0.1)\n",
      "Requirement already satisfied: scipy>=1.6.0 in c:\\users\\admin\\appdata\\local\\packages\\pythonsoftwarefoundation.python.3.12_qbz5n2kfra8p0\\localcache\\local-packages\\python312\\site-packages (from scikit-learn) (1.14.0)\n",
      "Requirement already satisfied: joblib>=1.2.0 in c:\\users\\admin\\appdata\\local\\packages\\pythonsoftwarefoundation.python.3.12_qbz5n2kfra8p0\\localcache\\local-packages\\python312\\site-packages (from scikit-learn) (1.4.2)\n",
      "Requirement already satisfied: threadpoolctl>=3.1.0 in c:\\users\\admin\\appdata\\local\\packages\\pythonsoftwarefoundation.python.3.12_qbz5n2kfra8p0\\localcache\\local-packages\\python312\\site-packages (from scikit-learn) (3.5.0)\n",
      "Note: you may need to restart the kernel to use updated packages.\n"
     ]
    }
   ],
   "source": [
    "pip install scikit-learn"
   ]
  },
  {
   "cell_type": "code",
   "execution_count": 64,
   "id": "c64b1461-5dd5-432c-95aa-1186ba355026",
   "metadata": {},
   "outputs": [],
   "source": [
    "from sklearn.preprocessing import StandardScaler"
   ]
  },
  {
   "cell_type": "code",
   "execution_count": 65,
   "id": "b3566d06-7696-46cc-a381-e3153b16396c",
   "metadata": {},
   "outputs": [],
   "source": [
    "# Replace zeros with NaN for columns where zeros are invalid\n",
    "columns_with_zeros = ['Glucose', 'BloodPressure', 'SkinThickness', 'Insulin', 'BMI']\n",
    "df[columns_with_zeros] = df[columns_with_zeros].replace(0, pd.NA)\n"
   ]
  },
  {
   "cell_type": "code",
   "execution_count": 66,
   "id": "8d0d8219-6262-43a9-8a9f-e906c5f24972",
   "metadata": {},
   "outputs": [],
   "source": [
    "# Replace zeros with NaN for columns where zeros are invalid\n",
    "columns_with_zeros = ['Glucose', 'BloodPressure', 'SkinThickness', 'Insulin', 'BMI']\n",
    "df[columns_with_zeros] = df[columns_with_zeros].replace(0, pd.NA)"
   ]
  },
  {
   "cell_type": "code",
   "execution_count": 67,
   "id": "aba0e9f1-7f69-4204-a1c2-f5becf25d2ae",
   "metadata": {},
   "outputs": [],
   "source": [
    "# Convert the target variable 'Class' to categorical type\n",
    "df['Class'] = df['Class'].astype('category')\n"
   ]
  },
  {
   "cell_type": "code",
   "execution_count": 68,
   "id": "fabc27d1-abea-4f87-8f5b-35cf917bffb5",
   "metadata": {},
   "outputs": [],
   "source": [
    "# List of numeric columns to normalize\n",
    "numeric_cols = df.columns[df.dtypes != 'category']"
   ]
  },
  {
   "cell_type": "code",
   "execution_count": null,
   "id": "3175e0c9-957d-41c5-b2b8-f43e70272beb",
   "metadata": {},
   "outputs": [],
   "source": [
    "# Normalize numeric columns\n",
    "scaler = StandardScaler()\n",
    "df[numeric_cols] = scaler.fit_transform(df[numeric_cols])"
   ]
  },
  {
   "cell_type": "code",
   "execution_count": 69,
   "id": "33ed297b-0f73-40d9-b580-3c59b526b70f",
   "metadata": {},
   "outputs": [
    {
     "name": "stdout",
     "output_type": "stream",
     "text": [
      "\n",
      "Cleaned dataset:\n",
      "   Pregnancies Glucose BloodPressure SkinThickness Insulin   BMI  \\\n",
      "0            6     148            72            35    <NA>  33.6   \n",
      "1            1      85            66            29    <NA>  26.6   \n",
      "2            8     183            64          <NA>    <NA>  23.3   \n",
      "\n",
      "   DiabetesPedigreeFunction  Age Class  \n",
      "0                     0.627   50     1  \n",
      "1                     0.351   31     0  \n",
      "2                     0.672   32     1  \n",
      "<class 'pandas.core.frame.DataFrame'>\n",
      "RangeIndex: 768 entries, 0 to 767\n",
      "Data columns (total 9 columns):\n",
      " #   Column                    Non-Null Count  Dtype   \n",
      "---  ------                    --------------  -----   \n",
      " 0   Pregnancies               768 non-null    int64   \n",
      " 1   Glucose                   763 non-null    object  \n",
      " 2   BloodPressure             733 non-null    object  \n",
      " 3   SkinThickness             541 non-null    object  \n",
      " 4   Insulin                   394 non-null    object  \n",
      " 5   BMI                       757 non-null    object  \n",
      " 6   DiabetesPedigreeFunction  768 non-null    float64 \n",
      " 7   Age                       768 non-null    int64   \n",
      " 8   Class                     768 non-null    category\n",
      "dtypes: category(1), float64(1), int64(2), object(5)\n",
      "memory usage: 49.0+ KB\n",
      "None\n"
     ]
    }
   ],
   "source": [
    "# Verify the cleaned and tidied dataset\n",
    "print(\"\\nCleaned dataset:\")\n",
    "print(df.head(3))\n",
    "print(df.info())"
   ]
  },
  {
   "cell_type": "code",
   "execution_count": 70,
   "id": "476e4193-b849-4d51-b03f-d2e51c48fd4c",
   "metadata": {},
   "outputs": [
    {
     "ename": "OSError",
     "evalue": "[Errno 22] Invalid argument: '\\nCleaned dataset'",
     "output_type": "error",
     "traceback": [
      "\u001b[1;31m---------------------------------------------------------------------------\u001b[0m",
      "\u001b[1;31mOSError\u001b[0m                                   Traceback (most recent call last)",
      "Cell \u001b[1;32mIn[70], line 1\u001b[0m\n\u001b[1;32m----> 1\u001b[0m \u001b[43mdf\u001b[49m\u001b[38;5;241;43m.\u001b[39;49m\u001b[43mto_csv\u001b[49m\u001b[43m(\u001b[49m\u001b[38;5;124;43m'\u001b[39;49m\u001b[38;5;130;43;01m\\n\u001b[39;49;00m\u001b[38;5;124;43mCleaned dataset\u001b[39;49m\u001b[38;5;124;43m'\u001b[39;49m\u001b[43m,\u001b[49m\u001b[43m \u001b[49m\u001b[43mindex\u001b[49m\u001b[38;5;241;43m=\u001b[39;49m\u001b[38;5;28;43;01mFalse\u001b[39;49;00m\u001b[43m)\u001b[49m\n\u001b[0;32m      2\u001b[0m \u001b[38;5;28mprint\u001b[39m(\u001b[38;5;124m'\u001b[39m\u001b[38;5;130;01m\\n\u001b[39;00m\u001b[38;5;124mCleaned dataset saved successfully\u001b[39m\u001b[38;5;124m'\u001b[39m)\n",
      "File \u001b[1;32m~\\AppData\\Local\\Packages\\PythonSoftwareFoundation.Python.3.12_qbz5n2kfra8p0\\LocalCache\\local-packages\\Python312\\site-packages\\pandas\\util\\_decorators.py:333\u001b[0m, in \u001b[0;36mdeprecate_nonkeyword_arguments.<locals>.decorate.<locals>.wrapper\u001b[1;34m(*args, **kwargs)\u001b[0m\n\u001b[0;32m    327\u001b[0m \u001b[38;5;28;01mif\u001b[39;00m \u001b[38;5;28mlen\u001b[39m(args) \u001b[38;5;241m>\u001b[39m num_allow_args:\n\u001b[0;32m    328\u001b[0m     warnings\u001b[38;5;241m.\u001b[39mwarn(\n\u001b[0;32m    329\u001b[0m         msg\u001b[38;5;241m.\u001b[39mformat(arguments\u001b[38;5;241m=\u001b[39m_format_argument_list(allow_args)),\n\u001b[0;32m    330\u001b[0m         \u001b[38;5;167;01mFutureWarning\u001b[39;00m,\n\u001b[0;32m    331\u001b[0m         stacklevel\u001b[38;5;241m=\u001b[39mfind_stack_level(),\n\u001b[0;32m    332\u001b[0m     )\n\u001b[1;32m--> 333\u001b[0m \u001b[38;5;28;01mreturn\u001b[39;00m \u001b[43mfunc\u001b[49m\u001b[43m(\u001b[49m\u001b[38;5;241;43m*\u001b[39;49m\u001b[43margs\u001b[49m\u001b[43m,\u001b[49m\u001b[43m \u001b[49m\u001b[38;5;241;43m*\u001b[39;49m\u001b[38;5;241;43m*\u001b[39;49m\u001b[43mkwargs\u001b[49m\u001b[43m)\u001b[49m\n",
      "File \u001b[1;32m~\\AppData\\Local\\Packages\\PythonSoftwareFoundation.Python.3.12_qbz5n2kfra8p0\\LocalCache\\local-packages\\Python312\\site-packages\\pandas\\core\\generic.py:3967\u001b[0m, in \u001b[0;36mNDFrame.to_csv\u001b[1;34m(self, path_or_buf, sep, na_rep, float_format, columns, header, index, index_label, mode, encoding, compression, quoting, quotechar, lineterminator, chunksize, date_format, doublequote, escapechar, decimal, errors, storage_options)\u001b[0m\n\u001b[0;32m   3956\u001b[0m df \u001b[38;5;241m=\u001b[39m \u001b[38;5;28mself\u001b[39m \u001b[38;5;28;01mif\u001b[39;00m \u001b[38;5;28misinstance\u001b[39m(\u001b[38;5;28mself\u001b[39m, ABCDataFrame) \u001b[38;5;28;01melse\u001b[39;00m \u001b[38;5;28mself\u001b[39m\u001b[38;5;241m.\u001b[39mto_frame()\n\u001b[0;32m   3958\u001b[0m formatter \u001b[38;5;241m=\u001b[39m DataFrameFormatter(\n\u001b[0;32m   3959\u001b[0m     frame\u001b[38;5;241m=\u001b[39mdf,\n\u001b[0;32m   3960\u001b[0m     header\u001b[38;5;241m=\u001b[39mheader,\n\u001b[1;32m   (...)\u001b[0m\n\u001b[0;32m   3964\u001b[0m     decimal\u001b[38;5;241m=\u001b[39mdecimal,\n\u001b[0;32m   3965\u001b[0m )\n\u001b[1;32m-> 3967\u001b[0m \u001b[38;5;28;01mreturn\u001b[39;00m \u001b[43mDataFrameRenderer\u001b[49m\u001b[43m(\u001b[49m\u001b[43mformatter\u001b[49m\u001b[43m)\u001b[49m\u001b[38;5;241;43m.\u001b[39;49m\u001b[43mto_csv\u001b[49m\u001b[43m(\u001b[49m\n\u001b[0;32m   3968\u001b[0m \u001b[43m    \u001b[49m\u001b[43mpath_or_buf\u001b[49m\u001b[43m,\u001b[49m\n\u001b[0;32m   3969\u001b[0m \u001b[43m    \u001b[49m\u001b[43mlineterminator\u001b[49m\u001b[38;5;241;43m=\u001b[39;49m\u001b[43mlineterminator\u001b[49m\u001b[43m,\u001b[49m\n\u001b[0;32m   3970\u001b[0m \u001b[43m    \u001b[49m\u001b[43msep\u001b[49m\u001b[38;5;241;43m=\u001b[39;49m\u001b[43msep\u001b[49m\u001b[43m,\u001b[49m\n\u001b[0;32m   3971\u001b[0m \u001b[43m    \u001b[49m\u001b[43mencoding\u001b[49m\u001b[38;5;241;43m=\u001b[39;49m\u001b[43mencoding\u001b[49m\u001b[43m,\u001b[49m\n\u001b[0;32m   3972\u001b[0m \u001b[43m    \u001b[49m\u001b[43merrors\u001b[49m\u001b[38;5;241;43m=\u001b[39;49m\u001b[43merrors\u001b[49m\u001b[43m,\u001b[49m\n\u001b[0;32m   3973\u001b[0m \u001b[43m    \u001b[49m\u001b[43mcompression\u001b[49m\u001b[38;5;241;43m=\u001b[39;49m\u001b[43mcompression\u001b[49m\u001b[43m,\u001b[49m\n\u001b[0;32m   3974\u001b[0m \u001b[43m    \u001b[49m\u001b[43mquoting\u001b[49m\u001b[38;5;241;43m=\u001b[39;49m\u001b[43mquoting\u001b[49m\u001b[43m,\u001b[49m\n\u001b[0;32m   3975\u001b[0m \u001b[43m    \u001b[49m\u001b[43mcolumns\u001b[49m\u001b[38;5;241;43m=\u001b[39;49m\u001b[43mcolumns\u001b[49m\u001b[43m,\u001b[49m\n\u001b[0;32m   3976\u001b[0m \u001b[43m    \u001b[49m\u001b[43mindex_label\u001b[49m\u001b[38;5;241;43m=\u001b[39;49m\u001b[43mindex_label\u001b[49m\u001b[43m,\u001b[49m\n\u001b[0;32m   3977\u001b[0m \u001b[43m    \u001b[49m\u001b[43mmode\u001b[49m\u001b[38;5;241;43m=\u001b[39;49m\u001b[43mmode\u001b[49m\u001b[43m,\u001b[49m\n\u001b[0;32m   3978\u001b[0m \u001b[43m    \u001b[49m\u001b[43mchunksize\u001b[49m\u001b[38;5;241;43m=\u001b[39;49m\u001b[43mchunksize\u001b[49m\u001b[43m,\u001b[49m\n\u001b[0;32m   3979\u001b[0m \u001b[43m    \u001b[49m\u001b[43mquotechar\u001b[49m\u001b[38;5;241;43m=\u001b[39;49m\u001b[43mquotechar\u001b[49m\u001b[43m,\u001b[49m\n\u001b[0;32m   3980\u001b[0m \u001b[43m    \u001b[49m\u001b[43mdate_format\u001b[49m\u001b[38;5;241;43m=\u001b[39;49m\u001b[43mdate_format\u001b[49m\u001b[43m,\u001b[49m\n\u001b[0;32m   3981\u001b[0m \u001b[43m    \u001b[49m\u001b[43mdoublequote\u001b[49m\u001b[38;5;241;43m=\u001b[39;49m\u001b[43mdoublequote\u001b[49m\u001b[43m,\u001b[49m\n\u001b[0;32m   3982\u001b[0m \u001b[43m    \u001b[49m\u001b[43mescapechar\u001b[49m\u001b[38;5;241;43m=\u001b[39;49m\u001b[43mescapechar\u001b[49m\u001b[43m,\u001b[49m\n\u001b[0;32m   3983\u001b[0m \u001b[43m    \u001b[49m\u001b[43mstorage_options\u001b[49m\u001b[38;5;241;43m=\u001b[39;49m\u001b[43mstorage_options\u001b[49m\u001b[43m,\u001b[49m\n\u001b[0;32m   3984\u001b[0m \u001b[43m\u001b[49m\u001b[43m)\u001b[49m\n",
      "File \u001b[1;32m~\\AppData\\Local\\Packages\\PythonSoftwareFoundation.Python.3.12_qbz5n2kfra8p0\\LocalCache\\local-packages\\Python312\\site-packages\\pandas\\io\\formats\\format.py:1014\u001b[0m, in \u001b[0;36mDataFrameRenderer.to_csv\u001b[1;34m(self, path_or_buf, encoding, sep, columns, index_label, mode, compression, quoting, quotechar, lineterminator, chunksize, date_format, doublequote, escapechar, errors, storage_options)\u001b[0m\n\u001b[0;32m    993\u001b[0m     created_buffer \u001b[38;5;241m=\u001b[39m \u001b[38;5;28;01mFalse\u001b[39;00m\n\u001b[0;32m    995\u001b[0m csv_formatter \u001b[38;5;241m=\u001b[39m CSVFormatter(\n\u001b[0;32m    996\u001b[0m     path_or_buf\u001b[38;5;241m=\u001b[39mpath_or_buf,\n\u001b[0;32m    997\u001b[0m     lineterminator\u001b[38;5;241m=\u001b[39mlineterminator,\n\u001b[1;32m   (...)\u001b[0m\n\u001b[0;32m   1012\u001b[0m     formatter\u001b[38;5;241m=\u001b[39m\u001b[38;5;28mself\u001b[39m\u001b[38;5;241m.\u001b[39mfmt,\n\u001b[0;32m   1013\u001b[0m )\n\u001b[1;32m-> 1014\u001b[0m \u001b[43mcsv_formatter\u001b[49m\u001b[38;5;241;43m.\u001b[39;49m\u001b[43msave\u001b[49m\u001b[43m(\u001b[49m\u001b[43m)\u001b[49m\n\u001b[0;32m   1016\u001b[0m \u001b[38;5;28;01mif\u001b[39;00m created_buffer:\n\u001b[0;32m   1017\u001b[0m     \u001b[38;5;28;01massert\u001b[39;00m \u001b[38;5;28misinstance\u001b[39m(path_or_buf, StringIO)\n",
      "File \u001b[1;32m~\\AppData\\Local\\Packages\\PythonSoftwareFoundation.Python.3.12_qbz5n2kfra8p0\\LocalCache\\local-packages\\Python312\\site-packages\\pandas\\io\\formats\\csvs.py:251\u001b[0m, in \u001b[0;36mCSVFormatter.save\u001b[1;34m(self)\u001b[0m\n\u001b[0;32m    247\u001b[0m \u001b[38;5;250m\u001b[39m\u001b[38;5;124;03m\"\"\"\u001b[39;00m\n\u001b[0;32m    248\u001b[0m \u001b[38;5;124;03mCreate the writer & save.\u001b[39;00m\n\u001b[0;32m    249\u001b[0m \u001b[38;5;124;03m\"\"\"\u001b[39;00m\n\u001b[0;32m    250\u001b[0m \u001b[38;5;66;03m# apply compression and byte/text conversion\u001b[39;00m\n\u001b[1;32m--> 251\u001b[0m \u001b[38;5;28;01mwith\u001b[39;00m \u001b[43mget_handle\u001b[49m\u001b[43m(\u001b[49m\n\u001b[0;32m    252\u001b[0m \u001b[43m    \u001b[49m\u001b[38;5;28;43mself\u001b[39;49m\u001b[38;5;241;43m.\u001b[39;49m\u001b[43mfilepath_or_buffer\u001b[49m\u001b[43m,\u001b[49m\n\u001b[0;32m    253\u001b[0m \u001b[43m    \u001b[49m\u001b[38;5;28;43mself\u001b[39;49m\u001b[38;5;241;43m.\u001b[39;49m\u001b[43mmode\u001b[49m\u001b[43m,\u001b[49m\n\u001b[0;32m    254\u001b[0m \u001b[43m    \u001b[49m\u001b[43mencoding\u001b[49m\u001b[38;5;241;43m=\u001b[39;49m\u001b[38;5;28;43mself\u001b[39;49m\u001b[38;5;241;43m.\u001b[39;49m\u001b[43mencoding\u001b[49m\u001b[43m,\u001b[49m\n\u001b[0;32m    255\u001b[0m \u001b[43m    \u001b[49m\u001b[43merrors\u001b[49m\u001b[38;5;241;43m=\u001b[39;49m\u001b[38;5;28;43mself\u001b[39;49m\u001b[38;5;241;43m.\u001b[39;49m\u001b[43merrors\u001b[49m\u001b[43m,\u001b[49m\n\u001b[0;32m    256\u001b[0m \u001b[43m    \u001b[49m\u001b[43mcompression\u001b[49m\u001b[38;5;241;43m=\u001b[39;49m\u001b[38;5;28;43mself\u001b[39;49m\u001b[38;5;241;43m.\u001b[39;49m\u001b[43mcompression\u001b[49m\u001b[43m,\u001b[49m\n\u001b[0;32m    257\u001b[0m \u001b[43m    \u001b[49m\u001b[43mstorage_options\u001b[49m\u001b[38;5;241;43m=\u001b[39;49m\u001b[38;5;28;43mself\u001b[39;49m\u001b[38;5;241;43m.\u001b[39;49m\u001b[43mstorage_options\u001b[49m\u001b[43m,\u001b[49m\n\u001b[0;32m    258\u001b[0m \u001b[43m\u001b[49m\u001b[43m)\u001b[49m \u001b[38;5;28;01mas\u001b[39;00m handles:\n\u001b[0;32m    259\u001b[0m     \u001b[38;5;66;03m# Note: self.encoding is irrelevant here\u001b[39;00m\n\u001b[0;32m    260\u001b[0m     \u001b[38;5;28mself\u001b[39m\u001b[38;5;241m.\u001b[39mwriter \u001b[38;5;241m=\u001b[39m csvlib\u001b[38;5;241m.\u001b[39mwriter(\n\u001b[0;32m    261\u001b[0m         handles\u001b[38;5;241m.\u001b[39mhandle,\n\u001b[0;32m    262\u001b[0m         lineterminator\u001b[38;5;241m=\u001b[39m\u001b[38;5;28mself\u001b[39m\u001b[38;5;241m.\u001b[39mlineterminator,\n\u001b[1;32m   (...)\u001b[0m\n\u001b[0;32m    267\u001b[0m         quotechar\u001b[38;5;241m=\u001b[39m\u001b[38;5;28mself\u001b[39m\u001b[38;5;241m.\u001b[39mquotechar,\n\u001b[0;32m    268\u001b[0m     )\n\u001b[0;32m    270\u001b[0m     \u001b[38;5;28mself\u001b[39m\u001b[38;5;241m.\u001b[39m_save()\n",
      "File \u001b[1;32m~\\AppData\\Local\\Packages\\PythonSoftwareFoundation.Python.3.12_qbz5n2kfra8p0\\LocalCache\\local-packages\\Python312\\site-packages\\pandas\\io\\common.py:873\u001b[0m, in \u001b[0;36mget_handle\u001b[1;34m(path_or_buf, mode, encoding, compression, memory_map, is_text, errors, storage_options)\u001b[0m\n\u001b[0;32m    868\u001b[0m \u001b[38;5;28;01melif\u001b[39;00m \u001b[38;5;28misinstance\u001b[39m(handle, \u001b[38;5;28mstr\u001b[39m):\n\u001b[0;32m    869\u001b[0m     \u001b[38;5;66;03m# Check whether the filename is to be opened in binary mode.\u001b[39;00m\n\u001b[0;32m    870\u001b[0m     \u001b[38;5;66;03m# Binary mode does not support 'encoding' and 'newline'.\u001b[39;00m\n\u001b[0;32m    871\u001b[0m     \u001b[38;5;28;01mif\u001b[39;00m ioargs\u001b[38;5;241m.\u001b[39mencoding \u001b[38;5;129;01mand\u001b[39;00m \u001b[38;5;124m\"\u001b[39m\u001b[38;5;124mb\u001b[39m\u001b[38;5;124m\"\u001b[39m \u001b[38;5;129;01mnot\u001b[39;00m \u001b[38;5;129;01min\u001b[39;00m ioargs\u001b[38;5;241m.\u001b[39mmode:\n\u001b[0;32m    872\u001b[0m         \u001b[38;5;66;03m# Encoding\u001b[39;00m\n\u001b[1;32m--> 873\u001b[0m         handle \u001b[38;5;241m=\u001b[39m \u001b[38;5;28;43mopen\u001b[39;49m\u001b[43m(\u001b[49m\n\u001b[0;32m    874\u001b[0m \u001b[43m            \u001b[49m\u001b[43mhandle\u001b[49m\u001b[43m,\u001b[49m\n\u001b[0;32m    875\u001b[0m \u001b[43m            \u001b[49m\u001b[43mioargs\u001b[49m\u001b[38;5;241;43m.\u001b[39;49m\u001b[43mmode\u001b[49m\u001b[43m,\u001b[49m\n\u001b[0;32m    876\u001b[0m \u001b[43m            \u001b[49m\u001b[43mencoding\u001b[49m\u001b[38;5;241;43m=\u001b[39;49m\u001b[43mioargs\u001b[49m\u001b[38;5;241;43m.\u001b[39;49m\u001b[43mencoding\u001b[49m\u001b[43m,\u001b[49m\n\u001b[0;32m    877\u001b[0m \u001b[43m            \u001b[49m\u001b[43merrors\u001b[49m\u001b[38;5;241;43m=\u001b[39;49m\u001b[43merrors\u001b[49m\u001b[43m,\u001b[49m\n\u001b[0;32m    878\u001b[0m \u001b[43m            \u001b[49m\u001b[43mnewline\u001b[49m\u001b[38;5;241;43m=\u001b[39;49m\u001b[38;5;124;43m\"\u001b[39;49m\u001b[38;5;124;43m\"\u001b[39;49m\u001b[43m,\u001b[49m\n\u001b[0;32m    879\u001b[0m \u001b[43m        \u001b[49m\u001b[43m)\u001b[49m\n\u001b[0;32m    880\u001b[0m     \u001b[38;5;28;01melse\u001b[39;00m:\n\u001b[0;32m    881\u001b[0m         \u001b[38;5;66;03m# Binary mode\u001b[39;00m\n\u001b[0;32m    882\u001b[0m         handle \u001b[38;5;241m=\u001b[39m \u001b[38;5;28mopen\u001b[39m(handle, ioargs\u001b[38;5;241m.\u001b[39mmode)\n",
      "\u001b[1;31mOSError\u001b[0m: [Errno 22] Invalid argument: '\\nCleaned dataset'"
     ]
    }
   ],
   "source": [
    "df.to_csv('\\nCleaned dataset', index=False)\n",
    "print('\\nCleaned dataset saved successfully')"
   ]
  },
  {
   "cell_type": "code",
   "execution_count": 53,
   "id": "d91b32d7-0984-4479-b611-54e74300dbeb",
   "metadata": {},
   "outputs": [],
   "source": [
    "#no c"
   ]
  },
  {
   "cell_type": "code",
   "execution_count": 77,
   "id": "43ffd85f-735e-4303-bc3c-10e08749649f",
   "metadata": {},
   "outputs": [],
   "source": [
    "import pandas as pd\n",
    "from sklearn.preprocessing import StandardScaler"
   ]
  },
  {
   "cell_type": "code",
   "execution_count": 78,
   "id": "84f080b1-729e-47bd-a33a-896453191a5b",
   "metadata": {},
   "outputs": [],
   "source": [
    "# Load the dataset\n",
    "df = pd.read_csv('pima-indians-diabetes.csv')"
   ]
  },
  {
   "cell_type": "code",
   "execution_count": 79,
   "id": "3786947a-86da-4a66-bc2e-accb07e3c586",
   "metadata": {},
   "outputs": [
    {
     "name": "stdout",
     "output_type": "stream",
     "text": [
      "\n",
      "Missing values in the dataset:\n",
      "Pregnancies                 0\n",
      "Glucose                     0\n",
      "BloodPressure               0\n",
      "SkinThickness               0\n",
      "Insulin                     0\n",
      "BMI                         0\n",
      "DiabetesPedigreeFunction    0\n",
      "Age                         0\n",
      "Class                       0\n",
      "dtype: int64\n"
     ]
    }
   ],
   "source": [
    "print(\"\\nMissing values in the dataset:\")\n",
    "print(df.isnull().sum())"
   ]
  },
  {
   "cell_type": "code",
   "execution_count": 80,
   "id": "88b6937a-e1ff-46f2-8507-8bdc5984b8f5",
   "metadata": {},
   "outputs": [],
   "source": [
    "# Replace zeros with NaN for columns where zeros are invalid\n",
    "columns_with_zeros = ['Glucose', 'BloodPressure', 'SkinThickness', 'Insulin', 'BMI']\n",
    "df[columns_with_zeros] = df[columns_with_zeros].replace(0, pd.NA)\n"
   ]
  },
  {
   "cell_type": "code",
   "execution_count": 81,
   "id": "4aff4d86-8d8d-441e-96e7-ae9a8828d1ad",
   "metadata": {},
   "outputs": [
    {
     "name": "stderr",
     "output_type": "stream",
     "text": [
      "C:\\Users\\Admin\\AppData\\Local\\Temp\\ipykernel_18204\\409761570.py:3: FutureWarning: Downcasting object dtype arrays on .fillna, .ffill, .bfill is deprecated and will change in a future version. Call result.infer_objects(copy=False) instead. To opt-in to the future behavior, set `pd.set_option('future.no_silent_downcasting', True)`\n",
      "  df[numeric_cols] = df[numeric_cols].fillna(df[numeric_cols].median())\n"
     ]
    }
   ],
   "source": [
    "# Impute missing values with the median for numeric columns only\n",
    "numeric_cols = df.columns[df.dtypes != 'category']\n",
    "df[numeric_cols] = df[numeric_cols].fillna(df[numeric_cols].median())\n"
   ]
  },
  {
   "cell_type": "code",
   "execution_count": 82,
   "id": "dad7182a-6fd3-42b3-94f9-8e6edcb12e13",
   "metadata": {},
   "outputs": [],
   "source": [
    "# Convert 'Class' column to categorical type\n",
    "df['Class'] = df['Class'].astype('category')\n"
   ]
  },
  {
   "cell_type": "code",
   "execution_count": 83,
   "id": "0c819c8b-40ee-494d-8876-ceeaa2b7bbae",
   "metadata": {},
   "outputs": [],
   "source": [
    "# Normalize numeric columns\n",
    "scaler = StandardScaler()\n",
    "df[numeric_cols] = scaler.fit_transform(df[numeric_cols])\n"
   ]
  },
  {
   "cell_type": "code",
   "execution_count": 84,
   "id": "098c03f6-b7ef-4058-a7e7-b98cb190e640",
   "metadata": {},
   "outputs": [
    {
     "name": "stdout",
     "output_type": "stream",
     "text": [
      "\n",
      "Cleaned dataset:\n",
      "   Pregnancies   Glucose  BloodPressure  SkinThickness   Insulin       BMI  \\\n",
      "0     0.639947  0.866045      -0.031990       0.670643 -0.181541  0.166619   \n",
      "1    -0.844885 -1.205066      -0.528319      -0.012301 -0.181541 -0.852200   \n",
      "2     1.233880  2.016662      -0.693761      -0.012301 -0.181541 -1.332500   \n",
      "3    -0.844885 -1.073567      -0.528319      -0.695245 -0.540642 -0.633881   \n",
      "4    -1.141852  0.504422      -2.679076       0.670643  0.316566  1.549303   \n",
      "\n",
      "   DiabetesPedigreeFunction       Age     Class  \n",
      "0                  0.468492  1.425995  1.365896  \n",
      "1                 -0.365061 -0.190672 -0.732120  \n",
      "2                  0.604397 -0.105584  1.365896  \n",
      "3                 -0.920763 -1.041549 -0.732120  \n",
      "4                  5.484909 -0.020496  1.365896  \n",
      "<class 'pandas.core.frame.DataFrame'>\n",
      "RangeIndex: 768 entries, 0 to 767\n",
      "Data columns (total 9 columns):\n",
      " #   Column                    Non-Null Count  Dtype  \n",
      "---  ------                    --------------  -----  \n",
      " 0   Pregnancies               768 non-null    float64\n",
      " 1   Glucose                   768 non-null    float64\n",
      " 2   BloodPressure             768 non-null    float64\n",
      " 3   SkinThickness             768 non-null    float64\n",
      " 4   Insulin                   768 non-null    float64\n",
      " 5   BMI                       768 non-null    float64\n",
      " 6   DiabetesPedigreeFunction  768 non-null    float64\n",
      " 7   Age                       768 non-null    float64\n",
      " 8   Class                     768 non-null    float64\n",
      "dtypes: float64(9)\n",
      "memory usage: 54.1 KB\n",
      "None\n"
     ]
    }
   ],
   "source": [
    "# Verify the cleaned and tidied dataset \n",
    "## Display the initial rows of the resulting tidy dataset\n",
    "print(\"\\nCleaned dataset:\")\n",
    "print(df.head())\n",
    "print(df.info())"
   ]
  },
  {
   "cell_type": "code",
   "execution_count": 54,
   "id": "13575902-b8a6-4050-89e4-ab8afd12f57e",
   "metadata": {},
   "outputs": [],
   "source": [
    "#d"
   ]
  },
  {
   "cell_type": "code",
   "execution_count": 88,
   "id": "5ec135ef-cf57-476c-be18-2faf9d99747b",
   "metadata": {},
   "outputs": [],
   "source": [
    "import pandas as pd\n",
    "from sklearn.preprocessing import StandardScaler"
   ]
  },
  {
   "cell_type": "code",
   "execution_count": 89,
   "id": "da36483b-d18b-4942-b304-f2852d1ae54d",
   "metadata": {},
   "outputs": [],
   "source": [
    "# Load the dataset\n",
    "df = pd.read_csv('pima-indians-diabetes.csv')"
   ]
  },
  {
   "cell_type": "code",
   "execution_count": 90,
   "id": "3da323d1-5d9f-4c70-a27d-e3a72386ea3c",
   "metadata": {},
   "outputs": [],
   "source": [
    "# Replace zeros with NaN for columns where zeros are invalid\n",
    "columns_with_zeros = ['Glucose', 'BloodPressure', 'SkinThickness', 'Insulin', 'BMI']\n",
    "df[columns_with_zeros] = df[columns_with_zeros].replace(0, pd.NA)"
   ]
  },
  {
   "cell_type": "code",
   "execution_count": 92,
   "id": "3c6c672a-d1c9-4951-9511-88782c69ca41",
   "metadata": {},
   "outputs": [],
   "source": [
    "# Impute missing values with the median for numeric columns only\n",
    "numeric_cols = df.columns[df.dtypes != 'class']\n",
    "df[numeric_cols] = df[numeric_cols].fillna(df[numeric_cols].median())"
   ]
  },
  {
   "cell_type": "code",
   "execution_count": 93,
   "id": "89e6ec26-c54f-4c61-91ad-5049b4e0e4dc",
   "metadata": {},
   "outputs": [],
   "source": [
    "# Convert 'Class' column to categorical type\n",
    "df['Class'] = df['Class'].astype('category')\n"
   ]
  },
  {
   "cell_type": "code",
   "execution_count": 94,
   "id": "7f30a6fe-1b9f-4c3d-8487-09aed248a630",
   "metadata": {},
   "outputs": [],
   "source": [
    "# Normalize numeric columns\n",
    "scaler = StandardScaler()\n",
    "df[numeric_cols] = scaler.fit_transform(df[numeric_cols])\n"
   ]
  },
  {
   "cell_type": "code",
   "execution_count": 95,
   "id": "8b7f6f61-7063-483c-93b2-1c063f126827",
   "metadata": {},
   "outputs": [
    {
     "name": "stdout",
     "output_type": "stream",
     "text": [
      "\n",
      "Cleaned dataset:\n",
      "   Pregnancies   Glucose  BloodPressure  SkinThickness   Insulin       BMI  \\\n",
      "0     0.639947  0.866045      -0.031990       0.670643 -0.181541  0.166619   \n",
      "1    -0.844885 -1.205066      -0.528319      -0.012301 -0.181541 -0.852200   \n",
      "2     1.233880  2.016662      -0.693761      -0.012301 -0.181541 -1.332500   \n",
      "\n",
      "   DiabetesPedigreeFunction       Age     Class  \n",
      "0                  0.468492  1.425995  1.365896  \n",
      "1                 -0.365061 -0.190672 -0.732120  \n",
      "2                  0.604397 -0.105584  1.365896  \n",
      "<class 'pandas.core.frame.DataFrame'>\n",
      "RangeIndex: 768 entries, 0 to 767\n",
      "Data columns (total 9 columns):\n",
      " #   Column                    Non-Null Count  Dtype  \n",
      "---  ------                    --------------  -----  \n",
      " 0   Pregnancies               768 non-null    float64\n",
      " 1   Glucose                   768 non-null    float64\n",
      " 2   BloodPressure             768 non-null    float64\n",
      " 3   SkinThickness             768 non-null    float64\n",
      " 4   Insulin                   768 non-null    float64\n",
      " 5   BMI                       768 non-null    float64\n",
      " 6   DiabetesPedigreeFunction  768 non-null    float64\n",
      " 7   Age                       768 non-null    float64\n",
      " 8   Class                     768 non-null    float64\n",
      "dtypes: float64(9)\n",
      "memory usage: 54.1 KB\n",
      "None\n"
     ]
    }
   ],
   "source": [
    "# Display the cleaned and tidied dataset\n",
    "print(\"\\nCleaned dataset:\")\n",
    "print(df.head(3))\n",
    "print(df.info())\n"
   ]
  },
  {
   "cell_type": "code",
   "execution_count": 100,
   "id": "f7fb5291-b983-49fc-9cf2-af5f7b1cad9c",
   "metadata": {},
   "outputs": [
    {
     "name": "stdout",
     "output_type": "stream",
     "text": [
      "\n",
      "Unique values in 'Class' column:\n",
      "[ 1.36589591 -0.73212021]\n"
     ]
    }
   ],
   "source": [
    "# Check unique values in 'Class' column before filtering\n",
    "print(\"\\nUnique values in 'Class' column:\")\n",
    "print(df['Class'].unique())\n"
   ]
  },
  {
   "cell_type": "code",
   "execution_count": 96,
   "id": "cf7fcc7e-e564-412f-8a7d-221feaaed716",
   "metadata": {},
   "outputs": [
    {
     "name": "stdout",
     "output_type": "stream",
     "text": [
      "\n",
      "Filtered dataset based on Glucose level above 120:\n",
      "Empty DataFrame\n",
      "Columns: [Pregnancies, Glucose, BloodPressure, SkinThickness, Insulin, BMI, DiabetesPedigreeFunction, Age, Class]\n",
      "Index: []\n"
     ]
    }
   ],
   "source": [
    "# Criteria 1: Glucose level above 120 (standardized) and Display the filtered datasets\n",
    "glucose_threshold = (120 - df['Glucose'].mean()) / df['Glucose'].std()\n",
    "filtered_glucose = df[df['Glucose'] > glucose_threshold]\n",
    "print(\"\\nFiltered dataset based on Glucose level above 120:\")\n",
    "print(filtered_glucose.head())\n"
   ]
  },
  {
   "cell_type": "code",
   "execution_count": 97,
   "id": "df2908de-0e2f-4d09-bb3f-4afe14a37b3a",
   "metadata": {},
   "outputs": [
    {
     "name": "stdout",
     "output_type": "stream",
     "text": [
      "\n",
      "Filtered dataset based on BMI greater than 30:\n",
      "Empty DataFrame\n",
      "Columns: [Pregnancies, Glucose, BloodPressure, SkinThickness, Insulin, BMI, DiabetesPedigreeFunction, Age, Class]\n",
      "Index: []\n"
     ]
    }
   ],
   "source": [
    "# Criteria 2: BMI greater than 30 (standardized)\n",
    "bmi_threshold = (30 - df['BMI'].mean()) / df['BMI'].std()\n",
    "filtered_bmi = df[df['BMI'] > bmi_threshold]\n",
    "print(\"\\nFiltered dataset based on BMI greater than 30:\")\n",
    "print(filtered_bmi.head())"
   ]
  },
  {
   "cell_type": "code",
   "execution_count": 129,
   "id": "f903f387-f546-4719-9e05-f2650f473be3",
   "metadata": {},
   "outputs": [
    {
     "name": "stdout",
     "output_type": "stream",
     "text": [
      "\n",
      "Filtered dataset based on Age above 50:\n",
      "Empty DataFrame\n",
      "Columns: [Pregnancies, Glucose, BloodPressure, SkinThickness, Insulin, BMI, DiabetesPedigreeFunction, Age, Class]\n",
      "Index: []\n"
     ]
    }
   ],
   "source": [
    "# Criteria 3: Age above 50 (standardized)\n",
    "age_threshold = (50 - df['Age'].mean()) / df['Age'].std()\n",
    "filtered_age = df[df['Age'] > age_threshold]\n",
    "print(\"\\nFiltered dataset based on Age above 50:\")\n",
    "print(filtered_age.head())"
   ]
  },
  {
   "cell_type": "code",
   "execution_count": 130,
   "id": "eb54a6c6-2d5b-4fed-92c3-bdbe054aa271",
   "metadata": {},
   "outputs": [
    {
     "name": "stdout",
     "output_type": "stream",
     "text": [
      "\n",
      "Filtered dataset where Class is 1 (diabetes):\n",
      "   Pregnancies   Glucose  BloodPressure  SkinThickness   Insulin       BMI  \\\n",
      "0     0.639947  0.866045      -0.031990       0.670643 -0.181541  0.166619   \n",
      "2     1.233880  2.016662      -0.693761      -0.012301 -0.181541 -1.332500   \n",
      "4    -1.141852  0.504422      -2.679076       0.670643  0.316566  1.549303   \n",
      "6    -0.250952 -1.435189      -1.851862       0.329171 -0.610145 -0.211799   \n",
      "8    -0.547919  2.476909      -0.197433       1.808882  4.660524 -0.284572   \n",
      "\n",
      "   DiabetesPedigreeFunction       Age Class  \n",
      "0                  0.468492  1.425995     1  \n",
      "2                  0.604397 -0.105584     1  \n",
      "4                  5.484909 -0.020496     1  \n",
      "6                 -0.676133 -0.616111     1  \n",
      "8                 -0.947944  1.681259     1  \n"
     ]
    }
   ],
   "source": [
    "# Criteria 4: Class is 1\n",
    "filtered_class = df[df['Class'] == 1]\n",
    "print(\"\\nFiltered dataset where Class is 1 (diabetes):\")\n",
    "print(filtered_class.head())"
   ]
  },
  {
   "cell_type": "code",
   "execution_count": 134,
   "id": "b5ca9022-af85-4bae-89ec-7be012e2ac7f",
   "metadata": {},
   "outputs": [],
   "source": [
    "#e"
   ]
  },
  {
   "cell_type": "code",
   "execution_count": 136,
   "id": "b84f1a73-a14e-4c20-8321-42830f8213e3",
   "metadata": {},
   "outputs": [
    {
     "name": "stdout",
     "output_type": "stream",
     "text": [
      "Defaulting to user installation because normal site-packages is not writeable\n",
      "Collecting pymongo\n",
      "  Using cached pymongo-4.8.0-cp312-cp312-win_amd64.whl.metadata (22 kB)\n",
      "Collecting dnspython<3.0.0,>=1.16.0 (from pymongo)\n",
      "  Using cached dnspython-2.6.1-py3-none-any.whl.metadata (5.8 kB)\n",
      "Using cached pymongo-4.8.0-cp312-cp312-win_amd64.whl (680 kB)\n",
      "Using cached dnspython-2.6.1-py3-none-any.whl (307 kB)\n",
      "Installing collected packages: dnspython, pymongo\n",
      "Successfully installed dnspython-2.6.1 pymongo-4.8.0\n",
      "Note: you may need to restart the kernel to use updated packages.\n"
     ]
    }
   ],
   "source": [
    "pip install pymongo"
   ]
  },
  {
   "cell_type": "code",
   "execution_count": 137,
   "id": "e35c1266-1b3e-454a-9485-6b90f4fb5034",
   "metadata": {},
   "outputs": [],
   "source": [
    "import pandas as pd\n",
    "from pymongo import MongoClient\n",
    "from sklearn.preprocessing import StandardScaler\n"
   ]
  },
  {
   "cell_type": "code",
   "execution_count": 138,
   "id": "388f5b58-efdc-412f-90d8-bc6ebd510cd2",
   "metadata": {},
   "outputs": [],
   "source": [
    "# Load the dataset\n",
    "df = pd.read_csv('pima-indians-diabetes.csv')"
   ]
  },
  {
   "cell_type": "code",
   "execution_count": 139,
   "id": "e127ab16-2a24-429f-94ea-46de357f7d67",
   "metadata": {},
   "outputs": [
    {
     "name": "stdout",
     "output_type": "stream",
     "text": [
      "First few rows of the dataset:\n",
      "   Pregnancies  Glucose  BloodPressure  SkinThickness  Insulin   BMI  \\\n",
      "0            6      148             72             35        0  33.6   \n",
      "1            1       85             66             29        0  26.6   \n",
      "\n",
      "   DiabetesPedigreeFunction  Age  Class  \n",
      "0                     0.627   50      1  \n",
      "1                     0.351   31      0  \n"
     ]
    }
   ],
   "source": [
    "# Display the first few rows and check for missing values\n",
    "print(\"First few rows of the dataset:\")\n",
    "print(df.head(2))\n"
   ]
  },
  {
   "cell_type": "code",
   "execution_count": 140,
   "id": "9f35cb85-5061-494c-b516-2cf07620fcf4",
   "metadata": {},
   "outputs": [],
   "source": [
    "# Replace zeros with NaN for columns where zeros are invalid\n",
    "columns_with_zeros = ['Glucose', 'BloodPressure', 'SkinThickness', 'Insulin', 'BMI']\n",
    "df[columns_with_zeros] = df[columns_with_zeros].replace(0, pd.NA)"
   ]
  },
  {
   "cell_type": "code",
   "execution_count": 142,
   "id": "b42b56cf-6ab7-4f46-ab23-3101ba7a746d",
   "metadata": {},
   "outputs": [],
   "source": [
    "# Impute missing values with the median for numeric columns only\n",
    "numeric_cols = df.columns[df.columns != 'Class']\n",
    "df[numeric_cols] = df[numeric_cols].fillna(df[numeric_cols].median())\n"
   ]
  },
  {
   "cell_type": "code",
   "execution_count": 143,
   "id": "8caf61f6-e354-4c3a-9115-b5410b6edd7b",
   "metadata": {},
   "outputs": [],
   "source": [
    "# Convert 'Class' column to categorical type\n",
    "df['Class'] = df['Class'].astype('category')"
   ]
  },
  {
   "cell_type": "code",
   "execution_count": 144,
   "id": "9fabf5c7-c267-4ea3-bb76-6ad0c5cefc92",
   "metadata": {},
   "outputs": [],
   "source": [
    "# Normalize numeric columns, excluding 'Class'\n",
    "scaler = StandardScaler()\n",
    "df[numeric_cols] = scaler.fit_transform(df[numeric_cols])"
   ]
  },
  {
   "cell_type": "code",
   "execution_count": 146,
   "id": "d6c61b64-bd71-44a6-b3f6-1bd0664e81cd",
   "metadata": {},
   "outputs": [
    {
     "name": "stdout",
     "output_type": "stream",
     "text": [
      "\n",
      "Cleaned dataset:\n",
      "   Pregnancies   Glucose  BloodPressure  SkinThickness   Insulin       BMI  \\\n",
      "0     0.639947  0.866045      -0.031990       0.670643 -0.181541  0.166619   \n",
      "1    -0.844885 -1.205066      -0.528319      -0.012301 -0.181541 -0.852200   \n",
      "2     1.233880  2.016662      -0.693761      -0.012301 -0.181541 -1.332500   \n",
      "\n",
      "   DiabetesPedigreeFunction       Age Class  \n",
      "0                  0.468492  1.425995     1  \n",
      "1                 -0.365061 -0.190672     0  \n",
      "2                  0.604397 -0.105584     1  \n"
     ]
    }
   ],
   "source": [
    "# Verify the cleaned and tidied dataset\n",
    "print(\"\\nCleaned dataset:\")\n",
    "print(df.head(3))\n"
   ]
  },
  {
   "cell_type": "code",
   "execution_count": 147,
   "id": "b271e729-19f8-4989-8505-827422c3cfcd",
   "metadata": {},
   "outputs": [],
   "source": [
    "# Establish connection to MongoDB\n",
    "client = MongoClient('mongodb://localhost:27017/')\n",
    "db = client['diabetes_db']\n",
    "collection = db['diabetes_data']\n"
   ]
  },
  {
   "cell_type": "code",
   "execution_count": 148,
   "id": "df53397b-55cc-4320-b755-5050b250b060",
   "metadata": {},
   "outputs": [],
   "source": [
    "# Convert DataFrame to dictionary format\n",
    "data_dict = df.to_dict(orient='records')"
   ]
  },
  {
   "cell_type": "code",
   "execution_count": 149,
   "id": "5e8c04fc-1654-44c1-a70a-c452440d3e33",
   "metadata": {},
   "outputs": [
    {
     "data": {
      "text/plain": [
       "InsertManyResult([ObjectId('66b0319ca162d7e96f89ab9e'), ObjectId('66b0319ca162d7e96f89ab9f'), ObjectId('66b0319ca162d7e96f89aba0'), ObjectId('66b0319ca162d7e96f89aba1'), ObjectId('66b0319ca162d7e96f89aba2'), ObjectId('66b0319ca162d7e96f89aba3'), ObjectId('66b0319ca162d7e96f89aba4'), ObjectId('66b0319ca162d7e96f89aba5'), ObjectId('66b0319ca162d7e96f89aba6'), ObjectId('66b0319ca162d7e96f89aba7'), ObjectId('66b0319ca162d7e96f89aba8'), ObjectId('66b0319ca162d7e96f89aba9'), ObjectId('66b0319ca162d7e96f89abaa'), ObjectId('66b0319ca162d7e96f89abab'), ObjectId('66b0319ca162d7e96f89abac'), ObjectId('66b0319ca162d7e96f89abad'), ObjectId('66b0319ca162d7e96f89abae'), ObjectId('66b0319ca162d7e96f89abaf'), ObjectId('66b0319ca162d7e96f89abb0'), ObjectId('66b0319ca162d7e96f89abb1'), ObjectId('66b0319ca162d7e96f89abb2'), ObjectId('66b0319ca162d7e96f89abb3'), ObjectId('66b0319ca162d7e96f89abb4'), ObjectId('66b0319ca162d7e96f89abb5'), ObjectId('66b0319ca162d7e96f89abb6'), ObjectId('66b0319ca162d7e96f89abb7'), ObjectId('66b0319ca162d7e96f89abb8'), ObjectId('66b0319ca162d7e96f89abb9'), ObjectId('66b0319ca162d7e96f89abba'), ObjectId('66b0319ca162d7e96f89abbb'), ObjectId('66b0319ca162d7e96f89abbc'), ObjectId('66b0319ca162d7e96f89abbd'), ObjectId('66b0319ca162d7e96f89abbe'), ObjectId('66b0319ca162d7e96f89abbf'), ObjectId('66b0319ca162d7e96f89abc0'), ObjectId('66b0319ca162d7e96f89abc1'), ObjectId('66b0319ca162d7e96f89abc2'), ObjectId('66b0319ca162d7e96f89abc3'), ObjectId('66b0319ca162d7e96f89abc4'), ObjectId('66b0319ca162d7e96f89abc5'), ObjectId('66b0319ca162d7e96f89abc6'), ObjectId('66b0319ca162d7e96f89abc7'), ObjectId('66b0319ca162d7e96f89abc8'), ObjectId('66b0319ca162d7e96f89abc9'), ObjectId('66b0319ca162d7e96f89abca'), ObjectId('66b0319ca162d7e96f89abcb'), ObjectId('66b0319ca162d7e96f89abcc'), ObjectId('66b0319ca162d7e96f89abcd'), ObjectId('66b0319ca162d7e96f89abce'), ObjectId('66b0319ca162d7e96f89abcf'), ObjectId('66b0319ca162d7e96f89abd0'), ObjectId('66b0319ca162d7e96f89abd1'), ObjectId('66b0319ca162d7e96f89abd2'), ObjectId('66b0319ca162d7e96f89abd3'), ObjectId('66b0319ca162d7e96f89abd4'), ObjectId('66b0319ca162d7e96f89abd5'), ObjectId('66b0319ca162d7e96f89abd6'), ObjectId('66b0319ca162d7e96f89abd7'), ObjectId('66b0319ca162d7e96f89abd8'), ObjectId('66b0319ca162d7e96f89abd9'), ObjectId('66b0319ca162d7e96f89abda'), ObjectId('66b0319ca162d7e96f89abdb'), ObjectId('66b0319ca162d7e96f89abdc'), ObjectId('66b0319ca162d7e96f89abdd'), ObjectId('66b0319ca162d7e96f89abde'), ObjectId('66b0319ca162d7e96f89abdf'), ObjectId('66b0319ca162d7e96f89abe0'), ObjectId('66b0319ca162d7e96f89abe1'), ObjectId('66b0319ca162d7e96f89abe2'), ObjectId('66b0319ca162d7e96f89abe3'), ObjectId('66b0319ca162d7e96f89abe4'), ObjectId('66b0319ca162d7e96f89abe5'), ObjectId('66b0319ca162d7e96f89abe6'), ObjectId('66b0319ca162d7e96f89abe7'), ObjectId('66b0319ca162d7e96f89abe8'), ObjectId('66b0319ca162d7e96f89abe9'), ObjectId('66b0319ca162d7e96f89abea'), ObjectId('66b0319ca162d7e96f89abeb'), ObjectId('66b0319ca162d7e96f89abec'), ObjectId('66b0319ca162d7e96f89abed'), ObjectId('66b0319ca162d7e96f89abee'), ObjectId('66b0319ca162d7e96f89abef'), ObjectId('66b0319ca162d7e96f89abf0'), ObjectId('66b0319ca162d7e96f89abf1'), ObjectId('66b0319ca162d7e96f89abf2'), ObjectId('66b0319ca162d7e96f89abf3'), ObjectId('66b0319ca162d7e96f89abf4'), ObjectId('66b0319ca162d7e96f89abf5'), ObjectId('66b0319ca162d7e96f89abf6'), ObjectId('66b0319ca162d7e96f89abf7'), ObjectId('66b0319ca162d7e96f89abf8'), ObjectId('66b0319ca162d7e96f89abf9'), ObjectId('66b0319ca162d7e96f89abfa'), ObjectId('66b0319ca162d7e96f89abfb'), ObjectId('66b0319ca162d7e96f89abfc'), ObjectId('66b0319ca162d7e96f89abfd'), ObjectId('66b0319ca162d7e96f89abfe'), ObjectId('66b0319ca162d7e96f89abff'), ObjectId('66b0319ca162d7e96f89ac00'), ObjectId('66b0319ca162d7e96f89ac01'), ObjectId('66b0319ca162d7e96f89ac02'), ObjectId('66b0319ca162d7e96f89ac03'), ObjectId('66b0319ca162d7e96f89ac04'), ObjectId('66b0319ca162d7e96f89ac05'), ObjectId('66b0319ca162d7e96f89ac06'), ObjectId('66b0319ca162d7e96f89ac07'), ObjectId('66b0319ca162d7e96f89ac08'), ObjectId('66b0319ca162d7e96f89ac09'), ObjectId('66b0319ca162d7e96f89ac0a'), ObjectId('66b0319ca162d7e96f89ac0b'), ObjectId('66b0319ca162d7e96f89ac0c'), ObjectId('66b0319ca162d7e96f89ac0d'), ObjectId('66b0319ca162d7e96f89ac0e'), ObjectId('66b0319ca162d7e96f89ac0f'), ObjectId('66b0319ca162d7e96f89ac10'), ObjectId('66b0319ca162d7e96f89ac11'), ObjectId('66b0319ca162d7e96f89ac12'), ObjectId('66b0319ca162d7e96f89ac13'), ObjectId('66b0319ca162d7e96f89ac14'), ObjectId('66b0319ca162d7e96f89ac15'), ObjectId('66b0319ca162d7e96f89ac16'), ObjectId('66b0319ca162d7e96f89ac17'), ObjectId('66b0319ca162d7e96f89ac18'), ObjectId('66b0319ca162d7e96f89ac19'), ObjectId('66b0319ca162d7e96f89ac1a'), ObjectId('66b0319ca162d7e96f89ac1b'), ObjectId('66b0319ca162d7e96f89ac1c'), ObjectId('66b0319ca162d7e96f89ac1d'), ObjectId('66b0319ca162d7e96f89ac1e'), ObjectId('66b0319ca162d7e96f89ac1f'), ObjectId('66b0319ca162d7e96f89ac20'), ObjectId('66b0319ca162d7e96f89ac21'), ObjectId('66b0319ca162d7e96f89ac22'), ObjectId('66b0319ca162d7e96f89ac23'), ObjectId('66b0319ca162d7e96f89ac24'), ObjectId('66b0319ca162d7e96f89ac25'), ObjectId('66b0319ca162d7e96f89ac26'), ObjectId('66b0319ca162d7e96f89ac27'), ObjectId('66b0319ca162d7e96f89ac28'), ObjectId('66b0319ca162d7e96f89ac29'), ObjectId('66b0319ca162d7e96f89ac2a'), ObjectId('66b0319ca162d7e96f89ac2b'), ObjectId('66b0319ca162d7e96f89ac2c'), ObjectId('66b0319ca162d7e96f89ac2d'), ObjectId('66b0319ca162d7e96f89ac2e'), ObjectId('66b0319ca162d7e96f89ac2f'), ObjectId('66b0319ca162d7e96f89ac30'), ObjectId('66b0319ca162d7e96f89ac31'), ObjectId('66b0319ca162d7e96f89ac32'), ObjectId('66b0319ca162d7e96f89ac33'), ObjectId('66b0319ca162d7e96f89ac34'), ObjectId('66b0319ca162d7e96f89ac35'), ObjectId('66b0319ca162d7e96f89ac36'), ObjectId('66b0319ca162d7e96f89ac37'), ObjectId('66b0319ca162d7e96f89ac38'), ObjectId('66b0319ca162d7e96f89ac39'), ObjectId('66b0319ca162d7e96f89ac3a'), ObjectId('66b0319ca162d7e96f89ac3b'), ObjectId('66b0319ca162d7e96f89ac3c'), ObjectId('66b0319ca162d7e96f89ac3d'), ObjectId('66b0319ca162d7e96f89ac3e'), ObjectId('66b0319ca162d7e96f89ac3f'), ObjectId('66b0319ca162d7e96f89ac40'), ObjectId('66b0319ca162d7e96f89ac41'), ObjectId('66b0319ca162d7e96f89ac42'), ObjectId('66b0319ca162d7e96f89ac43'), ObjectId('66b0319ca162d7e96f89ac44'), ObjectId('66b0319ca162d7e96f89ac45'), ObjectId('66b0319ca162d7e96f89ac46'), ObjectId('66b0319ca162d7e96f89ac47'), ObjectId('66b0319ca162d7e96f89ac48'), ObjectId('66b0319ca162d7e96f89ac49'), ObjectId('66b0319ca162d7e96f89ac4a'), ObjectId('66b0319ca162d7e96f89ac4b'), ObjectId('66b0319ca162d7e96f89ac4c'), ObjectId('66b0319ca162d7e96f89ac4d'), ObjectId('66b0319ca162d7e96f89ac4e'), ObjectId('66b0319ca162d7e96f89ac4f'), ObjectId('66b0319ca162d7e96f89ac50'), ObjectId('66b0319ca162d7e96f89ac51'), ObjectId('66b0319ca162d7e96f89ac52'), ObjectId('66b0319ca162d7e96f89ac53'), ObjectId('66b0319ca162d7e96f89ac54'), ObjectId('66b0319ca162d7e96f89ac55'), ObjectId('66b0319ca162d7e96f89ac56'), ObjectId('66b0319ca162d7e96f89ac57'), ObjectId('66b0319ca162d7e96f89ac58'), ObjectId('66b0319ca162d7e96f89ac59'), ObjectId('66b0319ca162d7e96f89ac5a'), ObjectId('66b0319ca162d7e96f89ac5b'), ObjectId('66b0319ca162d7e96f89ac5c'), ObjectId('66b0319ca162d7e96f89ac5d'), ObjectId('66b0319ca162d7e96f89ac5e'), ObjectId('66b0319ca162d7e96f89ac5f'), ObjectId('66b0319ca162d7e96f89ac60'), ObjectId('66b0319ca162d7e96f89ac61'), ObjectId('66b0319ca162d7e96f89ac62'), ObjectId('66b0319ca162d7e96f89ac63'), ObjectId('66b0319ca162d7e96f89ac64'), ObjectId('66b0319ca162d7e96f89ac65'), ObjectId('66b0319ca162d7e96f89ac66'), ObjectId('66b0319ca162d7e96f89ac67'), ObjectId('66b0319ca162d7e96f89ac68'), ObjectId('66b0319ca162d7e96f89ac69'), ObjectId('66b0319ca162d7e96f89ac6a'), ObjectId('66b0319ca162d7e96f89ac6b'), ObjectId('66b0319ca162d7e96f89ac6c'), ObjectId('66b0319ca162d7e96f89ac6d'), ObjectId('66b0319ca162d7e96f89ac6e'), ObjectId('66b0319ca162d7e96f89ac6f'), ObjectId('66b0319ca162d7e96f89ac70'), ObjectId('66b0319ca162d7e96f89ac71'), ObjectId('66b0319ca162d7e96f89ac72'), ObjectId('66b0319ca162d7e96f89ac73'), ObjectId('66b0319ca162d7e96f89ac74'), ObjectId('66b0319ca162d7e96f89ac75'), ObjectId('66b0319ca162d7e96f89ac76'), ObjectId('66b0319ca162d7e96f89ac77'), ObjectId('66b0319ca162d7e96f89ac78'), ObjectId('66b0319ca162d7e96f89ac79'), ObjectId('66b0319ca162d7e96f89ac7a'), ObjectId('66b0319ca162d7e96f89ac7b'), ObjectId('66b0319ca162d7e96f89ac7c'), ObjectId('66b0319ca162d7e96f89ac7d'), ObjectId('66b0319ca162d7e96f89ac7e'), ObjectId('66b0319ca162d7e96f89ac7f'), ObjectId('66b0319ca162d7e96f89ac80'), ObjectId('66b0319ca162d7e96f89ac81'), ObjectId('66b0319ca162d7e96f89ac82'), ObjectId('66b0319ca162d7e96f89ac83'), ObjectId('66b0319ca162d7e96f89ac84'), ObjectId('66b0319ca162d7e96f89ac85'), ObjectId('66b0319ca162d7e96f89ac86'), ObjectId('66b0319ca162d7e96f89ac87'), ObjectId('66b0319ca162d7e96f89ac88'), ObjectId('66b0319ca162d7e96f89ac89'), ObjectId('66b0319ca162d7e96f89ac8a'), ObjectId('66b0319ca162d7e96f89ac8b'), ObjectId('66b0319ca162d7e96f89ac8c'), ObjectId('66b0319ca162d7e96f89ac8d'), ObjectId('66b0319ca162d7e96f89ac8e'), ObjectId('66b0319ca162d7e96f89ac8f'), ObjectId('66b0319ca162d7e96f89ac90'), ObjectId('66b0319ca162d7e96f89ac91'), ObjectId('66b0319ca162d7e96f89ac92'), ObjectId('66b0319ca162d7e96f89ac93'), ObjectId('66b0319ca162d7e96f89ac94'), ObjectId('66b0319ca162d7e96f89ac95'), ObjectId('66b0319ca162d7e96f89ac96'), ObjectId('66b0319ca162d7e96f89ac97'), ObjectId('66b0319ca162d7e96f89ac98'), ObjectId('66b0319ca162d7e96f89ac99'), ObjectId('66b0319ca162d7e96f89ac9a'), ObjectId('66b0319ca162d7e96f89ac9b'), ObjectId('66b0319ca162d7e96f89ac9c'), ObjectId('66b0319ca162d7e96f89ac9d'), ObjectId('66b0319ca162d7e96f89ac9e'), ObjectId('66b0319ca162d7e96f89ac9f'), ObjectId('66b0319ca162d7e96f89aca0'), ObjectId('66b0319ca162d7e96f89aca1'), ObjectId('66b0319ca162d7e96f89aca2'), ObjectId('66b0319ca162d7e96f89aca3'), ObjectId('66b0319ca162d7e96f89aca4'), ObjectId('66b0319ca162d7e96f89aca5'), ObjectId('66b0319ca162d7e96f89aca6'), ObjectId('66b0319ca162d7e96f89aca7'), ObjectId('66b0319ca162d7e96f89aca8'), ObjectId('66b0319ca162d7e96f89aca9'), ObjectId('66b0319ca162d7e96f89acaa'), ObjectId('66b0319ca162d7e96f89acab'), ObjectId('66b0319ca162d7e96f89acac'), ObjectId('66b0319ca162d7e96f89acad'), ObjectId('66b0319ca162d7e96f89acae'), ObjectId('66b0319ca162d7e96f89acaf'), ObjectId('66b0319ca162d7e96f89acb0'), ObjectId('66b0319ca162d7e96f89acb1'), ObjectId('66b0319ca162d7e96f89acb2'), ObjectId('66b0319ca162d7e96f89acb3'), ObjectId('66b0319ca162d7e96f89acb4'), ObjectId('66b0319ca162d7e96f89acb5'), ObjectId('66b0319ca162d7e96f89acb6'), ObjectId('66b0319ca162d7e96f89acb7'), ObjectId('66b0319ca162d7e96f89acb8'), ObjectId('66b0319ca162d7e96f89acb9'), ObjectId('66b0319ca162d7e96f89acba'), ObjectId('66b0319ca162d7e96f89acbb'), ObjectId('66b0319ca162d7e96f89acbc'), ObjectId('66b0319ca162d7e96f89acbd'), ObjectId('66b0319ca162d7e96f89acbe'), ObjectId('66b0319ca162d7e96f89acbf'), ObjectId('66b0319ca162d7e96f89acc0'), ObjectId('66b0319ca162d7e96f89acc1'), ObjectId('66b0319ca162d7e96f89acc2'), ObjectId('66b0319ca162d7e96f89acc3'), ObjectId('66b0319ca162d7e96f89acc4'), ObjectId('66b0319ca162d7e96f89acc5'), ObjectId('66b0319ca162d7e96f89acc6'), ObjectId('66b0319ca162d7e96f89acc7'), ObjectId('66b0319ca162d7e96f89acc8'), ObjectId('66b0319ca162d7e96f89acc9'), ObjectId('66b0319ca162d7e96f89acca'), ObjectId('66b0319ca162d7e96f89accb'), ObjectId('66b0319ca162d7e96f89accc'), ObjectId('66b0319ca162d7e96f89accd'), ObjectId('66b0319ca162d7e96f89acce'), ObjectId('66b0319ca162d7e96f89accf'), ObjectId('66b0319ca162d7e96f89acd0'), ObjectId('66b0319ca162d7e96f89acd1'), ObjectId('66b0319ca162d7e96f89acd2'), ObjectId('66b0319ca162d7e96f89acd3'), ObjectId('66b0319ca162d7e96f89acd4'), ObjectId('66b0319ca162d7e96f89acd5'), ObjectId('66b0319ca162d7e96f89acd6'), ObjectId('66b0319ca162d7e96f89acd7'), ObjectId('66b0319ca162d7e96f89acd8'), ObjectId('66b0319ca162d7e96f89acd9'), ObjectId('66b0319ca162d7e96f89acda'), ObjectId('66b0319ca162d7e96f89acdb'), ObjectId('66b0319ca162d7e96f89acdc'), ObjectId('66b0319ca162d7e96f89acdd'), ObjectId('66b0319ca162d7e96f89acde'), ObjectId('66b0319ca162d7e96f89acdf'), ObjectId('66b0319ca162d7e96f89ace0'), ObjectId('66b0319ca162d7e96f89ace1'), ObjectId('66b0319ca162d7e96f89ace2'), ObjectId('66b0319ca162d7e96f89ace3'), ObjectId('66b0319ca162d7e96f89ace4'), ObjectId('66b0319ca162d7e96f89ace5'), ObjectId('66b0319ca162d7e96f89ace6'), ObjectId('66b0319ca162d7e96f89ace7'), ObjectId('66b0319ca162d7e96f89ace8'), ObjectId('66b0319ca162d7e96f89ace9'), ObjectId('66b0319ca162d7e96f89acea'), ObjectId('66b0319ca162d7e96f89aceb'), ObjectId('66b0319ca162d7e96f89acec'), ObjectId('66b0319ca162d7e96f89aced'), ObjectId('66b0319ca162d7e96f89acee'), ObjectId('66b0319ca162d7e96f89acef'), ObjectId('66b0319ca162d7e96f89acf0'), ObjectId('66b0319ca162d7e96f89acf1'), ObjectId('66b0319ca162d7e96f89acf2'), ObjectId('66b0319ca162d7e96f89acf3'), ObjectId('66b0319ca162d7e96f89acf4'), ObjectId('66b0319ca162d7e96f89acf5'), ObjectId('66b0319ca162d7e96f89acf6'), ObjectId('66b0319ca162d7e96f89acf7'), ObjectId('66b0319ca162d7e96f89acf8'), ObjectId('66b0319ca162d7e96f89acf9'), ObjectId('66b0319ca162d7e96f89acfa'), ObjectId('66b0319ca162d7e96f89acfb'), ObjectId('66b0319ca162d7e96f89acfc'), ObjectId('66b0319ca162d7e96f89acfd'), ObjectId('66b0319ca162d7e96f89acfe'), ObjectId('66b0319ca162d7e96f89acff'), ObjectId('66b0319ca162d7e96f89ad00'), ObjectId('66b0319ca162d7e96f89ad01'), ObjectId('66b0319ca162d7e96f89ad02'), ObjectId('66b0319ca162d7e96f89ad03'), ObjectId('66b0319ca162d7e96f89ad04'), ObjectId('66b0319ca162d7e96f89ad05'), ObjectId('66b0319ca162d7e96f89ad06'), ObjectId('66b0319ca162d7e96f89ad07'), ObjectId('66b0319ca162d7e96f89ad08'), ObjectId('66b0319ca162d7e96f89ad09'), ObjectId('66b0319ca162d7e96f89ad0a'), ObjectId('66b0319ca162d7e96f89ad0b'), ObjectId('66b0319ca162d7e96f89ad0c'), ObjectId('66b0319ca162d7e96f89ad0d'), ObjectId('66b0319ca162d7e96f89ad0e'), ObjectId('66b0319ca162d7e96f89ad0f'), ObjectId('66b0319ca162d7e96f89ad10'), ObjectId('66b0319ca162d7e96f89ad11'), ObjectId('66b0319ca162d7e96f89ad12'), ObjectId('66b0319ca162d7e96f89ad13'), ObjectId('66b0319ca162d7e96f89ad14'), ObjectId('66b0319ca162d7e96f89ad15'), ObjectId('66b0319ca162d7e96f89ad16'), ObjectId('66b0319ca162d7e96f89ad17'), ObjectId('66b0319ca162d7e96f89ad18'), ObjectId('66b0319ca162d7e96f89ad19'), ObjectId('66b0319ca162d7e96f89ad1a'), ObjectId('66b0319ca162d7e96f89ad1b'), ObjectId('66b0319ca162d7e96f89ad1c'), ObjectId('66b0319ca162d7e96f89ad1d'), ObjectId('66b0319ca162d7e96f89ad1e'), ObjectId('66b0319ca162d7e96f89ad1f'), ObjectId('66b0319ca162d7e96f89ad20'), ObjectId('66b0319ca162d7e96f89ad21'), ObjectId('66b0319ca162d7e96f89ad22'), ObjectId('66b0319ca162d7e96f89ad23'), ObjectId('66b0319ca162d7e96f89ad24'), ObjectId('66b0319ca162d7e96f89ad25'), ObjectId('66b0319ca162d7e96f89ad26'), ObjectId('66b0319ca162d7e96f89ad27'), ObjectId('66b0319ca162d7e96f89ad28'), ObjectId('66b0319ca162d7e96f89ad29'), ObjectId('66b0319ca162d7e96f89ad2a'), ObjectId('66b0319ca162d7e96f89ad2b'), ObjectId('66b0319ca162d7e96f89ad2c'), ObjectId('66b0319ca162d7e96f89ad2d'), ObjectId('66b0319ca162d7e96f89ad2e'), ObjectId('66b0319ca162d7e96f89ad2f'), ObjectId('66b0319ca162d7e96f89ad30'), ObjectId('66b0319ca162d7e96f89ad31'), ObjectId('66b0319ca162d7e96f89ad32'), ObjectId('66b0319ca162d7e96f89ad33'), ObjectId('66b0319ca162d7e96f89ad34'), ObjectId('66b0319ca162d7e96f89ad35'), ObjectId('66b0319ca162d7e96f89ad36'), ObjectId('66b0319ca162d7e96f89ad37'), ObjectId('66b0319ca162d7e96f89ad38'), ObjectId('66b0319ca162d7e96f89ad39'), ObjectId('66b0319ca162d7e96f89ad3a'), ObjectId('66b0319ca162d7e96f89ad3b'), ObjectId('66b0319ca162d7e96f89ad3c'), ObjectId('66b0319ca162d7e96f89ad3d'), ObjectId('66b0319ca162d7e96f89ad3e'), ObjectId('66b0319ca162d7e96f89ad3f'), ObjectId('66b0319ca162d7e96f89ad40'), ObjectId('66b0319ca162d7e96f89ad41'), ObjectId('66b0319ca162d7e96f89ad42'), ObjectId('66b0319ca162d7e96f89ad43'), ObjectId('66b0319ca162d7e96f89ad44'), ObjectId('66b0319ca162d7e96f89ad45'), ObjectId('66b0319ca162d7e96f89ad46'), ObjectId('66b0319ca162d7e96f89ad47'), ObjectId('66b0319ca162d7e96f89ad48'), ObjectId('66b0319ca162d7e96f89ad49'), ObjectId('66b0319ca162d7e96f89ad4a'), ObjectId('66b0319ca162d7e96f89ad4b'), ObjectId('66b0319ca162d7e96f89ad4c'), ObjectId('66b0319ca162d7e96f89ad4d'), ObjectId('66b0319ca162d7e96f89ad4e'), ObjectId('66b0319ca162d7e96f89ad4f'), ObjectId('66b0319ca162d7e96f89ad50'), ObjectId('66b0319ca162d7e96f89ad51'), ObjectId('66b0319ca162d7e96f89ad52'), ObjectId('66b0319ca162d7e96f89ad53'), ObjectId('66b0319ca162d7e96f89ad54'), ObjectId('66b0319ca162d7e96f89ad55'), ObjectId('66b0319ca162d7e96f89ad56'), ObjectId('66b0319ca162d7e96f89ad57'), ObjectId('66b0319ca162d7e96f89ad58'), ObjectId('66b0319ca162d7e96f89ad59'), ObjectId('66b0319ca162d7e96f89ad5a'), ObjectId('66b0319ca162d7e96f89ad5b'), ObjectId('66b0319ca162d7e96f89ad5c'), ObjectId('66b0319ca162d7e96f89ad5d'), ObjectId('66b0319ca162d7e96f89ad5e'), ObjectId('66b0319ca162d7e96f89ad5f'), ObjectId('66b0319ca162d7e96f89ad60'), ObjectId('66b0319ca162d7e96f89ad61'), ObjectId('66b0319ca162d7e96f89ad62'), ObjectId('66b0319ca162d7e96f89ad63'), ObjectId('66b0319ca162d7e96f89ad64'), ObjectId('66b0319ca162d7e96f89ad65'), ObjectId('66b0319ca162d7e96f89ad66'), ObjectId('66b0319ca162d7e96f89ad67'), ObjectId('66b0319ca162d7e96f89ad68'), ObjectId('66b0319ca162d7e96f89ad69'), ObjectId('66b0319ca162d7e96f89ad6a'), ObjectId('66b0319ca162d7e96f89ad6b'), ObjectId('66b0319ca162d7e96f89ad6c'), ObjectId('66b0319ca162d7e96f89ad6d'), ObjectId('66b0319ca162d7e96f89ad6e'), ObjectId('66b0319ca162d7e96f89ad6f'), ObjectId('66b0319ca162d7e96f89ad70'), ObjectId('66b0319ca162d7e96f89ad71'), ObjectId('66b0319ca162d7e96f89ad72'), ObjectId('66b0319ca162d7e96f89ad73'), ObjectId('66b0319ca162d7e96f89ad74'), ObjectId('66b0319ca162d7e96f89ad75'), ObjectId('66b0319ca162d7e96f89ad76'), ObjectId('66b0319ca162d7e96f89ad77'), ObjectId('66b0319ca162d7e96f89ad78'), ObjectId('66b0319ca162d7e96f89ad79'), ObjectId('66b0319ca162d7e96f89ad7a'), ObjectId('66b0319ca162d7e96f89ad7b'), ObjectId('66b0319ca162d7e96f89ad7c'), ObjectId('66b0319ca162d7e96f89ad7d'), ObjectId('66b0319ca162d7e96f89ad7e'), ObjectId('66b0319ca162d7e96f89ad7f'), ObjectId('66b0319ca162d7e96f89ad80'), ObjectId('66b0319ca162d7e96f89ad81'), ObjectId('66b0319ca162d7e96f89ad82'), ObjectId('66b0319ca162d7e96f89ad83'), ObjectId('66b0319ca162d7e96f89ad84'), ObjectId('66b0319ca162d7e96f89ad85'), ObjectId('66b0319ca162d7e96f89ad86'), ObjectId('66b0319ca162d7e96f89ad87'), ObjectId('66b0319ca162d7e96f89ad88'), ObjectId('66b0319ca162d7e96f89ad89'), ObjectId('66b0319ca162d7e96f89ad8a'), ObjectId('66b0319ca162d7e96f89ad8b'), ObjectId('66b0319ca162d7e96f89ad8c'), ObjectId('66b0319ca162d7e96f89ad8d'), ObjectId('66b0319ca162d7e96f89ad8e'), ObjectId('66b0319ca162d7e96f89ad8f'), ObjectId('66b0319ca162d7e96f89ad90'), ObjectId('66b0319ca162d7e96f89ad91'), ObjectId('66b0319ca162d7e96f89ad92'), ObjectId('66b0319ca162d7e96f89ad93'), ObjectId('66b0319ca162d7e96f89ad94'), ObjectId('66b0319ca162d7e96f89ad95'), ObjectId('66b0319ca162d7e96f89ad96'), ObjectId('66b0319ca162d7e96f89ad97'), ObjectId('66b0319ca162d7e96f89ad98'), ObjectId('66b0319ca162d7e96f89ad99'), ObjectId('66b0319ca162d7e96f89ad9a'), ObjectId('66b0319ca162d7e96f89ad9b'), ObjectId('66b0319ca162d7e96f89ad9c'), ObjectId('66b0319ca162d7e96f89ad9d'), ObjectId('66b0319ca162d7e96f89ad9e'), ObjectId('66b0319ca162d7e96f89ad9f'), ObjectId('66b0319ca162d7e96f89ada0'), ObjectId('66b0319ca162d7e96f89ada1'), ObjectId('66b0319ca162d7e96f89ada2'), ObjectId('66b0319ca162d7e96f89ada3'), ObjectId('66b0319ca162d7e96f89ada4'), ObjectId('66b0319ca162d7e96f89ada5'), ObjectId('66b0319ca162d7e96f89ada6'), ObjectId('66b0319ca162d7e96f89ada7'), ObjectId('66b0319ca162d7e96f89ada8'), ObjectId('66b0319ca162d7e96f89ada9'), ObjectId('66b0319ca162d7e96f89adaa'), ObjectId('66b0319ca162d7e96f89adab'), ObjectId('66b0319ca162d7e96f89adac'), ObjectId('66b0319ca162d7e96f89adad'), ObjectId('66b0319ca162d7e96f89adae'), ObjectId('66b0319ca162d7e96f89adaf'), ObjectId('66b0319ca162d7e96f89adb0'), ObjectId('66b0319ca162d7e96f89adb1'), ObjectId('66b0319ca162d7e96f89adb2'), ObjectId('66b0319ca162d7e96f89adb3'), ObjectId('66b0319ca162d7e96f89adb4'), ObjectId('66b0319ca162d7e96f89adb5'), ObjectId('66b0319ca162d7e96f89adb6'), ObjectId('66b0319ca162d7e96f89adb7'), ObjectId('66b0319ca162d7e96f89adb8'), ObjectId('66b0319ca162d7e96f89adb9'), ObjectId('66b0319ca162d7e96f89adba'), ObjectId('66b0319ca162d7e96f89adbb'), ObjectId('66b0319ca162d7e96f89adbc'), ObjectId('66b0319ca162d7e96f89adbd'), ObjectId('66b0319ca162d7e96f89adbe'), ObjectId('66b0319ca162d7e96f89adbf'), ObjectId('66b0319ca162d7e96f89adc0'), ObjectId('66b0319ca162d7e96f89adc1'), ObjectId('66b0319ca162d7e96f89adc2'), ObjectId('66b0319ca162d7e96f89adc3'), ObjectId('66b0319ca162d7e96f89adc4'), ObjectId('66b0319ca162d7e96f89adc5'), ObjectId('66b0319ca162d7e96f89adc6'), ObjectId('66b0319ca162d7e96f89adc7'), ObjectId('66b0319ca162d7e96f89adc8'), ObjectId('66b0319ca162d7e96f89adc9'), ObjectId('66b0319ca162d7e96f89adca'), ObjectId('66b0319ca162d7e96f89adcb'), ObjectId('66b0319ca162d7e96f89adcc'), ObjectId('66b0319ca162d7e96f89adcd'), ObjectId('66b0319ca162d7e96f89adce'), ObjectId('66b0319ca162d7e96f89adcf'), ObjectId('66b0319ca162d7e96f89add0'), ObjectId('66b0319ca162d7e96f89add1'), ObjectId('66b0319ca162d7e96f89add2'), ObjectId('66b0319ca162d7e96f89add3'), ObjectId('66b0319ca162d7e96f89add4'), ObjectId('66b0319ca162d7e96f89add5'), ObjectId('66b0319ca162d7e96f89add6'), ObjectId('66b0319ca162d7e96f89add7'), ObjectId('66b0319ca162d7e96f89add8'), ObjectId('66b0319ca162d7e96f89add9'), ObjectId('66b0319ca162d7e96f89adda'), ObjectId('66b0319ca162d7e96f89addb'), ObjectId('66b0319ca162d7e96f89addc'), ObjectId('66b0319ca162d7e96f89addd'), ObjectId('66b0319ca162d7e96f89adde'), ObjectId('66b0319ca162d7e96f89addf'), ObjectId('66b0319ca162d7e96f89ade0'), ObjectId('66b0319ca162d7e96f89ade1'), ObjectId('66b0319ca162d7e96f89ade2'), ObjectId('66b0319ca162d7e96f89ade3'), ObjectId('66b0319ca162d7e96f89ade4'), ObjectId('66b0319ca162d7e96f89ade5'), ObjectId('66b0319ca162d7e96f89ade6'), ObjectId('66b0319ca162d7e96f89ade7'), ObjectId('66b0319ca162d7e96f89ade8'), ObjectId('66b0319ca162d7e96f89ade9'), ObjectId('66b0319ca162d7e96f89adea'), ObjectId('66b0319ca162d7e96f89adeb'), ObjectId('66b0319ca162d7e96f89adec'), ObjectId('66b0319ca162d7e96f89aded'), ObjectId('66b0319ca162d7e96f89adee'), ObjectId('66b0319ca162d7e96f89adef'), ObjectId('66b0319ca162d7e96f89adf0'), ObjectId('66b0319ca162d7e96f89adf1'), ObjectId('66b0319ca162d7e96f89adf2'), ObjectId('66b0319ca162d7e96f89adf3'), ObjectId('66b0319ca162d7e96f89adf4'), ObjectId('66b0319ca162d7e96f89adf5'), ObjectId('66b0319ca162d7e96f89adf6'), ObjectId('66b0319ca162d7e96f89adf7'), ObjectId('66b0319ca162d7e96f89adf8'), ObjectId('66b0319ca162d7e96f89adf9'), ObjectId('66b0319ca162d7e96f89adfa'), ObjectId('66b0319ca162d7e96f89adfb'), ObjectId('66b0319ca162d7e96f89adfc'), ObjectId('66b0319ca162d7e96f89adfd'), ObjectId('66b0319ca162d7e96f89adfe'), ObjectId('66b0319ca162d7e96f89adff'), ObjectId('66b0319ca162d7e96f89ae00'), ObjectId('66b0319ca162d7e96f89ae01'), ObjectId('66b0319ca162d7e96f89ae02'), ObjectId('66b0319ca162d7e96f89ae03'), ObjectId('66b0319ca162d7e96f89ae04'), ObjectId('66b0319ca162d7e96f89ae05'), ObjectId('66b0319ca162d7e96f89ae06'), ObjectId('66b0319ca162d7e96f89ae07'), ObjectId('66b0319ca162d7e96f89ae08'), ObjectId('66b0319ca162d7e96f89ae09'), ObjectId('66b0319ca162d7e96f89ae0a'), ObjectId('66b0319ca162d7e96f89ae0b'), ObjectId('66b0319ca162d7e96f89ae0c'), ObjectId('66b0319ca162d7e96f89ae0d'), ObjectId('66b0319ca162d7e96f89ae0e'), ObjectId('66b0319ca162d7e96f89ae0f'), ObjectId('66b0319ca162d7e96f89ae10'), ObjectId('66b0319ca162d7e96f89ae11'), ObjectId('66b0319ca162d7e96f89ae12'), ObjectId('66b0319ca162d7e96f89ae13'), ObjectId('66b0319ca162d7e96f89ae14'), ObjectId('66b0319ca162d7e96f89ae15'), ObjectId('66b0319ca162d7e96f89ae16'), ObjectId('66b0319ca162d7e96f89ae17'), ObjectId('66b0319ca162d7e96f89ae18'), ObjectId('66b0319ca162d7e96f89ae19'), ObjectId('66b0319ca162d7e96f89ae1a'), ObjectId('66b0319ca162d7e96f89ae1b'), ObjectId('66b0319ca162d7e96f89ae1c'), ObjectId('66b0319ca162d7e96f89ae1d'), ObjectId('66b0319ca162d7e96f89ae1e'), ObjectId('66b0319ca162d7e96f89ae1f'), ObjectId('66b0319ca162d7e96f89ae20'), ObjectId('66b0319ca162d7e96f89ae21'), ObjectId('66b0319ca162d7e96f89ae22'), ObjectId('66b0319ca162d7e96f89ae23'), ObjectId('66b0319ca162d7e96f89ae24'), ObjectId('66b0319ca162d7e96f89ae25'), ObjectId('66b0319ca162d7e96f89ae26'), ObjectId('66b0319ca162d7e96f89ae27'), ObjectId('66b0319ca162d7e96f89ae28'), ObjectId('66b0319ca162d7e96f89ae29'), ObjectId('66b0319ca162d7e96f89ae2a'), ObjectId('66b0319ca162d7e96f89ae2b'), ObjectId('66b0319ca162d7e96f89ae2c'), ObjectId('66b0319ca162d7e96f89ae2d'), ObjectId('66b0319ca162d7e96f89ae2e'), ObjectId('66b0319ca162d7e96f89ae2f'), ObjectId('66b0319ca162d7e96f89ae30'), ObjectId('66b0319ca162d7e96f89ae31'), ObjectId('66b0319ca162d7e96f89ae32'), ObjectId('66b0319ca162d7e96f89ae33'), ObjectId('66b0319ca162d7e96f89ae34'), ObjectId('66b0319ca162d7e96f89ae35'), ObjectId('66b0319ca162d7e96f89ae36'), ObjectId('66b0319ca162d7e96f89ae37'), ObjectId('66b0319ca162d7e96f89ae38'), ObjectId('66b0319ca162d7e96f89ae39'), ObjectId('66b0319ca162d7e96f89ae3a'), ObjectId('66b0319ca162d7e96f89ae3b'), ObjectId('66b0319ca162d7e96f89ae3c'), ObjectId('66b0319ca162d7e96f89ae3d'), ObjectId('66b0319ca162d7e96f89ae3e'), ObjectId('66b0319ca162d7e96f89ae3f'), ObjectId('66b0319ca162d7e96f89ae40'), ObjectId('66b0319ca162d7e96f89ae41'), ObjectId('66b0319ca162d7e96f89ae42'), ObjectId('66b0319ca162d7e96f89ae43'), ObjectId('66b0319ca162d7e96f89ae44'), ObjectId('66b0319ca162d7e96f89ae45'), ObjectId('66b0319ca162d7e96f89ae46'), ObjectId('66b0319ca162d7e96f89ae47'), ObjectId('66b0319ca162d7e96f89ae48'), ObjectId('66b0319ca162d7e96f89ae49'), ObjectId('66b0319ca162d7e96f89ae4a'), ObjectId('66b0319ca162d7e96f89ae4b'), ObjectId('66b0319ca162d7e96f89ae4c'), ObjectId('66b0319ca162d7e96f89ae4d'), ObjectId('66b0319ca162d7e96f89ae4e'), ObjectId('66b0319ca162d7e96f89ae4f'), ObjectId('66b0319ca162d7e96f89ae50'), ObjectId('66b0319ca162d7e96f89ae51'), ObjectId('66b0319ca162d7e96f89ae52'), ObjectId('66b0319ca162d7e96f89ae53'), ObjectId('66b0319ca162d7e96f89ae54'), ObjectId('66b0319ca162d7e96f89ae55'), ObjectId('66b0319ca162d7e96f89ae56'), ObjectId('66b0319ca162d7e96f89ae57'), ObjectId('66b0319ca162d7e96f89ae58'), ObjectId('66b0319ca162d7e96f89ae59'), ObjectId('66b0319ca162d7e96f89ae5a'), ObjectId('66b0319ca162d7e96f89ae5b'), ObjectId('66b0319ca162d7e96f89ae5c'), ObjectId('66b0319ca162d7e96f89ae5d'), ObjectId('66b0319ca162d7e96f89ae5e'), ObjectId('66b0319ca162d7e96f89ae5f'), ObjectId('66b0319ca162d7e96f89ae60'), ObjectId('66b0319ca162d7e96f89ae61'), ObjectId('66b0319ca162d7e96f89ae62'), ObjectId('66b0319ca162d7e96f89ae63'), ObjectId('66b0319ca162d7e96f89ae64'), ObjectId('66b0319ca162d7e96f89ae65'), ObjectId('66b0319ca162d7e96f89ae66'), ObjectId('66b0319ca162d7e96f89ae67'), ObjectId('66b0319ca162d7e96f89ae68'), ObjectId('66b0319ca162d7e96f89ae69'), ObjectId('66b0319ca162d7e96f89ae6a'), ObjectId('66b0319ca162d7e96f89ae6b'), ObjectId('66b0319ca162d7e96f89ae6c'), ObjectId('66b0319ca162d7e96f89ae6d'), ObjectId('66b0319ca162d7e96f89ae6e'), ObjectId('66b0319ca162d7e96f89ae6f'), ObjectId('66b0319ca162d7e96f89ae70'), ObjectId('66b0319ca162d7e96f89ae71'), ObjectId('66b0319ca162d7e96f89ae72'), ObjectId('66b0319ca162d7e96f89ae73'), ObjectId('66b0319ca162d7e96f89ae74'), ObjectId('66b0319ca162d7e96f89ae75'), ObjectId('66b0319ca162d7e96f89ae76'), ObjectId('66b0319ca162d7e96f89ae77'), ObjectId('66b0319ca162d7e96f89ae78'), ObjectId('66b0319ca162d7e96f89ae79'), ObjectId('66b0319ca162d7e96f89ae7a'), ObjectId('66b0319ca162d7e96f89ae7b'), ObjectId('66b0319ca162d7e96f89ae7c'), ObjectId('66b0319ca162d7e96f89ae7d'), ObjectId('66b0319ca162d7e96f89ae7e'), ObjectId('66b0319ca162d7e96f89ae7f'), ObjectId('66b0319ca162d7e96f89ae80'), ObjectId('66b0319ca162d7e96f89ae81'), ObjectId('66b0319ca162d7e96f89ae82'), ObjectId('66b0319ca162d7e96f89ae83'), ObjectId('66b0319ca162d7e96f89ae84'), ObjectId('66b0319ca162d7e96f89ae85'), ObjectId('66b0319ca162d7e96f89ae86'), ObjectId('66b0319ca162d7e96f89ae87'), ObjectId('66b0319ca162d7e96f89ae88'), ObjectId('66b0319ca162d7e96f89ae89'), ObjectId('66b0319ca162d7e96f89ae8a'), ObjectId('66b0319ca162d7e96f89ae8b'), ObjectId('66b0319ca162d7e96f89ae8c'), ObjectId('66b0319ca162d7e96f89ae8d'), ObjectId('66b0319ca162d7e96f89ae8e'), ObjectId('66b0319ca162d7e96f89ae8f'), ObjectId('66b0319ca162d7e96f89ae90'), ObjectId('66b0319ca162d7e96f89ae91'), ObjectId('66b0319ca162d7e96f89ae92'), ObjectId('66b0319ca162d7e96f89ae93'), ObjectId('66b0319ca162d7e96f89ae94'), ObjectId('66b0319ca162d7e96f89ae95'), ObjectId('66b0319ca162d7e96f89ae96'), ObjectId('66b0319ca162d7e96f89ae97'), ObjectId('66b0319ca162d7e96f89ae98'), ObjectId('66b0319ca162d7e96f89ae99'), ObjectId('66b0319ca162d7e96f89ae9a'), ObjectId('66b0319ca162d7e96f89ae9b'), ObjectId('66b0319ca162d7e96f89ae9c'), ObjectId('66b0319ca162d7e96f89ae9d')], acknowledged=True)"
      ]
     },
     "execution_count": 149,
     "metadata": {},
     "output_type": "execute_result"
    }
   ],
   "source": [
    "# Insert data into MongoDB collection\n",
    "collection.insert_many(data_dict)"
   ]
  },
  {
   "cell_type": "code",
   "execution_count": 150,
   "id": "f5909829-3036-48f4-8276-93dba4f54151",
   "metadata": {},
   "outputs": [],
   "source": [
    "# Query the MongoDB collection\n",
    "query_result = collection.find().limit(5)\n",
    "query_result_df = pd.DataFrame(list(query_result))"
   ]
  },
  {
   "cell_type": "code",
   "execution_count": 151,
   "id": "ae01e835-2f55-4537-b68e-1fb4801e6c4b",
   "metadata": {},
   "outputs": [
    {
     "name": "stdout",
     "output_type": "stream",
     "text": [
      "\n",
      "Query result from the MongoDB collection:\n",
      "                        _id  Pregnancies   Glucose  BloodPressure  \\\n",
      "0  66b0319ca162d7e96f89ab9e     0.639947  0.866045      -0.031990   \n",
      "1  66b0319ca162d7e96f89ab9f    -0.844885 -1.205066      -0.528319   \n",
      "2  66b0319ca162d7e96f89aba0     1.233880  2.016662      -0.693761   \n",
      "3  66b0319ca162d7e96f89aba1    -0.844885 -1.073567      -0.528319   \n",
      "4  66b0319ca162d7e96f89aba2    -1.141852  0.504422      -2.679076   \n",
      "\n",
      "   SkinThickness   Insulin       BMI  DiabetesPedigreeFunction       Age  \\\n",
      "0       0.670643 -0.181541  0.166619                  0.468492  1.425995   \n",
      "1      -0.012301 -0.181541 -0.852200                 -0.365061 -0.190672   \n",
      "2      -0.012301 -0.181541 -1.332500                  0.604397 -0.105584   \n",
      "3      -0.695245 -0.540642 -0.633881                 -0.920763 -1.041549   \n",
      "4       0.670643  0.316566  1.549303                  5.484909 -0.020496   \n",
      "\n",
      "   Class  \n",
      "0      1  \n",
      "1      0  \n",
      "2      1  \n",
      "3      0  \n",
      "4      1  \n"
     ]
    }
   ],
   "source": [
    "print(\"\\nQuery result from the MongoDB collection:\")\n",
    "print(query_result_df)"
   ]
  },
  {
   "cell_type": "code",
   "execution_count": 152,
   "id": "54fdc844-c52c-4b7c-9c99-6880ee63fa3c",
   "metadata": {},
   "outputs": [],
   "source": [
    "# Close the connection\n",
    "client.close()"
   ]
  },
  {
   "cell_type": "code",
   "execution_count": 1,
   "id": "5af8ebe4-a166-4188-bc21-2a9809269921",
   "metadata": {},
   "outputs": [],
   "source": [
    "#G"
   ]
  },
  {
   "cell_type": "code",
   "execution_count": 5,
   "id": "48c84136-0995-460b-846d-db8bc22976f0",
   "metadata": {},
   "outputs": [],
   "source": [
    "import pandas as pd\n",
    "from pymongo import MongoClient\n",
    "from sklearn.preprocessing import StandardScaler"
   ]
  },
  {
   "cell_type": "code",
   "execution_count": 6,
   "id": "3b052cad-3b60-4879-83d4-ac028220b8ba",
   "metadata": {},
   "outputs": [],
   "source": [
    "# Load the dataset\n",
    "df = pd.read_csv('pima-indians-diabetes.csv')"
   ]
  },
  {
   "cell_type": "code",
   "execution_count": 7,
   "id": "a3fd4219-a8fc-4d46-9cce-1feb4762eaba",
   "metadata": {},
   "outputs": [
    {
     "name": "stdout",
     "output_type": "stream",
     "text": [
      "First few rows of the dataset:\n",
      "   Pregnancies  Glucose  BloodPressure  SkinThickness  Insulin   BMI  \\\n",
      "0            6      148             72             35        0  33.6   \n",
      "1            1       85             66             29        0  26.6   \n",
      "\n",
      "   DiabetesPedigreeFunction  Age  Class  \n",
      "0                     0.627   50      1  \n",
      "1                     0.351   31      0  \n"
     ]
    }
   ],
   "source": [
    "# Display the first few rows and check for missing values\n",
    "print(\"First few rows of the dataset:\")\n",
    "print(df.head(2))\n"
   ]
  },
  {
   "cell_type": "code",
   "execution_count": 8,
   "id": "cdb558cb-2ce5-42c8-9662-4fc347e08cc6",
   "metadata": {},
   "outputs": [],
   "source": [
    "# Replace zeros with NaN for columns where zeros are invalid\n",
    "columns_with_zeros = ['Glucose', 'BloodPressure', 'SkinThickness', 'Insulin', 'BMI']\n",
    "df[columns_with_zeros] = df[columns_with_zeros].replace(0, pd.NA)\n"
   ]
  },
  {
   "cell_type": "code",
   "execution_count": 19,
   "id": "ea7198ee-07a4-450f-98a3-d4ef89af84df",
   "metadata": {},
   "outputs": [],
   "source": [
    "# Impute missing values with the median for numeric columns only\n",
    "numeric_cols = df.columns[df.columns != 'Class']\n",
    "df[numeric_cols] = df[numeric_cols].fillna(df[numeric_cols].median())"
   ]
  },
  {
   "cell_type": "code",
   "execution_count": 10,
   "id": "d1ff65bb-6266-4059-ae4d-99ad15779078",
   "metadata": {},
   "outputs": [],
   "source": [
    "# Convert 'Class' column to categorical type\n",
    "df['Class'] = df['Class'].astype('category')\n"
   ]
  },
  {
   "cell_type": "code",
   "execution_count": 11,
   "id": "a624a410-f82e-4eb1-ba72-afbd3403decb",
   "metadata": {},
   "outputs": [],
   "source": [
    "# Normalize numeric columns, excluding 'Class'\n",
    "scaler = StandardScaler()\n",
    "df[numeric_cols] = scaler.fit_transform(df[numeric_cols])"
   ]
  },
  {
   "cell_type": "code",
   "execution_count": 12,
   "id": "8bf2ae0e-90c4-42e2-b79c-6e6e212a6e88",
   "metadata": {},
   "outputs": [
    {
     "name": "stdout",
     "output_type": "stream",
     "text": [
      "\n",
      "Cleaned dataset:\n",
      "   Pregnancies   Glucose  BloodPressure  SkinThickness   Insulin       BMI  \\\n",
      "0     0.639947  0.866045      -0.031990       0.670643 -0.181541  0.166619   \n",
      "1    -0.844885 -1.205066      -0.528319      -0.012301 -0.181541 -0.852200   \n",
      "\n",
      "   DiabetesPedigreeFunction       Age Class  \n",
      "0                  0.468492  1.425995     1  \n",
      "1                 -0.365061 -0.190672     0  \n"
     ]
    }
   ],
   "source": [
    "# Verify the cleaned and tidied dataset\n",
    "print(\"\\nCleaned dataset:\")\n",
    "print(df.head(2))\n"
   ]
  },
  {
   "cell_type": "code",
   "execution_count": 13,
   "id": "920669c5-c8f6-4a47-9134-aedad76d6750",
   "metadata": {},
   "outputs": [],
   "source": [
    "# Establish connection to MongoDB\n",
    "client = MongoClient('mongodb://localhost:27017/')\n",
    "db = client['diabetes_db']\n",
    "collection = db['diabetes_data']"
   ]
  },
  {
   "cell_type": "code",
   "execution_count": 14,
   "id": "f1b441f6-9927-4b22-ab5d-5f27a3418798",
   "metadata": {},
   "outputs": [],
   "source": [
    "# Convert DataFrame to dictionary format\n",
    "data_dict = df.to_dict(orient='records')"
   ]
  },
  {
   "cell_type": "code",
   "execution_count": 15,
   "id": "2b08d297-45a0-4a88-92fa-d124a6f920ae",
   "metadata": {},
   "outputs": [
    {
     "data": {
      "text/plain": [
       "InsertManyResult([ObjectId('66b43417661fb61774e05931'), ObjectId('66b43417661fb61774e05932'), ObjectId('66b43417661fb61774e05933'), ObjectId('66b43417661fb61774e05934'), ObjectId('66b43417661fb61774e05935'), ObjectId('66b43417661fb61774e05936'), ObjectId('66b43417661fb61774e05937'), ObjectId('66b43417661fb61774e05938'), ObjectId('66b43417661fb61774e05939'), ObjectId('66b43417661fb61774e0593a'), ObjectId('66b43417661fb61774e0593b'), ObjectId('66b43417661fb61774e0593c'), ObjectId('66b43417661fb61774e0593d'), ObjectId('66b43417661fb61774e0593e'), ObjectId('66b43417661fb61774e0593f'), ObjectId('66b43417661fb61774e05940'), ObjectId('66b43417661fb61774e05941'), ObjectId('66b43417661fb61774e05942'), ObjectId('66b43417661fb61774e05943'), ObjectId('66b43417661fb61774e05944'), ObjectId('66b43417661fb61774e05945'), ObjectId('66b43417661fb61774e05946'), ObjectId('66b43417661fb61774e05947'), ObjectId('66b43417661fb61774e05948'), ObjectId('66b43417661fb61774e05949'), ObjectId('66b43417661fb61774e0594a'), ObjectId('66b43417661fb61774e0594b'), ObjectId('66b43417661fb61774e0594c'), ObjectId('66b43417661fb61774e0594d'), ObjectId('66b43417661fb61774e0594e'), ObjectId('66b43417661fb61774e0594f'), ObjectId('66b43417661fb61774e05950'), ObjectId('66b43417661fb61774e05951'), ObjectId('66b43417661fb61774e05952'), ObjectId('66b43417661fb61774e05953'), ObjectId('66b43417661fb61774e05954'), ObjectId('66b43417661fb61774e05955'), ObjectId('66b43417661fb61774e05956'), ObjectId('66b43417661fb61774e05957'), ObjectId('66b43417661fb61774e05958'), ObjectId('66b43417661fb61774e05959'), ObjectId('66b43417661fb61774e0595a'), ObjectId('66b43417661fb61774e0595b'), ObjectId('66b43417661fb61774e0595c'), ObjectId('66b43417661fb61774e0595d'), ObjectId('66b43417661fb61774e0595e'), ObjectId('66b43417661fb61774e0595f'), ObjectId('66b43417661fb61774e05960'), ObjectId('66b43417661fb61774e05961'), ObjectId('66b43417661fb61774e05962'), ObjectId('66b43417661fb61774e05963'), ObjectId('66b43417661fb61774e05964'), ObjectId('66b43417661fb61774e05965'), ObjectId('66b43417661fb61774e05966'), ObjectId('66b43417661fb61774e05967'), ObjectId('66b43417661fb61774e05968'), ObjectId('66b43417661fb61774e05969'), ObjectId('66b43417661fb61774e0596a'), ObjectId('66b43417661fb61774e0596b'), ObjectId('66b43417661fb61774e0596c'), ObjectId('66b43417661fb61774e0596d'), ObjectId('66b43417661fb61774e0596e'), ObjectId('66b43417661fb61774e0596f'), ObjectId('66b43417661fb61774e05970'), ObjectId('66b43417661fb61774e05971'), ObjectId('66b43417661fb61774e05972'), ObjectId('66b43417661fb61774e05973'), ObjectId('66b43417661fb61774e05974'), ObjectId('66b43417661fb61774e05975'), ObjectId('66b43417661fb61774e05976'), ObjectId('66b43417661fb61774e05977'), ObjectId('66b43417661fb61774e05978'), ObjectId('66b43417661fb61774e05979'), ObjectId('66b43417661fb61774e0597a'), ObjectId('66b43417661fb61774e0597b'), ObjectId('66b43417661fb61774e0597c'), ObjectId('66b43417661fb61774e0597d'), ObjectId('66b43417661fb61774e0597e'), ObjectId('66b43417661fb61774e0597f'), ObjectId('66b43417661fb61774e05980'), ObjectId('66b43417661fb61774e05981'), ObjectId('66b43417661fb61774e05982'), ObjectId('66b43417661fb61774e05983'), ObjectId('66b43417661fb61774e05984'), ObjectId('66b43417661fb61774e05985'), ObjectId('66b43417661fb61774e05986'), ObjectId('66b43417661fb61774e05987'), ObjectId('66b43417661fb61774e05988'), ObjectId('66b43417661fb61774e05989'), ObjectId('66b43417661fb61774e0598a'), ObjectId('66b43417661fb61774e0598b'), ObjectId('66b43417661fb61774e0598c'), ObjectId('66b43417661fb61774e0598d'), ObjectId('66b43417661fb61774e0598e'), ObjectId('66b43417661fb61774e0598f'), ObjectId('66b43417661fb61774e05990'), ObjectId('66b43417661fb61774e05991'), ObjectId('66b43417661fb61774e05992'), ObjectId('66b43417661fb61774e05993'), ObjectId('66b43417661fb61774e05994'), ObjectId('66b43417661fb61774e05995'), ObjectId('66b43417661fb61774e05996'), ObjectId('66b43417661fb61774e05997'), ObjectId('66b43417661fb61774e05998'), ObjectId('66b43417661fb61774e05999'), ObjectId('66b43417661fb61774e0599a'), ObjectId('66b43417661fb61774e0599b'), ObjectId('66b43417661fb61774e0599c'), ObjectId('66b43417661fb61774e0599d'), ObjectId('66b43417661fb61774e0599e'), ObjectId('66b43417661fb61774e0599f'), ObjectId('66b43417661fb61774e059a0'), ObjectId('66b43417661fb61774e059a1'), ObjectId('66b43417661fb61774e059a2'), ObjectId('66b43417661fb61774e059a3'), ObjectId('66b43417661fb61774e059a4'), ObjectId('66b43417661fb61774e059a5'), ObjectId('66b43417661fb61774e059a6'), ObjectId('66b43417661fb61774e059a7'), ObjectId('66b43417661fb61774e059a8'), ObjectId('66b43417661fb61774e059a9'), ObjectId('66b43417661fb61774e059aa'), ObjectId('66b43417661fb61774e059ab'), ObjectId('66b43417661fb61774e059ac'), ObjectId('66b43417661fb61774e059ad'), ObjectId('66b43417661fb61774e059ae'), ObjectId('66b43417661fb61774e059af'), ObjectId('66b43417661fb61774e059b0'), ObjectId('66b43417661fb61774e059b1'), ObjectId('66b43417661fb61774e059b2'), ObjectId('66b43417661fb61774e059b3'), ObjectId('66b43417661fb61774e059b4'), ObjectId('66b43417661fb61774e059b5'), ObjectId('66b43417661fb61774e059b6'), ObjectId('66b43417661fb61774e059b7'), ObjectId('66b43417661fb61774e059b8'), ObjectId('66b43417661fb61774e059b9'), ObjectId('66b43417661fb61774e059ba'), ObjectId('66b43417661fb61774e059bb'), ObjectId('66b43417661fb61774e059bc'), ObjectId('66b43417661fb61774e059bd'), ObjectId('66b43417661fb61774e059be'), ObjectId('66b43417661fb61774e059bf'), ObjectId('66b43417661fb61774e059c0'), ObjectId('66b43417661fb61774e059c1'), ObjectId('66b43417661fb61774e059c2'), ObjectId('66b43417661fb61774e059c3'), ObjectId('66b43417661fb61774e059c4'), ObjectId('66b43417661fb61774e059c5'), ObjectId('66b43417661fb61774e059c6'), ObjectId('66b43417661fb61774e059c7'), ObjectId('66b43417661fb61774e059c8'), ObjectId('66b43417661fb61774e059c9'), ObjectId('66b43417661fb61774e059ca'), ObjectId('66b43417661fb61774e059cb'), ObjectId('66b43417661fb61774e059cc'), ObjectId('66b43417661fb61774e059cd'), ObjectId('66b43417661fb61774e059ce'), ObjectId('66b43417661fb61774e059cf'), ObjectId('66b43417661fb61774e059d0'), ObjectId('66b43417661fb61774e059d1'), ObjectId('66b43417661fb61774e059d2'), ObjectId('66b43417661fb61774e059d3'), ObjectId('66b43417661fb61774e059d4'), ObjectId('66b43417661fb61774e059d5'), ObjectId('66b43417661fb61774e059d6'), ObjectId('66b43417661fb61774e059d7'), ObjectId('66b43417661fb61774e059d8'), ObjectId('66b43417661fb61774e059d9'), ObjectId('66b43417661fb61774e059da'), ObjectId('66b43417661fb61774e059db'), ObjectId('66b43417661fb61774e059dc'), ObjectId('66b43417661fb61774e059dd'), ObjectId('66b43417661fb61774e059de'), ObjectId('66b43417661fb61774e059df'), ObjectId('66b43417661fb61774e059e0'), ObjectId('66b43417661fb61774e059e1'), ObjectId('66b43417661fb61774e059e2'), ObjectId('66b43417661fb61774e059e3'), ObjectId('66b43417661fb61774e059e4'), ObjectId('66b43417661fb61774e059e5'), ObjectId('66b43417661fb61774e059e6'), ObjectId('66b43417661fb61774e059e7'), ObjectId('66b43417661fb61774e059e8'), ObjectId('66b43417661fb61774e059e9'), ObjectId('66b43417661fb61774e059ea'), ObjectId('66b43417661fb61774e059eb'), ObjectId('66b43417661fb61774e059ec'), ObjectId('66b43417661fb61774e059ed'), ObjectId('66b43417661fb61774e059ee'), ObjectId('66b43417661fb61774e059ef'), ObjectId('66b43417661fb61774e059f0'), ObjectId('66b43417661fb61774e059f1'), ObjectId('66b43417661fb61774e059f2'), ObjectId('66b43417661fb61774e059f3'), ObjectId('66b43417661fb61774e059f4'), ObjectId('66b43417661fb61774e059f5'), ObjectId('66b43417661fb61774e059f6'), ObjectId('66b43417661fb61774e059f7'), ObjectId('66b43417661fb61774e059f8'), ObjectId('66b43417661fb61774e059f9'), ObjectId('66b43417661fb61774e059fa'), ObjectId('66b43417661fb61774e059fb'), ObjectId('66b43417661fb61774e059fc'), ObjectId('66b43417661fb61774e059fd'), ObjectId('66b43417661fb61774e059fe'), ObjectId('66b43417661fb61774e059ff'), ObjectId('66b43417661fb61774e05a00'), ObjectId('66b43417661fb61774e05a01'), ObjectId('66b43417661fb61774e05a02'), ObjectId('66b43417661fb61774e05a03'), ObjectId('66b43417661fb61774e05a04'), ObjectId('66b43417661fb61774e05a05'), ObjectId('66b43417661fb61774e05a06'), ObjectId('66b43417661fb61774e05a07'), ObjectId('66b43417661fb61774e05a08'), ObjectId('66b43417661fb61774e05a09'), ObjectId('66b43417661fb61774e05a0a'), ObjectId('66b43417661fb61774e05a0b'), ObjectId('66b43417661fb61774e05a0c'), ObjectId('66b43417661fb61774e05a0d'), ObjectId('66b43417661fb61774e05a0e'), ObjectId('66b43417661fb61774e05a0f'), ObjectId('66b43417661fb61774e05a10'), ObjectId('66b43417661fb61774e05a11'), ObjectId('66b43417661fb61774e05a12'), ObjectId('66b43417661fb61774e05a13'), ObjectId('66b43417661fb61774e05a14'), ObjectId('66b43417661fb61774e05a15'), ObjectId('66b43417661fb61774e05a16'), ObjectId('66b43417661fb61774e05a17'), ObjectId('66b43417661fb61774e05a18'), ObjectId('66b43417661fb61774e05a19'), ObjectId('66b43417661fb61774e05a1a'), ObjectId('66b43417661fb61774e05a1b'), ObjectId('66b43417661fb61774e05a1c'), ObjectId('66b43417661fb61774e05a1d'), ObjectId('66b43417661fb61774e05a1e'), ObjectId('66b43417661fb61774e05a1f'), ObjectId('66b43417661fb61774e05a20'), ObjectId('66b43417661fb61774e05a21'), ObjectId('66b43417661fb61774e05a22'), ObjectId('66b43417661fb61774e05a23'), ObjectId('66b43417661fb61774e05a24'), ObjectId('66b43417661fb61774e05a25'), ObjectId('66b43417661fb61774e05a26'), ObjectId('66b43417661fb61774e05a27'), ObjectId('66b43417661fb61774e05a28'), ObjectId('66b43417661fb61774e05a29'), ObjectId('66b43417661fb61774e05a2a'), ObjectId('66b43417661fb61774e05a2b'), ObjectId('66b43417661fb61774e05a2c'), ObjectId('66b43417661fb61774e05a2d'), ObjectId('66b43417661fb61774e05a2e'), ObjectId('66b43417661fb61774e05a2f'), ObjectId('66b43417661fb61774e05a30'), ObjectId('66b43417661fb61774e05a31'), ObjectId('66b43417661fb61774e05a32'), ObjectId('66b43417661fb61774e05a33'), ObjectId('66b43417661fb61774e05a34'), ObjectId('66b43417661fb61774e05a35'), ObjectId('66b43417661fb61774e05a36'), ObjectId('66b43417661fb61774e05a37'), ObjectId('66b43417661fb61774e05a38'), ObjectId('66b43417661fb61774e05a39'), ObjectId('66b43417661fb61774e05a3a'), ObjectId('66b43417661fb61774e05a3b'), ObjectId('66b43417661fb61774e05a3c'), ObjectId('66b43417661fb61774e05a3d'), ObjectId('66b43417661fb61774e05a3e'), ObjectId('66b43417661fb61774e05a3f'), ObjectId('66b43417661fb61774e05a40'), ObjectId('66b43417661fb61774e05a41'), ObjectId('66b43417661fb61774e05a42'), ObjectId('66b43417661fb61774e05a43'), ObjectId('66b43417661fb61774e05a44'), ObjectId('66b43417661fb61774e05a45'), ObjectId('66b43417661fb61774e05a46'), ObjectId('66b43417661fb61774e05a47'), ObjectId('66b43417661fb61774e05a48'), ObjectId('66b43417661fb61774e05a49'), ObjectId('66b43417661fb61774e05a4a'), ObjectId('66b43417661fb61774e05a4b'), ObjectId('66b43417661fb61774e05a4c'), ObjectId('66b43417661fb61774e05a4d'), ObjectId('66b43417661fb61774e05a4e'), ObjectId('66b43417661fb61774e05a4f'), ObjectId('66b43417661fb61774e05a50'), ObjectId('66b43417661fb61774e05a51'), ObjectId('66b43417661fb61774e05a52'), ObjectId('66b43417661fb61774e05a53'), ObjectId('66b43417661fb61774e05a54'), ObjectId('66b43417661fb61774e05a55'), ObjectId('66b43417661fb61774e05a56'), ObjectId('66b43417661fb61774e05a57'), ObjectId('66b43417661fb61774e05a58'), ObjectId('66b43417661fb61774e05a59'), ObjectId('66b43417661fb61774e05a5a'), ObjectId('66b43417661fb61774e05a5b'), ObjectId('66b43417661fb61774e05a5c'), ObjectId('66b43417661fb61774e05a5d'), ObjectId('66b43417661fb61774e05a5e'), ObjectId('66b43417661fb61774e05a5f'), ObjectId('66b43417661fb61774e05a60'), ObjectId('66b43417661fb61774e05a61'), ObjectId('66b43417661fb61774e05a62'), ObjectId('66b43417661fb61774e05a63'), ObjectId('66b43417661fb61774e05a64'), ObjectId('66b43417661fb61774e05a65'), ObjectId('66b43417661fb61774e05a66'), ObjectId('66b43417661fb61774e05a67'), ObjectId('66b43417661fb61774e05a68'), ObjectId('66b43417661fb61774e05a69'), ObjectId('66b43417661fb61774e05a6a'), ObjectId('66b43417661fb61774e05a6b'), ObjectId('66b43417661fb61774e05a6c'), ObjectId('66b43417661fb61774e05a6d'), ObjectId('66b43417661fb61774e05a6e'), ObjectId('66b43417661fb61774e05a6f'), ObjectId('66b43417661fb61774e05a70'), ObjectId('66b43417661fb61774e05a71'), ObjectId('66b43417661fb61774e05a72'), ObjectId('66b43417661fb61774e05a73'), ObjectId('66b43417661fb61774e05a74'), ObjectId('66b43417661fb61774e05a75'), ObjectId('66b43417661fb61774e05a76'), ObjectId('66b43417661fb61774e05a77'), ObjectId('66b43417661fb61774e05a78'), ObjectId('66b43417661fb61774e05a79'), ObjectId('66b43417661fb61774e05a7a'), ObjectId('66b43417661fb61774e05a7b'), ObjectId('66b43417661fb61774e05a7c'), ObjectId('66b43417661fb61774e05a7d'), ObjectId('66b43417661fb61774e05a7e'), ObjectId('66b43417661fb61774e05a7f'), ObjectId('66b43417661fb61774e05a80'), ObjectId('66b43417661fb61774e05a81'), ObjectId('66b43417661fb61774e05a82'), ObjectId('66b43417661fb61774e05a83'), ObjectId('66b43417661fb61774e05a84'), ObjectId('66b43417661fb61774e05a85'), ObjectId('66b43417661fb61774e05a86'), ObjectId('66b43417661fb61774e05a87'), ObjectId('66b43417661fb61774e05a88'), ObjectId('66b43417661fb61774e05a89'), ObjectId('66b43417661fb61774e05a8a'), ObjectId('66b43417661fb61774e05a8b'), ObjectId('66b43417661fb61774e05a8c'), ObjectId('66b43417661fb61774e05a8d'), ObjectId('66b43417661fb61774e05a8e'), ObjectId('66b43417661fb61774e05a8f'), ObjectId('66b43417661fb61774e05a90'), ObjectId('66b43417661fb61774e05a91'), ObjectId('66b43417661fb61774e05a92'), ObjectId('66b43417661fb61774e05a93'), ObjectId('66b43417661fb61774e05a94'), ObjectId('66b43417661fb61774e05a95'), ObjectId('66b43417661fb61774e05a96'), ObjectId('66b43417661fb61774e05a97'), ObjectId('66b43417661fb61774e05a98'), ObjectId('66b43417661fb61774e05a99'), ObjectId('66b43417661fb61774e05a9a'), ObjectId('66b43417661fb61774e05a9b'), ObjectId('66b43417661fb61774e05a9c'), ObjectId('66b43417661fb61774e05a9d'), ObjectId('66b43417661fb61774e05a9e'), ObjectId('66b43417661fb61774e05a9f'), ObjectId('66b43417661fb61774e05aa0'), ObjectId('66b43417661fb61774e05aa1'), ObjectId('66b43417661fb61774e05aa2'), ObjectId('66b43417661fb61774e05aa3'), ObjectId('66b43417661fb61774e05aa4'), ObjectId('66b43417661fb61774e05aa5'), ObjectId('66b43417661fb61774e05aa6'), ObjectId('66b43417661fb61774e05aa7'), ObjectId('66b43417661fb61774e05aa8'), ObjectId('66b43417661fb61774e05aa9'), ObjectId('66b43417661fb61774e05aaa'), ObjectId('66b43417661fb61774e05aab'), ObjectId('66b43417661fb61774e05aac'), ObjectId('66b43417661fb61774e05aad'), ObjectId('66b43417661fb61774e05aae'), ObjectId('66b43417661fb61774e05aaf'), ObjectId('66b43417661fb61774e05ab0'), ObjectId('66b43417661fb61774e05ab1'), ObjectId('66b43417661fb61774e05ab2'), ObjectId('66b43417661fb61774e05ab3'), ObjectId('66b43417661fb61774e05ab4'), ObjectId('66b43417661fb61774e05ab5'), ObjectId('66b43417661fb61774e05ab6'), ObjectId('66b43417661fb61774e05ab7'), ObjectId('66b43417661fb61774e05ab8'), ObjectId('66b43417661fb61774e05ab9'), ObjectId('66b43417661fb61774e05aba'), ObjectId('66b43417661fb61774e05abb'), ObjectId('66b43417661fb61774e05abc'), ObjectId('66b43417661fb61774e05abd'), ObjectId('66b43417661fb61774e05abe'), ObjectId('66b43417661fb61774e05abf'), ObjectId('66b43417661fb61774e05ac0'), ObjectId('66b43417661fb61774e05ac1'), ObjectId('66b43417661fb61774e05ac2'), ObjectId('66b43417661fb61774e05ac3'), ObjectId('66b43417661fb61774e05ac4'), ObjectId('66b43417661fb61774e05ac5'), ObjectId('66b43417661fb61774e05ac6'), ObjectId('66b43417661fb61774e05ac7'), ObjectId('66b43417661fb61774e05ac8'), ObjectId('66b43417661fb61774e05ac9'), ObjectId('66b43417661fb61774e05aca'), ObjectId('66b43417661fb61774e05acb'), ObjectId('66b43417661fb61774e05acc'), ObjectId('66b43417661fb61774e05acd'), ObjectId('66b43417661fb61774e05ace'), ObjectId('66b43417661fb61774e05acf'), ObjectId('66b43417661fb61774e05ad0'), ObjectId('66b43417661fb61774e05ad1'), ObjectId('66b43417661fb61774e05ad2'), ObjectId('66b43417661fb61774e05ad3'), ObjectId('66b43417661fb61774e05ad4'), ObjectId('66b43417661fb61774e05ad5'), ObjectId('66b43417661fb61774e05ad6'), ObjectId('66b43417661fb61774e05ad7'), ObjectId('66b43417661fb61774e05ad8'), ObjectId('66b43417661fb61774e05ad9'), ObjectId('66b43417661fb61774e05ada'), ObjectId('66b43417661fb61774e05adb'), ObjectId('66b43417661fb61774e05adc'), ObjectId('66b43417661fb61774e05add'), ObjectId('66b43417661fb61774e05ade'), ObjectId('66b43417661fb61774e05adf'), ObjectId('66b43417661fb61774e05ae0'), ObjectId('66b43417661fb61774e05ae1'), ObjectId('66b43417661fb61774e05ae2'), ObjectId('66b43417661fb61774e05ae3'), ObjectId('66b43417661fb61774e05ae4'), ObjectId('66b43417661fb61774e05ae5'), ObjectId('66b43417661fb61774e05ae6'), ObjectId('66b43417661fb61774e05ae7'), ObjectId('66b43417661fb61774e05ae8'), ObjectId('66b43417661fb61774e05ae9'), ObjectId('66b43417661fb61774e05aea'), ObjectId('66b43417661fb61774e05aeb'), ObjectId('66b43417661fb61774e05aec'), ObjectId('66b43417661fb61774e05aed'), ObjectId('66b43417661fb61774e05aee'), ObjectId('66b43417661fb61774e05aef'), ObjectId('66b43417661fb61774e05af0'), ObjectId('66b43417661fb61774e05af1'), ObjectId('66b43417661fb61774e05af2'), ObjectId('66b43417661fb61774e05af3'), ObjectId('66b43417661fb61774e05af4'), ObjectId('66b43417661fb61774e05af5'), ObjectId('66b43417661fb61774e05af6'), ObjectId('66b43417661fb61774e05af7'), ObjectId('66b43417661fb61774e05af8'), ObjectId('66b43417661fb61774e05af9'), ObjectId('66b43417661fb61774e05afa'), ObjectId('66b43417661fb61774e05afb'), ObjectId('66b43417661fb61774e05afc'), ObjectId('66b43417661fb61774e05afd'), ObjectId('66b43417661fb61774e05afe'), ObjectId('66b43417661fb61774e05aff'), ObjectId('66b43417661fb61774e05b00'), ObjectId('66b43417661fb61774e05b01'), ObjectId('66b43417661fb61774e05b02'), ObjectId('66b43417661fb61774e05b03'), ObjectId('66b43417661fb61774e05b04'), ObjectId('66b43417661fb61774e05b05'), ObjectId('66b43417661fb61774e05b06'), ObjectId('66b43417661fb61774e05b07'), ObjectId('66b43417661fb61774e05b08'), ObjectId('66b43417661fb61774e05b09'), ObjectId('66b43417661fb61774e05b0a'), ObjectId('66b43417661fb61774e05b0b'), ObjectId('66b43417661fb61774e05b0c'), ObjectId('66b43417661fb61774e05b0d'), ObjectId('66b43417661fb61774e05b0e'), ObjectId('66b43417661fb61774e05b0f'), ObjectId('66b43417661fb61774e05b10'), ObjectId('66b43417661fb61774e05b11'), ObjectId('66b43417661fb61774e05b12'), ObjectId('66b43417661fb61774e05b13'), ObjectId('66b43417661fb61774e05b14'), ObjectId('66b43417661fb61774e05b15'), ObjectId('66b43417661fb61774e05b16'), ObjectId('66b43417661fb61774e05b17'), ObjectId('66b43417661fb61774e05b18'), ObjectId('66b43417661fb61774e05b19'), ObjectId('66b43417661fb61774e05b1a'), ObjectId('66b43417661fb61774e05b1b'), ObjectId('66b43417661fb61774e05b1c'), ObjectId('66b43417661fb61774e05b1d'), ObjectId('66b43417661fb61774e05b1e'), ObjectId('66b43417661fb61774e05b1f'), ObjectId('66b43417661fb61774e05b20'), ObjectId('66b43417661fb61774e05b21'), ObjectId('66b43417661fb61774e05b22'), ObjectId('66b43417661fb61774e05b23'), ObjectId('66b43417661fb61774e05b24'), ObjectId('66b43417661fb61774e05b25'), ObjectId('66b43417661fb61774e05b26'), ObjectId('66b43417661fb61774e05b27'), ObjectId('66b43417661fb61774e05b28'), ObjectId('66b43417661fb61774e05b29'), ObjectId('66b43417661fb61774e05b2a'), ObjectId('66b43417661fb61774e05b2b'), ObjectId('66b43417661fb61774e05b2c'), ObjectId('66b43417661fb61774e05b2d'), ObjectId('66b43417661fb61774e05b2e'), ObjectId('66b43417661fb61774e05b2f'), ObjectId('66b43417661fb61774e05b30'), ObjectId('66b43417661fb61774e05b31'), ObjectId('66b43417661fb61774e05b32'), ObjectId('66b43417661fb61774e05b33'), ObjectId('66b43417661fb61774e05b34'), ObjectId('66b43417661fb61774e05b35'), ObjectId('66b43417661fb61774e05b36'), ObjectId('66b43417661fb61774e05b37'), ObjectId('66b43417661fb61774e05b38'), ObjectId('66b43417661fb61774e05b39'), ObjectId('66b43417661fb61774e05b3a'), ObjectId('66b43417661fb61774e05b3b'), ObjectId('66b43417661fb61774e05b3c'), ObjectId('66b43417661fb61774e05b3d'), ObjectId('66b43417661fb61774e05b3e'), ObjectId('66b43417661fb61774e05b3f'), ObjectId('66b43417661fb61774e05b40'), ObjectId('66b43417661fb61774e05b41'), ObjectId('66b43417661fb61774e05b42'), ObjectId('66b43417661fb61774e05b43'), ObjectId('66b43417661fb61774e05b44'), ObjectId('66b43417661fb61774e05b45'), ObjectId('66b43417661fb61774e05b46'), ObjectId('66b43417661fb61774e05b47'), ObjectId('66b43417661fb61774e05b48'), ObjectId('66b43417661fb61774e05b49'), ObjectId('66b43417661fb61774e05b4a'), ObjectId('66b43417661fb61774e05b4b'), ObjectId('66b43417661fb61774e05b4c'), ObjectId('66b43417661fb61774e05b4d'), ObjectId('66b43417661fb61774e05b4e'), ObjectId('66b43417661fb61774e05b4f'), ObjectId('66b43417661fb61774e05b50'), ObjectId('66b43417661fb61774e05b51'), ObjectId('66b43417661fb61774e05b52'), ObjectId('66b43417661fb61774e05b53'), ObjectId('66b43417661fb61774e05b54'), ObjectId('66b43417661fb61774e05b55'), ObjectId('66b43417661fb61774e05b56'), ObjectId('66b43417661fb61774e05b57'), ObjectId('66b43417661fb61774e05b58'), ObjectId('66b43417661fb61774e05b59'), ObjectId('66b43417661fb61774e05b5a'), ObjectId('66b43417661fb61774e05b5b'), ObjectId('66b43417661fb61774e05b5c'), ObjectId('66b43417661fb61774e05b5d'), ObjectId('66b43417661fb61774e05b5e'), ObjectId('66b43417661fb61774e05b5f'), ObjectId('66b43417661fb61774e05b60'), ObjectId('66b43417661fb61774e05b61'), ObjectId('66b43417661fb61774e05b62'), ObjectId('66b43417661fb61774e05b63'), ObjectId('66b43417661fb61774e05b64'), ObjectId('66b43417661fb61774e05b65'), ObjectId('66b43417661fb61774e05b66'), ObjectId('66b43417661fb61774e05b67'), ObjectId('66b43417661fb61774e05b68'), ObjectId('66b43417661fb61774e05b69'), ObjectId('66b43417661fb61774e05b6a'), ObjectId('66b43417661fb61774e05b6b'), ObjectId('66b43417661fb61774e05b6c'), ObjectId('66b43417661fb61774e05b6d'), ObjectId('66b43417661fb61774e05b6e'), ObjectId('66b43417661fb61774e05b6f'), ObjectId('66b43417661fb61774e05b70'), ObjectId('66b43417661fb61774e05b71'), ObjectId('66b43417661fb61774e05b72'), ObjectId('66b43417661fb61774e05b73'), ObjectId('66b43417661fb61774e05b74'), ObjectId('66b43417661fb61774e05b75'), ObjectId('66b43417661fb61774e05b76'), ObjectId('66b43417661fb61774e05b77'), ObjectId('66b43417661fb61774e05b78'), ObjectId('66b43417661fb61774e05b79'), ObjectId('66b43417661fb61774e05b7a'), ObjectId('66b43417661fb61774e05b7b'), ObjectId('66b43417661fb61774e05b7c'), ObjectId('66b43417661fb61774e05b7d'), ObjectId('66b43417661fb61774e05b7e'), ObjectId('66b43417661fb61774e05b7f'), ObjectId('66b43417661fb61774e05b80'), ObjectId('66b43417661fb61774e05b81'), ObjectId('66b43417661fb61774e05b82'), ObjectId('66b43417661fb61774e05b83'), ObjectId('66b43417661fb61774e05b84'), ObjectId('66b43417661fb61774e05b85'), ObjectId('66b43417661fb61774e05b86'), ObjectId('66b43417661fb61774e05b87'), ObjectId('66b43417661fb61774e05b88'), ObjectId('66b43417661fb61774e05b89'), ObjectId('66b43417661fb61774e05b8a'), ObjectId('66b43417661fb61774e05b8b'), ObjectId('66b43417661fb61774e05b8c'), ObjectId('66b43417661fb61774e05b8d'), ObjectId('66b43417661fb61774e05b8e'), ObjectId('66b43417661fb61774e05b8f'), ObjectId('66b43417661fb61774e05b90'), ObjectId('66b43417661fb61774e05b91'), ObjectId('66b43417661fb61774e05b92'), ObjectId('66b43417661fb61774e05b93'), ObjectId('66b43417661fb61774e05b94'), ObjectId('66b43417661fb61774e05b95'), ObjectId('66b43417661fb61774e05b96'), ObjectId('66b43417661fb61774e05b97'), ObjectId('66b43417661fb61774e05b98'), ObjectId('66b43417661fb61774e05b99'), ObjectId('66b43417661fb61774e05b9a'), ObjectId('66b43417661fb61774e05b9b'), ObjectId('66b43417661fb61774e05b9c'), ObjectId('66b43417661fb61774e05b9d'), ObjectId('66b43417661fb61774e05b9e'), ObjectId('66b43417661fb61774e05b9f'), ObjectId('66b43417661fb61774e05ba0'), ObjectId('66b43417661fb61774e05ba1'), ObjectId('66b43417661fb61774e05ba2'), ObjectId('66b43417661fb61774e05ba3'), ObjectId('66b43417661fb61774e05ba4'), ObjectId('66b43417661fb61774e05ba5'), ObjectId('66b43417661fb61774e05ba6'), ObjectId('66b43417661fb61774e05ba7'), ObjectId('66b43417661fb61774e05ba8'), ObjectId('66b43417661fb61774e05ba9'), ObjectId('66b43417661fb61774e05baa'), ObjectId('66b43417661fb61774e05bab'), ObjectId('66b43417661fb61774e05bac'), ObjectId('66b43417661fb61774e05bad'), ObjectId('66b43417661fb61774e05bae'), ObjectId('66b43417661fb61774e05baf'), ObjectId('66b43417661fb61774e05bb0'), ObjectId('66b43417661fb61774e05bb1'), ObjectId('66b43417661fb61774e05bb2'), ObjectId('66b43417661fb61774e05bb3'), ObjectId('66b43417661fb61774e05bb4'), ObjectId('66b43417661fb61774e05bb5'), ObjectId('66b43417661fb61774e05bb6'), ObjectId('66b43417661fb61774e05bb7'), ObjectId('66b43417661fb61774e05bb8'), ObjectId('66b43417661fb61774e05bb9'), ObjectId('66b43417661fb61774e05bba'), ObjectId('66b43417661fb61774e05bbb'), ObjectId('66b43417661fb61774e05bbc'), ObjectId('66b43417661fb61774e05bbd'), ObjectId('66b43417661fb61774e05bbe'), ObjectId('66b43417661fb61774e05bbf'), ObjectId('66b43417661fb61774e05bc0'), ObjectId('66b43417661fb61774e05bc1'), ObjectId('66b43417661fb61774e05bc2'), ObjectId('66b43417661fb61774e05bc3'), ObjectId('66b43417661fb61774e05bc4'), ObjectId('66b43417661fb61774e05bc5'), ObjectId('66b43417661fb61774e05bc6'), ObjectId('66b43417661fb61774e05bc7'), ObjectId('66b43417661fb61774e05bc8'), ObjectId('66b43417661fb61774e05bc9'), ObjectId('66b43417661fb61774e05bca'), ObjectId('66b43417661fb61774e05bcb'), ObjectId('66b43417661fb61774e05bcc'), ObjectId('66b43417661fb61774e05bcd'), ObjectId('66b43417661fb61774e05bce'), ObjectId('66b43417661fb61774e05bcf'), ObjectId('66b43417661fb61774e05bd0'), ObjectId('66b43417661fb61774e05bd1'), ObjectId('66b43417661fb61774e05bd2'), ObjectId('66b43417661fb61774e05bd3'), ObjectId('66b43417661fb61774e05bd4'), ObjectId('66b43417661fb61774e05bd5'), ObjectId('66b43417661fb61774e05bd6'), ObjectId('66b43417661fb61774e05bd7'), ObjectId('66b43417661fb61774e05bd8'), ObjectId('66b43417661fb61774e05bd9'), ObjectId('66b43417661fb61774e05bda'), ObjectId('66b43417661fb61774e05bdb'), ObjectId('66b43417661fb61774e05bdc'), ObjectId('66b43417661fb61774e05bdd'), ObjectId('66b43417661fb61774e05bde'), ObjectId('66b43417661fb61774e05bdf'), ObjectId('66b43417661fb61774e05be0'), ObjectId('66b43417661fb61774e05be1'), ObjectId('66b43417661fb61774e05be2'), ObjectId('66b43417661fb61774e05be3'), ObjectId('66b43417661fb61774e05be4'), ObjectId('66b43417661fb61774e05be5'), ObjectId('66b43417661fb61774e05be6'), ObjectId('66b43417661fb61774e05be7'), ObjectId('66b43417661fb61774e05be8'), ObjectId('66b43417661fb61774e05be9'), ObjectId('66b43417661fb61774e05bea'), ObjectId('66b43417661fb61774e05beb'), ObjectId('66b43417661fb61774e05bec'), ObjectId('66b43417661fb61774e05bed'), ObjectId('66b43417661fb61774e05bee'), ObjectId('66b43417661fb61774e05bef'), ObjectId('66b43417661fb61774e05bf0'), ObjectId('66b43417661fb61774e05bf1'), ObjectId('66b43417661fb61774e05bf2'), ObjectId('66b43417661fb61774e05bf3'), ObjectId('66b43417661fb61774e05bf4'), ObjectId('66b43417661fb61774e05bf5'), ObjectId('66b43417661fb61774e05bf6'), ObjectId('66b43417661fb61774e05bf7'), ObjectId('66b43417661fb61774e05bf8'), ObjectId('66b43417661fb61774e05bf9'), ObjectId('66b43417661fb61774e05bfa'), ObjectId('66b43417661fb61774e05bfb'), ObjectId('66b43417661fb61774e05bfc'), ObjectId('66b43417661fb61774e05bfd'), ObjectId('66b43417661fb61774e05bfe'), ObjectId('66b43417661fb61774e05bff'), ObjectId('66b43417661fb61774e05c00'), ObjectId('66b43417661fb61774e05c01'), ObjectId('66b43417661fb61774e05c02'), ObjectId('66b43417661fb61774e05c03'), ObjectId('66b43417661fb61774e05c04'), ObjectId('66b43417661fb61774e05c05'), ObjectId('66b43417661fb61774e05c06'), ObjectId('66b43417661fb61774e05c07'), ObjectId('66b43417661fb61774e05c08'), ObjectId('66b43417661fb61774e05c09'), ObjectId('66b43417661fb61774e05c0a'), ObjectId('66b43417661fb61774e05c0b'), ObjectId('66b43417661fb61774e05c0c'), ObjectId('66b43417661fb61774e05c0d'), ObjectId('66b43417661fb61774e05c0e'), ObjectId('66b43417661fb61774e05c0f'), ObjectId('66b43417661fb61774e05c10'), ObjectId('66b43417661fb61774e05c11'), ObjectId('66b43417661fb61774e05c12'), ObjectId('66b43417661fb61774e05c13'), ObjectId('66b43417661fb61774e05c14'), ObjectId('66b43417661fb61774e05c15'), ObjectId('66b43417661fb61774e05c16'), ObjectId('66b43417661fb61774e05c17'), ObjectId('66b43417661fb61774e05c18'), ObjectId('66b43417661fb61774e05c19'), ObjectId('66b43417661fb61774e05c1a'), ObjectId('66b43417661fb61774e05c1b'), ObjectId('66b43417661fb61774e05c1c'), ObjectId('66b43417661fb61774e05c1d'), ObjectId('66b43417661fb61774e05c1e'), ObjectId('66b43417661fb61774e05c1f'), ObjectId('66b43417661fb61774e05c20'), ObjectId('66b43417661fb61774e05c21'), ObjectId('66b43417661fb61774e05c22'), ObjectId('66b43417661fb61774e05c23'), ObjectId('66b43417661fb61774e05c24'), ObjectId('66b43417661fb61774e05c25'), ObjectId('66b43417661fb61774e05c26'), ObjectId('66b43417661fb61774e05c27'), ObjectId('66b43417661fb61774e05c28'), ObjectId('66b43417661fb61774e05c29'), ObjectId('66b43417661fb61774e05c2a'), ObjectId('66b43417661fb61774e05c2b'), ObjectId('66b43417661fb61774e05c2c'), ObjectId('66b43417661fb61774e05c2d'), ObjectId('66b43417661fb61774e05c2e'), ObjectId('66b43417661fb61774e05c2f'), ObjectId('66b43417661fb61774e05c30')], acknowledged=True)"
      ]
     },
     "execution_count": 15,
     "metadata": {},
     "output_type": "execute_result"
    }
   ],
   "source": [
    "# Insert data into MongoDB collection\n",
    "collection.insert_many(data_dict)\n"
   ]
  },
  {
   "cell_type": "code",
   "execution_count": 16,
   "id": "c6e97ca6-081c-44bf-ae15-0466bc2fbe26",
   "metadata": {},
   "outputs": [],
   "source": [
    "# Retrieve and display records from MongoDB collection\n",
    "retrieved_docs = collection.find().limit(5)\n",
    "retrieved_docs_df = pd.DataFrame(list(retrieved_docs))\n"
   ]
  },
  {
   "cell_type": "code",
   "execution_count": 17,
   "id": "fd7c33d4-694a-4162-871a-0030de67f403",
   "metadata": {},
   "outputs": [
    {
     "name": "stdout",
     "output_type": "stream",
     "text": [
      "\n",
      "Retrieved documents from the MongoDB collection:\n",
      "                        _id  Pregnancies   Glucose  BloodPressure  \\\n",
      "0  66b0319ca162d7e96f89ab9e     0.639947  0.866045      -0.031990   \n",
      "1  66b0319ca162d7e96f89ab9f    -0.844885 -1.205066      -0.528319   \n",
      "2  66b0319ca162d7e96f89aba0     1.233880  2.016662      -0.693761   \n",
      "3  66b0319ca162d7e96f89aba1    -0.844885 -1.073567      -0.528319   \n",
      "4  66b0319ca162d7e96f89aba2    -1.141852  0.504422      -2.679076   \n",
      "\n",
      "   SkinThickness   Insulin       BMI  DiabetesPedigreeFunction       Age  \\\n",
      "0       0.670643 -0.181541  0.166619                  0.468492  1.425995   \n",
      "1      -0.012301 -0.181541 -0.852200                 -0.365061 -0.190672   \n",
      "2      -0.012301 -0.181541 -1.332500                  0.604397 -0.105584   \n",
      "3      -0.695245 -0.540642 -0.633881                 -0.920763 -1.041549   \n",
      "4       0.670643  0.316566  1.549303                  5.484909 -0.020496   \n",
      "\n",
      "   Class  \n",
      "0      1  \n",
      "1      0  \n",
      "2      1  \n",
      "3      0  \n",
      "4      1  \n"
     ]
    }
   ],
   "source": [
    "print(\"\\nRetrieved documents from the MongoDB collection:\")\n",
    "print(retrieved_docs_df)"
   ]
  },
  {
   "cell_type": "code",
   "execution_count": 18,
   "id": "7599f351-09de-4cd4-ac26-5bec28397d22",
   "metadata": {},
   "outputs": [],
   "source": [
    "# Close the connection\n",
    "client.close()"
   ]
  },
  {
   "cell_type": "code",
   "execution_count": 20,
   "id": "e949cb0d-0a11-4ec3-b2b4-31544cba23c4",
   "metadata": {},
   "outputs": [],
   "source": [
    "#h"
   ]
  },
  {
   "cell_type": "code",
   "execution_count": 23,
   "id": "c0c34cbf-d711-4ab9-8210-e1178f8de681",
   "metadata": {},
   "outputs": [
    {
     "name": "stdout",
     "output_type": "stream",
     "text": [
      "\n",
      "Cleaned dataset:\n",
      "   Pregnancies   Glucose  BloodPressure  SkinThickness   Insulin       BMI  \\\n",
      "0     0.639947  0.866045      -0.031990       0.670643 -0.181541  0.166619   \n",
      "1    -0.844885 -1.205066      -0.528319      -0.012301 -0.181541 -0.852200   \n",
      "\n",
      "   DiabetesPedigreeFunction       Age Class  \n",
      "0                  0.468492  1.425995     1  \n",
      "1                 -0.365061 -0.190672     0  \n"
     ]
    }
   ],
   "source": [
    "# Verify the cleaned and tidied dataset\n",
    "print(\"\\nCleaned dataset:\")\n",
    "print(df.head(2))\n"
   ]
  },
  {
   "cell_type": "code",
   "execution_count": 24,
   "id": "0c1ecba2-713e-40c6-998a-351b42bce7a9",
   "metadata": {},
   "outputs": [],
   "source": [
    "# Establish connection to MongoDB\n",
    "client = MongoClient('mongodb://localhost:27017/')\n",
    "db = client['diabetes_db']\n",
    "collection = db['diabetes_data']"
   ]
  },
  {
   "cell_type": "code",
   "execution_count": 25,
   "id": "261cc6ac-d63c-4e35-bca6-6b2d25e905ca",
   "metadata": {},
   "outputs": [],
   "source": [
    "# Convert DataFrame to dictionary format\n",
    "data_dict = df.to_dict(orient='records')"
   ]
  },
  {
   "cell_type": "code",
   "execution_count": 26,
   "id": "3af80e66-9ea7-4de4-9a84-4481abefc2e4",
   "metadata": {},
   "outputs": [
    {
     "data": {
      "text/plain": [
       "InsertManyResult([ObjectId('66b4370b661fb61774e05c32'), ObjectId('66b4370b661fb61774e05c33'), ObjectId('66b4370b661fb61774e05c34'), ObjectId('66b4370b661fb61774e05c35'), ObjectId('66b4370b661fb61774e05c36'), ObjectId('66b4370b661fb61774e05c37'), ObjectId('66b4370b661fb61774e05c38'), ObjectId('66b4370b661fb61774e05c39'), ObjectId('66b4370b661fb61774e05c3a'), ObjectId('66b4370b661fb61774e05c3b'), ObjectId('66b4370b661fb61774e05c3c'), ObjectId('66b4370b661fb61774e05c3d'), ObjectId('66b4370b661fb61774e05c3e'), ObjectId('66b4370b661fb61774e05c3f'), ObjectId('66b4370b661fb61774e05c40'), ObjectId('66b4370b661fb61774e05c41'), ObjectId('66b4370b661fb61774e05c42'), ObjectId('66b4370b661fb61774e05c43'), ObjectId('66b4370b661fb61774e05c44'), ObjectId('66b4370b661fb61774e05c45'), ObjectId('66b4370b661fb61774e05c46'), ObjectId('66b4370b661fb61774e05c47'), ObjectId('66b4370b661fb61774e05c48'), ObjectId('66b4370b661fb61774e05c49'), ObjectId('66b4370b661fb61774e05c4a'), ObjectId('66b4370b661fb61774e05c4b'), ObjectId('66b4370b661fb61774e05c4c'), ObjectId('66b4370b661fb61774e05c4d'), ObjectId('66b4370b661fb61774e05c4e'), ObjectId('66b4370b661fb61774e05c4f'), ObjectId('66b4370b661fb61774e05c50'), ObjectId('66b4370b661fb61774e05c51'), ObjectId('66b4370b661fb61774e05c52'), ObjectId('66b4370b661fb61774e05c53'), ObjectId('66b4370b661fb61774e05c54'), ObjectId('66b4370b661fb61774e05c55'), ObjectId('66b4370b661fb61774e05c56'), ObjectId('66b4370b661fb61774e05c57'), ObjectId('66b4370b661fb61774e05c58'), ObjectId('66b4370b661fb61774e05c59'), ObjectId('66b4370b661fb61774e05c5a'), ObjectId('66b4370b661fb61774e05c5b'), ObjectId('66b4370b661fb61774e05c5c'), ObjectId('66b4370b661fb61774e05c5d'), ObjectId('66b4370b661fb61774e05c5e'), ObjectId('66b4370b661fb61774e05c5f'), ObjectId('66b4370b661fb61774e05c60'), ObjectId('66b4370b661fb61774e05c61'), ObjectId('66b4370b661fb61774e05c62'), ObjectId('66b4370b661fb61774e05c63'), ObjectId('66b4370b661fb61774e05c64'), ObjectId('66b4370b661fb61774e05c65'), ObjectId('66b4370b661fb61774e05c66'), ObjectId('66b4370b661fb61774e05c67'), ObjectId('66b4370b661fb61774e05c68'), ObjectId('66b4370b661fb61774e05c69'), ObjectId('66b4370b661fb61774e05c6a'), ObjectId('66b4370b661fb61774e05c6b'), ObjectId('66b4370b661fb61774e05c6c'), ObjectId('66b4370b661fb61774e05c6d'), ObjectId('66b4370b661fb61774e05c6e'), ObjectId('66b4370b661fb61774e05c6f'), ObjectId('66b4370b661fb61774e05c70'), ObjectId('66b4370b661fb61774e05c71'), ObjectId('66b4370b661fb61774e05c72'), ObjectId('66b4370b661fb61774e05c73'), ObjectId('66b4370b661fb61774e05c74'), ObjectId('66b4370b661fb61774e05c75'), ObjectId('66b4370b661fb61774e05c76'), ObjectId('66b4370b661fb61774e05c77'), ObjectId('66b4370b661fb61774e05c78'), ObjectId('66b4370b661fb61774e05c79'), ObjectId('66b4370b661fb61774e05c7a'), ObjectId('66b4370b661fb61774e05c7b'), ObjectId('66b4370b661fb61774e05c7c'), ObjectId('66b4370b661fb61774e05c7d'), ObjectId('66b4370b661fb61774e05c7e'), ObjectId('66b4370b661fb61774e05c7f'), ObjectId('66b4370b661fb61774e05c80'), ObjectId('66b4370b661fb61774e05c81'), ObjectId('66b4370b661fb61774e05c82'), ObjectId('66b4370b661fb61774e05c83'), ObjectId('66b4370b661fb61774e05c84'), ObjectId('66b4370b661fb61774e05c85'), ObjectId('66b4370b661fb61774e05c86'), ObjectId('66b4370b661fb61774e05c87'), ObjectId('66b4370b661fb61774e05c88'), ObjectId('66b4370b661fb61774e05c89'), ObjectId('66b4370b661fb61774e05c8a'), ObjectId('66b4370b661fb61774e05c8b'), ObjectId('66b4370b661fb61774e05c8c'), ObjectId('66b4370b661fb61774e05c8d'), ObjectId('66b4370b661fb61774e05c8e'), ObjectId('66b4370b661fb61774e05c8f'), ObjectId('66b4370b661fb61774e05c90'), ObjectId('66b4370b661fb61774e05c91'), ObjectId('66b4370b661fb61774e05c92'), ObjectId('66b4370b661fb61774e05c93'), ObjectId('66b4370b661fb61774e05c94'), ObjectId('66b4370b661fb61774e05c95'), ObjectId('66b4370b661fb61774e05c96'), ObjectId('66b4370b661fb61774e05c97'), ObjectId('66b4370b661fb61774e05c98'), ObjectId('66b4370b661fb61774e05c99'), ObjectId('66b4370b661fb61774e05c9a'), ObjectId('66b4370b661fb61774e05c9b'), ObjectId('66b4370b661fb61774e05c9c'), ObjectId('66b4370b661fb61774e05c9d'), ObjectId('66b4370b661fb61774e05c9e'), ObjectId('66b4370b661fb61774e05c9f'), ObjectId('66b4370b661fb61774e05ca0'), ObjectId('66b4370b661fb61774e05ca1'), ObjectId('66b4370b661fb61774e05ca2'), ObjectId('66b4370b661fb61774e05ca3'), ObjectId('66b4370b661fb61774e05ca4'), ObjectId('66b4370b661fb61774e05ca5'), ObjectId('66b4370b661fb61774e05ca6'), ObjectId('66b4370b661fb61774e05ca7'), ObjectId('66b4370b661fb61774e05ca8'), ObjectId('66b4370b661fb61774e05ca9'), ObjectId('66b4370b661fb61774e05caa'), ObjectId('66b4370b661fb61774e05cab'), ObjectId('66b4370b661fb61774e05cac'), ObjectId('66b4370b661fb61774e05cad'), ObjectId('66b4370b661fb61774e05cae'), ObjectId('66b4370b661fb61774e05caf'), ObjectId('66b4370b661fb61774e05cb0'), ObjectId('66b4370b661fb61774e05cb1'), ObjectId('66b4370b661fb61774e05cb2'), ObjectId('66b4370b661fb61774e05cb3'), ObjectId('66b4370b661fb61774e05cb4'), ObjectId('66b4370b661fb61774e05cb5'), ObjectId('66b4370b661fb61774e05cb6'), ObjectId('66b4370b661fb61774e05cb7'), ObjectId('66b4370b661fb61774e05cb8'), ObjectId('66b4370b661fb61774e05cb9'), ObjectId('66b4370b661fb61774e05cba'), ObjectId('66b4370b661fb61774e05cbb'), ObjectId('66b4370b661fb61774e05cbc'), ObjectId('66b4370b661fb61774e05cbd'), ObjectId('66b4370b661fb61774e05cbe'), ObjectId('66b4370b661fb61774e05cbf'), ObjectId('66b4370b661fb61774e05cc0'), ObjectId('66b4370b661fb61774e05cc1'), ObjectId('66b4370b661fb61774e05cc2'), ObjectId('66b4370b661fb61774e05cc3'), ObjectId('66b4370b661fb61774e05cc4'), ObjectId('66b4370b661fb61774e05cc5'), ObjectId('66b4370b661fb61774e05cc6'), ObjectId('66b4370b661fb61774e05cc7'), ObjectId('66b4370b661fb61774e05cc8'), ObjectId('66b4370b661fb61774e05cc9'), ObjectId('66b4370b661fb61774e05cca'), ObjectId('66b4370b661fb61774e05ccb'), ObjectId('66b4370b661fb61774e05ccc'), ObjectId('66b4370b661fb61774e05ccd'), ObjectId('66b4370b661fb61774e05cce'), ObjectId('66b4370b661fb61774e05ccf'), ObjectId('66b4370b661fb61774e05cd0'), ObjectId('66b4370b661fb61774e05cd1'), ObjectId('66b4370b661fb61774e05cd2'), ObjectId('66b4370b661fb61774e05cd3'), ObjectId('66b4370b661fb61774e05cd4'), ObjectId('66b4370b661fb61774e05cd5'), ObjectId('66b4370b661fb61774e05cd6'), ObjectId('66b4370b661fb61774e05cd7'), ObjectId('66b4370b661fb61774e05cd8'), ObjectId('66b4370b661fb61774e05cd9'), ObjectId('66b4370b661fb61774e05cda'), ObjectId('66b4370b661fb61774e05cdb'), ObjectId('66b4370b661fb61774e05cdc'), ObjectId('66b4370b661fb61774e05cdd'), ObjectId('66b4370b661fb61774e05cde'), ObjectId('66b4370b661fb61774e05cdf'), ObjectId('66b4370b661fb61774e05ce0'), ObjectId('66b4370b661fb61774e05ce1'), ObjectId('66b4370b661fb61774e05ce2'), ObjectId('66b4370b661fb61774e05ce3'), ObjectId('66b4370b661fb61774e05ce4'), ObjectId('66b4370b661fb61774e05ce5'), ObjectId('66b4370b661fb61774e05ce6'), ObjectId('66b4370b661fb61774e05ce7'), ObjectId('66b4370b661fb61774e05ce8'), ObjectId('66b4370b661fb61774e05ce9'), ObjectId('66b4370b661fb61774e05cea'), ObjectId('66b4370b661fb61774e05ceb'), ObjectId('66b4370b661fb61774e05cec'), ObjectId('66b4370b661fb61774e05ced'), ObjectId('66b4370b661fb61774e05cee'), ObjectId('66b4370b661fb61774e05cef'), ObjectId('66b4370b661fb61774e05cf0'), ObjectId('66b4370b661fb61774e05cf1'), ObjectId('66b4370b661fb61774e05cf2'), ObjectId('66b4370b661fb61774e05cf3'), ObjectId('66b4370b661fb61774e05cf4'), ObjectId('66b4370b661fb61774e05cf5'), ObjectId('66b4370b661fb61774e05cf6'), ObjectId('66b4370b661fb61774e05cf7'), ObjectId('66b4370b661fb61774e05cf8'), ObjectId('66b4370b661fb61774e05cf9'), ObjectId('66b4370b661fb61774e05cfa'), ObjectId('66b4370b661fb61774e05cfb'), ObjectId('66b4370b661fb61774e05cfc'), ObjectId('66b4370b661fb61774e05cfd'), ObjectId('66b4370b661fb61774e05cfe'), ObjectId('66b4370b661fb61774e05cff'), ObjectId('66b4370b661fb61774e05d00'), ObjectId('66b4370b661fb61774e05d01'), ObjectId('66b4370b661fb61774e05d02'), ObjectId('66b4370b661fb61774e05d03'), ObjectId('66b4370b661fb61774e05d04'), ObjectId('66b4370b661fb61774e05d05'), ObjectId('66b4370b661fb61774e05d06'), ObjectId('66b4370b661fb61774e05d07'), ObjectId('66b4370b661fb61774e05d08'), ObjectId('66b4370b661fb61774e05d09'), ObjectId('66b4370b661fb61774e05d0a'), ObjectId('66b4370b661fb61774e05d0b'), ObjectId('66b4370b661fb61774e05d0c'), ObjectId('66b4370b661fb61774e05d0d'), ObjectId('66b4370b661fb61774e05d0e'), ObjectId('66b4370b661fb61774e05d0f'), ObjectId('66b4370b661fb61774e05d10'), ObjectId('66b4370b661fb61774e05d11'), ObjectId('66b4370b661fb61774e05d12'), ObjectId('66b4370b661fb61774e05d13'), ObjectId('66b4370b661fb61774e05d14'), ObjectId('66b4370b661fb61774e05d15'), ObjectId('66b4370b661fb61774e05d16'), ObjectId('66b4370b661fb61774e05d17'), ObjectId('66b4370b661fb61774e05d18'), ObjectId('66b4370b661fb61774e05d19'), ObjectId('66b4370b661fb61774e05d1a'), ObjectId('66b4370b661fb61774e05d1b'), ObjectId('66b4370b661fb61774e05d1c'), ObjectId('66b4370b661fb61774e05d1d'), ObjectId('66b4370b661fb61774e05d1e'), ObjectId('66b4370b661fb61774e05d1f'), ObjectId('66b4370b661fb61774e05d20'), ObjectId('66b4370b661fb61774e05d21'), ObjectId('66b4370b661fb61774e05d22'), ObjectId('66b4370b661fb61774e05d23'), ObjectId('66b4370b661fb61774e05d24'), ObjectId('66b4370b661fb61774e05d25'), ObjectId('66b4370b661fb61774e05d26'), ObjectId('66b4370b661fb61774e05d27'), ObjectId('66b4370b661fb61774e05d28'), ObjectId('66b4370b661fb61774e05d29'), ObjectId('66b4370b661fb61774e05d2a'), ObjectId('66b4370b661fb61774e05d2b'), ObjectId('66b4370b661fb61774e05d2c'), ObjectId('66b4370b661fb61774e05d2d'), ObjectId('66b4370b661fb61774e05d2e'), ObjectId('66b4370b661fb61774e05d2f'), ObjectId('66b4370b661fb61774e05d30'), ObjectId('66b4370b661fb61774e05d31'), ObjectId('66b4370b661fb61774e05d32'), ObjectId('66b4370b661fb61774e05d33'), ObjectId('66b4370b661fb61774e05d34'), ObjectId('66b4370b661fb61774e05d35'), ObjectId('66b4370b661fb61774e05d36'), ObjectId('66b4370b661fb61774e05d37'), ObjectId('66b4370b661fb61774e05d38'), ObjectId('66b4370b661fb61774e05d39'), ObjectId('66b4370b661fb61774e05d3a'), ObjectId('66b4370b661fb61774e05d3b'), ObjectId('66b4370b661fb61774e05d3c'), ObjectId('66b4370b661fb61774e05d3d'), ObjectId('66b4370b661fb61774e05d3e'), ObjectId('66b4370b661fb61774e05d3f'), ObjectId('66b4370b661fb61774e05d40'), ObjectId('66b4370b661fb61774e05d41'), ObjectId('66b4370b661fb61774e05d42'), ObjectId('66b4370b661fb61774e05d43'), ObjectId('66b4370b661fb61774e05d44'), ObjectId('66b4370b661fb61774e05d45'), ObjectId('66b4370b661fb61774e05d46'), ObjectId('66b4370b661fb61774e05d47'), ObjectId('66b4370b661fb61774e05d48'), ObjectId('66b4370b661fb61774e05d49'), ObjectId('66b4370b661fb61774e05d4a'), ObjectId('66b4370b661fb61774e05d4b'), ObjectId('66b4370b661fb61774e05d4c'), ObjectId('66b4370b661fb61774e05d4d'), ObjectId('66b4370b661fb61774e05d4e'), ObjectId('66b4370b661fb61774e05d4f'), ObjectId('66b4370b661fb61774e05d50'), ObjectId('66b4370b661fb61774e05d51'), ObjectId('66b4370b661fb61774e05d52'), ObjectId('66b4370b661fb61774e05d53'), ObjectId('66b4370b661fb61774e05d54'), ObjectId('66b4370b661fb61774e05d55'), ObjectId('66b4370b661fb61774e05d56'), ObjectId('66b4370b661fb61774e05d57'), ObjectId('66b4370b661fb61774e05d58'), ObjectId('66b4370b661fb61774e05d59'), ObjectId('66b4370b661fb61774e05d5a'), ObjectId('66b4370b661fb61774e05d5b'), ObjectId('66b4370b661fb61774e05d5c'), ObjectId('66b4370b661fb61774e05d5d'), ObjectId('66b4370b661fb61774e05d5e'), ObjectId('66b4370b661fb61774e05d5f'), ObjectId('66b4370b661fb61774e05d60'), ObjectId('66b4370b661fb61774e05d61'), ObjectId('66b4370b661fb61774e05d62'), ObjectId('66b4370b661fb61774e05d63'), ObjectId('66b4370b661fb61774e05d64'), ObjectId('66b4370b661fb61774e05d65'), ObjectId('66b4370b661fb61774e05d66'), ObjectId('66b4370b661fb61774e05d67'), ObjectId('66b4370b661fb61774e05d68'), ObjectId('66b4370b661fb61774e05d69'), ObjectId('66b4370b661fb61774e05d6a'), ObjectId('66b4370b661fb61774e05d6b'), ObjectId('66b4370b661fb61774e05d6c'), ObjectId('66b4370b661fb61774e05d6d'), ObjectId('66b4370b661fb61774e05d6e'), ObjectId('66b4370b661fb61774e05d6f'), ObjectId('66b4370b661fb61774e05d70'), ObjectId('66b4370b661fb61774e05d71'), ObjectId('66b4370b661fb61774e05d72'), ObjectId('66b4370b661fb61774e05d73'), ObjectId('66b4370b661fb61774e05d74'), ObjectId('66b4370b661fb61774e05d75'), ObjectId('66b4370b661fb61774e05d76'), ObjectId('66b4370b661fb61774e05d77'), ObjectId('66b4370b661fb61774e05d78'), ObjectId('66b4370b661fb61774e05d79'), ObjectId('66b4370b661fb61774e05d7a'), ObjectId('66b4370b661fb61774e05d7b'), ObjectId('66b4370b661fb61774e05d7c'), ObjectId('66b4370b661fb61774e05d7d'), ObjectId('66b4370b661fb61774e05d7e'), ObjectId('66b4370b661fb61774e05d7f'), ObjectId('66b4370b661fb61774e05d80'), ObjectId('66b4370b661fb61774e05d81'), ObjectId('66b4370b661fb61774e05d82'), ObjectId('66b4370b661fb61774e05d83'), ObjectId('66b4370b661fb61774e05d84'), ObjectId('66b4370b661fb61774e05d85'), ObjectId('66b4370b661fb61774e05d86'), ObjectId('66b4370b661fb61774e05d87'), ObjectId('66b4370b661fb61774e05d88'), ObjectId('66b4370b661fb61774e05d89'), ObjectId('66b4370b661fb61774e05d8a'), ObjectId('66b4370b661fb61774e05d8b'), ObjectId('66b4370b661fb61774e05d8c'), ObjectId('66b4370b661fb61774e05d8d'), ObjectId('66b4370b661fb61774e05d8e'), ObjectId('66b4370b661fb61774e05d8f'), ObjectId('66b4370b661fb61774e05d90'), ObjectId('66b4370b661fb61774e05d91'), ObjectId('66b4370b661fb61774e05d92'), ObjectId('66b4370b661fb61774e05d93'), ObjectId('66b4370b661fb61774e05d94'), ObjectId('66b4370b661fb61774e05d95'), ObjectId('66b4370b661fb61774e05d96'), ObjectId('66b4370b661fb61774e05d97'), ObjectId('66b4370b661fb61774e05d98'), ObjectId('66b4370b661fb61774e05d99'), ObjectId('66b4370b661fb61774e05d9a'), ObjectId('66b4370b661fb61774e05d9b'), ObjectId('66b4370b661fb61774e05d9c'), ObjectId('66b4370b661fb61774e05d9d'), ObjectId('66b4370b661fb61774e05d9e'), ObjectId('66b4370b661fb61774e05d9f'), ObjectId('66b4370b661fb61774e05da0'), ObjectId('66b4370b661fb61774e05da1'), ObjectId('66b4370b661fb61774e05da2'), ObjectId('66b4370b661fb61774e05da3'), ObjectId('66b4370b661fb61774e05da4'), ObjectId('66b4370b661fb61774e05da5'), ObjectId('66b4370b661fb61774e05da6'), ObjectId('66b4370b661fb61774e05da7'), ObjectId('66b4370b661fb61774e05da8'), ObjectId('66b4370b661fb61774e05da9'), ObjectId('66b4370b661fb61774e05daa'), ObjectId('66b4370b661fb61774e05dab'), ObjectId('66b4370b661fb61774e05dac'), ObjectId('66b4370b661fb61774e05dad'), ObjectId('66b4370b661fb61774e05dae'), ObjectId('66b4370b661fb61774e05daf'), ObjectId('66b4370b661fb61774e05db0'), ObjectId('66b4370b661fb61774e05db1'), ObjectId('66b4370b661fb61774e05db2'), ObjectId('66b4370b661fb61774e05db3'), ObjectId('66b4370b661fb61774e05db4'), ObjectId('66b4370b661fb61774e05db5'), ObjectId('66b4370b661fb61774e05db6'), ObjectId('66b4370b661fb61774e05db7'), ObjectId('66b4370b661fb61774e05db8'), ObjectId('66b4370b661fb61774e05db9'), ObjectId('66b4370b661fb61774e05dba'), ObjectId('66b4370b661fb61774e05dbb'), ObjectId('66b4370b661fb61774e05dbc'), ObjectId('66b4370b661fb61774e05dbd'), ObjectId('66b4370b661fb61774e05dbe'), ObjectId('66b4370b661fb61774e05dbf'), ObjectId('66b4370b661fb61774e05dc0'), ObjectId('66b4370b661fb61774e05dc1'), ObjectId('66b4370b661fb61774e05dc2'), ObjectId('66b4370b661fb61774e05dc3'), ObjectId('66b4370b661fb61774e05dc4'), ObjectId('66b4370b661fb61774e05dc5'), ObjectId('66b4370b661fb61774e05dc6'), ObjectId('66b4370b661fb61774e05dc7'), ObjectId('66b4370b661fb61774e05dc8'), ObjectId('66b4370b661fb61774e05dc9'), ObjectId('66b4370b661fb61774e05dca'), ObjectId('66b4370b661fb61774e05dcb'), ObjectId('66b4370b661fb61774e05dcc'), ObjectId('66b4370b661fb61774e05dcd'), ObjectId('66b4370b661fb61774e05dce'), ObjectId('66b4370b661fb61774e05dcf'), ObjectId('66b4370b661fb61774e05dd0'), ObjectId('66b4370b661fb61774e05dd1'), ObjectId('66b4370b661fb61774e05dd2'), ObjectId('66b4370b661fb61774e05dd3'), ObjectId('66b4370b661fb61774e05dd4'), ObjectId('66b4370b661fb61774e05dd5'), ObjectId('66b4370b661fb61774e05dd6'), ObjectId('66b4370b661fb61774e05dd7'), ObjectId('66b4370b661fb61774e05dd8'), ObjectId('66b4370b661fb61774e05dd9'), ObjectId('66b4370b661fb61774e05dda'), ObjectId('66b4370b661fb61774e05ddb'), ObjectId('66b4370b661fb61774e05ddc'), ObjectId('66b4370b661fb61774e05ddd'), ObjectId('66b4370b661fb61774e05dde'), ObjectId('66b4370b661fb61774e05ddf'), ObjectId('66b4370b661fb61774e05de0'), ObjectId('66b4370b661fb61774e05de1'), ObjectId('66b4370b661fb61774e05de2'), ObjectId('66b4370b661fb61774e05de3'), ObjectId('66b4370b661fb61774e05de4'), ObjectId('66b4370b661fb61774e05de5'), ObjectId('66b4370b661fb61774e05de6'), ObjectId('66b4370b661fb61774e05de7'), ObjectId('66b4370b661fb61774e05de8'), ObjectId('66b4370b661fb61774e05de9'), ObjectId('66b4370b661fb61774e05dea'), ObjectId('66b4370b661fb61774e05deb'), ObjectId('66b4370b661fb61774e05dec'), ObjectId('66b4370b661fb61774e05ded'), ObjectId('66b4370b661fb61774e05dee'), ObjectId('66b4370b661fb61774e05def'), ObjectId('66b4370b661fb61774e05df0'), ObjectId('66b4370b661fb61774e05df1'), ObjectId('66b4370b661fb61774e05df2'), ObjectId('66b4370b661fb61774e05df3'), ObjectId('66b4370b661fb61774e05df4'), ObjectId('66b4370b661fb61774e05df5'), ObjectId('66b4370b661fb61774e05df6'), ObjectId('66b4370b661fb61774e05df7'), ObjectId('66b4370b661fb61774e05df8'), ObjectId('66b4370b661fb61774e05df9'), ObjectId('66b4370b661fb61774e05dfa'), ObjectId('66b4370b661fb61774e05dfb'), ObjectId('66b4370b661fb61774e05dfc'), ObjectId('66b4370b661fb61774e05dfd'), ObjectId('66b4370b661fb61774e05dfe'), ObjectId('66b4370b661fb61774e05dff'), ObjectId('66b4370b661fb61774e05e00'), ObjectId('66b4370b661fb61774e05e01'), ObjectId('66b4370b661fb61774e05e02'), ObjectId('66b4370b661fb61774e05e03'), ObjectId('66b4370b661fb61774e05e04'), ObjectId('66b4370b661fb61774e05e05'), ObjectId('66b4370b661fb61774e05e06'), ObjectId('66b4370b661fb61774e05e07'), ObjectId('66b4370b661fb61774e05e08'), ObjectId('66b4370b661fb61774e05e09'), ObjectId('66b4370b661fb61774e05e0a'), ObjectId('66b4370b661fb61774e05e0b'), ObjectId('66b4370b661fb61774e05e0c'), ObjectId('66b4370b661fb61774e05e0d'), ObjectId('66b4370b661fb61774e05e0e'), ObjectId('66b4370b661fb61774e05e0f'), ObjectId('66b4370b661fb61774e05e10'), ObjectId('66b4370b661fb61774e05e11'), ObjectId('66b4370b661fb61774e05e12'), ObjectId('66b4370b661fb61774e05e13'), ObjectId('66b4370b661fb61774e05e14'), ObjectId('66b4370b661fb61774e05e15'), ObjectId('66b4370b661fb61774e05e16'), ObjectId('66b4370b661fb61774e05e17'), ObjectId('66b4370b661fb61774e05e18'), ObjectId('66b4370b661fb61774e05e19'), ObjectId('66b4370b661fb61774e05e1a'), ObjectId('66b4370b661fb61774e05e1b'), ObjectId('66b4370b661fb61774e05e1c'), ObjectId('66b4370b661fb61774e05e1d'), ObjectId('66b4370b661fb61774e05e1e'), ObjectId('66b4370b661fb61774e05e1f'), ObjectId('66b4370b661fb61774e05e20'), ObjectId('66b4370b661fb61774e05e21'), ObjectId('66b4370b661fb61774e05e22'), ObjectId('66b4370b661fb61774e05e23'), ObjectId('66b4370b661fb61774e05e24'), ObjectId('66b4370b661fb61774e05e25'), ObjectId('66b4370b661fb61774e05e26'), ObjectId('66b4370b661fb61774e05e27'), ObjectId('66b4370b661fb61774e05e28'), ObjectId('66b4370b661fb61774e05e29'), ObjectId('66b4370b661fb61774e05e2a'), ObjectId('66b4370b661fb61774e05e2b'), ObjectId('66b4370b661fb61774e05e2c'), ObjectId('66b4370b661fb61774e05e2d'), ObjectId('66b4370b661fb61774e05e2e'), ObjectId('66b4370b661fb61774e05e2f'), ObjectId('66b4370b661fb61774e05e30'), ObjectId('66b4370b661fb61774e05e31'), ObjectId('66b4370b661fb61774e05e32'), ObjectId('66b4370b661fb61774e05e33'), ObjectId('66b4370b661fb61774e05e34'), ObjectId('66b4370b661fb61774e05e35'), ObjectId('66b4370b661fb61774e05e36'), ObjectId('66b4370b661fb61774e05e37'), ObjectId('66b4370b661fb61774e05e38'), ObjectId('66b4370b661fb61774e05e39'), ObjectId('66b4370b661fb61774e05e3a'), ObjectId('66b4370b661fb61774e05e3b'), ObjectId('66b4370b661fb61774e05e3c'), ObjectId('66b4370b661fb61774e05e3d'), ObjectId('66b4370b661fb61774e05e3e'), ObjectId('66b4370b661fb61774e05e3f'), ObjectId('66b4370b661fb61774e05e40'), ObjectId('66b4370b661fb61774e05e41'), ObjectId('66b4370b661fb61774e05e42'), ObjectId('66b4370b661fb61774e05e43'), ObjectId('66b4370b661fb61774e05e44'), ObjectId('66b4370b661fb61774e05e45'), ObjectId('66b4370b661fb61774e05e46'), ObjectId('66b4370b661fb61774e05e47'), ObjectId('66b4370b661fb61774e05e48'), ObjectId('66b4370b661fb61774e05e49'), ObjectId('66b4370b661fb61774e05e4a'), ObjectId('66b4370b661fb61774e05e4b'), ObjectId('66b4370b661fb61774e05e4c'), ObjectId('66b4370b661fb61774e05e4d'), ObjectId('66b4370b661fb61774e05e4e'), ObjectId('66b4370b661fb61774e05e4f'), ObjectId('66b4370b661fb61774e05e50'), ObjectId('66b4370b661fb61774e05e51'), ObjectId('66b4370b661fb61774e05e52'), ObjectId('66b4370b661fb61774e05e53'), ObjectId('66b4370b661fb61774e05e54'), ObjectId('66b4370b661fb61774e05e55'), ObjectId('66b4370b661fb61774e05e56'), ObjectId('66b4370b661fb61774e05e57'), ObjectId('66b4370b661fb61774e05e58'), ObjectId('66b4370b661fb61774e05e59'), ObjectId('66b4370b661fb61774e05e5a'), ObjectId('66b4370b661fb61774e05e5b'), ObjectId('66b4370b661fb61774e05e5c'), ObjectId('66b4370b661fb61774e05e5d'), ObjectId('66b4370b661fb61774e05e5e'), ObjectId('66b4370b661fb61774e05e5f'), ObjectId('66b4370b661fb61774e05e60'), ObjectId('66b4370b661fb61774e05e61'), ObjectId('66b4370b661fb61774e05e62'), ObjectId('66b4370b661fb61774e05e63'), ObjectId('66b4370b661fb61774e05e64'), ObjectId('66b4370b661fb61774e05e65'), ObjectId('66b4370b661fb61774e05e66'), ObjectId('66b4370b661fb61774e05e67'), ObjectId('66b4370b661fb61774e05e68'), ObjectId('66b4370b661fb61774e05e69'), ObjectId('66b4370b661fb61774e05e6a'), ObjectId('66b4370b661fb61774e05e6b'), ObjectId('66b4370b661fb61774e05e6c'), ObjectId('66b4370b661fb61774e05e6d'), ObjectId('66b4370b661fb61774e05e6e'), ObjectId('66b4370b661fb61774e05e6f'), ObjectId('66b4370b661fb61774e05e70'), ObjectId('66b4370b661fb61774e05e71'), ObjectId('66b4370b661fb61774e05e72'), ObjectId('66b4370b661fb61774e05e73'), ObjectId('66b4370b661fb61774e05e74'), ObjectId('66b4370b661fb61774e05e75'), ObjectId('66b4370b661fb61774e05e76'), ObjectId('66b4370b661fb61774e05e77'), ObjectId('66b4370b661fb61774e05e78'), ObjectId('66b4370b661fb61774e05e79'), ObjectId('66b4370b661fb61774e05e7a'), ObjectId('66b4370b661fb61774e05e7b'), ObjectId('66b4370b661fb61774e05e7c'), ObjectId('66b4370b661fb61774e05e7d'), ObjectId('66b4370b661fb61774e05e7e'), ObjectId('66b4370b661fb61774e05e7f'), ObjectId('66b4370b661fb61774e05e80'), ObjectId('66b4370b661fb61774e05e81'), ObjectId('66b4370b661fb61774e05e82'), ObjectId('66b4370b661fb61774e05e83'), ObjectId('66b4370b661fb61774e05e84'), ObjectId('66b4370b661fb61774e05e85'), ObjectId('66b4370b661fb61774e05e86'), ObjectId('66b4370b661fb61774e05e87'), ObjectId('66b4370b661fb61774e05e88'), ObjectId('66b4370b661fb61774e05e89'), ObjectId('66b4370b661fb61774e05e8a'), ObjectId('66b4370b661fb61774e05e8b'), ObjectId('66b4370b661fb61774e05e8c'), ObjectId('66b4370b661fb61774e05e8d'), ObjectId('66b4370b661fb61774e05e8e'), ObjectId('66b4370b661fb61774e05e8f'), ObjectId('66b4370b661fb61774e05e90'), ObjectId('66b4370b661fb61774e05e91'), ObjectId('66b4370b661fb61774e05e92'), ObjectId('66b4370b661fb61774e05e93'), ObjectId('66b4370b661fb61774e05e94'), ObjectId('66b4370b661fb61774e05e95'), ObjectId('66b4370b661fb61774e05e96'), ObjectId('66b4370b661fb61774e05e97'), ObjectId('66b4370b661fb61774e05e98'), ObjectId('66b4370b661fb61774e05e99'), ObjectId('66b4370b661fb61774e05e9a'), ObjectId('66b4370b661fb61774e05e9b'), ObjectId('66b4370b661fb61774e05e9c'), ObjectId('66b4370b661fb61774e05e9d'), ObjectId('66b4370b661fb61774e05e9e'), ObjectId('66b4370b661fb61774e05e9f'), ObjectId('66b4370b661fb61774e05ea0'), ObjectId('66b4370b661fb61774e05ea1'), ObjectId('66b4370b661fb61774e05ea2'), ObjectId('66b4370b661fb61774e05ea3'), ObjectId('66b4370b661fb61774e05ea4'), ObjectId('66b4370b661fb61774e05ea5'), ObjectId('66b4370b661fb61774e05ea6'), ObjectId('66b4370b661fb61774e05ea7'), ObjectId('66b4370b661fb61774e05ea8'), ObjectId('66b4370b661fb61774e05ea9'), ObjectId('66b4370b661fb61774e05eaa'), ObjectId('66b4370b661fb61774e05eab'), ObjectId('66b4370b661fb61774e05eac'), ObjectId('66b4370b661fb61774e05ead'), ObjectId('66b4370b661fb61774e05eae'), ObjectId('66b4370b661fb61774e05eaf'), ObjectId('66b4370b661fb61774e05eb0'), ObjectId('66b4370b661fb61774e05eb1'), ObjectId('66b4370b661fb61774e05eb2'), ObjectId('66b4370b661fb61774e05eb3'), ObjectId('66b4370b661fb61774e05eb4'), ObjectId('66b4370b661fb61774e05eb5'), ObjectId('66b4370b661fb61774e05eb6'), ObjectId('66b4370b661fb61774e05eb7'), ObjectId('66b4370b661fb61774e05eb8'), ObjectId('66b4370b661fb61774e05eb9'), ObjectId('66b4370b661fb61774e05eba'), ObjectId('66b4370b661fb61774e05ebb'), ObjectId('66b4370b661fb61774e05ebc'), ObjectId('66b4370b661fb61774e05ebd'), ObjectId('66b4370b661fb61774e05ebe'), ObjectId('66b4370b661fb61774e05ebf'), ObjectId('66b4370b661fb61774e05ec0'), ObjectId('66b4370b661fb61774e05ec1'), ObjectId('66b4370b661fb61774e05ec2'), ObjectId('66b4370b661fb61774e05ec3'), ObjectId('66b4370b661fb61774e05ec4'), ObjectId('66b4370b661fb61774e05ec5'), ObjectId('66b4370b661fb61774e05ec6'), ObjectId('66b4370b661fb61774e05ec7'), ObjectId('66b4370b661fb61774e05ec8'), ObjectId('66b4370b661fb61774e05ec9'), ObjectId('66b4370b661fb61774e05eca'), ObjectId('66b4370b661fb61774e05ecb'), ObjectId('66b4370b661fb61774e05ecc'), ObjectId('66b4370b661fb61774e05ecd'), ObjectId('66b4370b661fb61774e05ece'), ObjectId('66b4370b661fb61774e05ecf'), ObjectId('66b4370b661fb61774e05ed0'), ObjectId('66b4370b661fb61774e05ed1'), ObjectId('66b4370b661fb61774e05ed2'), ObjectId('66b4370b661fb61774e05ed3'), ObjectId('66b4370b661fb61774e05ed4'), ObjectId('66b4370b661fb61774e05ed5'), ObjectId('66b4370b661fb61774e05ed6'), ObjectId('66b4370b661fb61774e05ed7'), ObjectId('66b4370b661fb61774e05ed8'), ObjectId('66b4370b661fb61774e05ed9'), ObjectId('66b4370b661fb61774e05eda'), ObjectId('66b4370b661fb61774e05edb'), ObjectId('66b4370b661fb61774e05edc'), ObjectId('66b4370b661fb61774e05edd'), ObjectId('66b4370b661fb61774e05ede'), ObjectId('66b4370b661fb61774e05edf'), ObjectId('66b4370b661fb61774e05ee0'), ObjectId('66b4370b661fb61774e05ee1'), ObjectId('66b4370b661fb61774e05ee2'), ObjectId('66b4370b661fb61774e05ee3'), ObjectId('66b4370b661fb61774e05ee4'), ObjectId('66b4370b661fb61774e05ee5'), ObjectId('66b4370b661fb61774e05ee6'), ObjectId('66b4370b661fb61774e05ee7'), ObjectId('66b4370b661fb61774e05ee8'), ObjectId('66b4370b661fb61774e05ee9'), ObjectId('66b4370b661fb61774e05eea'), ObjectId('66b4370b661fb61774e05eeb'), ObjectId('66b4370b661fb61774e05eec'), ObjectId('66b4370b661fb61774e05eed'), ObjectId('66b4370b661fb61774e05eee'), ObjectId('66b4370b661fb61774e05eef'), ObjectId('66b4370b661fb61774e05ef0'), ObjectId('66b4370b661fb61774e05ef1'), ObjectId('66b4370b661fb61774e05ef2'), ObjectId('66b4370b661fb61774e05ef3'), ObjectId('66b4370b661fb61774e05ef4'), ObjectId('66b4370b661fb61774e05ef5'), ObjectId('66b4370b661fb61774e05ef6'), ObjectId('66b4370b661fb61774e05ef7'), ObjectId('66b4370b661fb61774e05ef8'), ObjectId('66b4370b661fb61774e05ef9'), ObjectId('66b4370b661fb61774e05efa'), ObjectId('66b4370b661fb61774e05efb'), ObjectId('66b4370b661fb61774e05efc'), ObjectId('66b4370b661fb61774e05efd'), ObjectId('66b4370b661fb61774e05efe'), ObjectId('66b4370b661fb61774e05eff'), ObjectId('66b4370b661fb61774e05f00'), ObjectId('66b4370b661fb61774e05f01'), ObjectId('66b4370b661fb61774e05f02'), ObjectId('66b4370b661fb61774e05f03'), ObjectId('66b4370b661fb61774e05f04'), ObjectId('66b4370b661fb61774e05f05'), ObjectId('66b4370b661fb61774e05f06'), ObjectId('66b4370b661fb61774e05f07'), ObjectId('66b4370b661fb61774e05f08'), ObjectId('66b4370b661fb61774e05f09'), ObjectId('66b4370b661fb61774e05f0a'), ObjectId('66b4370b661fb61774e05f0b'), ObjectId('66b4370b661fb61774e05f0c'), ObjectId('66b4370b661fb61774e05f0d'), ObjectId('66b4370b661fb61774e05f0e'), ObjectId('66b4370b661fb61774e05f0f'), ObjectId('66b4370b661fb61774e05f10'), ObjectId('66b4370b661fb61774e05f11'), ObjectId('66b4370b661fb61774e05f12'), ObjectId('66b4370b661fb61774e05f13'), ObjectId('66b4370b661fb61774e05f14'), ObjectId('66b4370b661fb61774e05f15'), ObjectId('66b4370b661fb61774e05f16'), ObjectId('66b4370b661fb61774e05f17'), ObjectId('66b4370b661fb61774e05f18'), ObjectId('66b4370b661fb61774e05f19'), ObjectId('66b4370b661fb61774e05f1a'), ObjectId('66b4370b661fb61774e05f1b'), ObjectId('66b4370b661fb61774e05f1c'), ObjectId('66b4370b661fb61774e05f1d'), ObjectId('66b4370b661fb61774e05f1e'), ObjectId('66b4370b661fb61774e05f1f'), ObjectId('66b4370b661fb61774e05f20'), ObjectId('66b4370b661fb61774e05f21'), ObjectId('66b4370b661fb61774e05f22'), ObjectId('66b4370b661fb61774e05f23'), ObjectId('66b4370b661fb61774e05f24'), ObjectId('66b4370b661fb61774e05f25'), ObjectId('66b4370b661fb61774e05f26'), ObjectId('66b4370b661fb61774e05f27'), ObjectId('66b4370b661fb61774e05f28'), ObjectId('66b4370b661fb61774e05f29'), ObjectId('66b4370b661fb61774e05f2a'), ObjectId('66b4370b661fb61774e05f2b'), ObjectId('66b4370b661fb61774e05f2c'), ObjectId('66b4370b661fb61774e05f2d'), ObjectId('66b4370b661fb61774e05f2e'), ObjectId('66b4370b661fb61774e05f2f'), ObjectId('66b4370b661fb61774e05f30'), ObjectId('66b4370b661fb61774e05f31')], acknowledged=True)"
      ]
     },
     "execution_count": 26,
     "metadata": {},
     "output_type": "execute_result"
    }
   ],
   "source": [
    "# Insert data into MongoDB collection\n",
    "collection.insert_many(data_dict)"
   ]
  },
  {
   "cell_type": "code",
   "execution_count": 27,
   "id": "fc5f09ca-0c4d-4248-9cf0-e1e511d34986",
   "metadata": {},
   "outputs": [],
   "source": [
    "# Sort the documents based on 'Glucose' level in descending order\n",
    "sorted_docs = collection.find().sort('Glucose', -1)\n",
    "sorted_docs_df = pd.DataFrame(list(sorted_docs))"
   ]
  },
  {
   "cell_type": "code",
   "execution_count": 28,
   "id": "6f3096a0-8ad4-4664-acbc-657e48b27f25",
   "metadata": {},
   "outputs": [
    {
     "name": "stdout",
     "output_type": "stream",
     "text": [
      "\n",
      "Sorted documents based on 'Glucose' level in descending order:\n",
      "                        _id  Pregnancies   Glucose  BloodPressure  \\\n",
      "0  66b0319ca162d7e96f89ae33    -0.844885  2.542658       0.298896   \n",
      "1  66b43417661fb61774e05bc6    -0.844885  2.542658       0.298896   \n",
      "2  66b4370b661fb61774e05ec7    -0.844885  2.542658       0.298896   \n",
      "3  66b0319ca162d7e96f89adcf    -1.141852  2.509783      -0.528319   \n",
      "4  66b43417661fb61774e05b62    -1.141852  2.509783      -0.528319   \n",
      "\n",
      "   SkinThickness   Insulin       BMI  DiabetesPedigreeFunction       Age  \\\n",
      "0       1.581234 -0.181541  1.520193                  2.784923 -0.956462   \n",
      "1       1.581234 -0.181541  1.520193                  2.784923 -0.956462   \n",
      "2       1.581234 -0.181541  1.520193                  2.784923 -0.956462   \n",
      "3       0.329171  1.544458  1.287320                  0.090977 -0.445935   \n",
      "4       0.329171  1.544458  1.287320                  0.090977 -0.445935   \n",
      "\n",
      "   Class  \n",
      "0      1  \n",
      "1      1  \n",
      "2      1  \n",
      "3      1  \n",
      "4      1  \n"
     ]
    }
   ],
   "source": [
    "print(\"\\nSorted documents based on 'Glucose' level in descending order:\")\n",
    "print(sorted_docs_df.head())\n"
   ]
  },
  {
   "cell_type": "code",
   "execution_count": 29,
   "id": "23ecd490-6484-41de-85a7-96d2884bd77a",
   "metadata": {},
   "outputs": [],
   "source": [
    "#i"
   ]
  },
  {
   "cell_type": "code",
   "execution_count": 47,
   "id": "8cc68111-1bf7-409c-a3b6-614a88a43446",
   "metadata": {},
   "outputs": [],
   "source": [
    "import pandas as pd\n",
    "from pymongo import MongoClient\n",
    "from sklearn.preprocessing import StandardScaler"
   ]
  },
  {
   "cell_type": "code",
   "execution_count": 48,
   "id": "07451dbf-ca08-4b45-adae-b5df223d446e",
   "metadata": {},
   "outputs": [],
   "source": [
    "# Load the dataset\n",
    "df = pd.read_csv('pima-indians-diabetes.csv')"
   ]
  },
  {
   "cell_type": "code",
   "execution_count": 49,
   "id": "14f6823f-d349-4df8-9695-4c132f0b8a2e",
   "metadata": {},
   "outputs": [
    {
     "name": "stdout",
     "output_type": "stream",
     "text": [
      "First few rows of the dataset:\n",
      "   Pregnancies  Glucose  BloodPressure  SkinThickness  Insulin   BMI  \\\n",
      "0            6      148             72             35        0  33.6   \n",
      "1            1       85             66             29        0  26.6   \n",
      "\n",
      "   DiabetesPedigreeFunction  Age  Class  \n",
      "0                     0.627   50      1  \n",
      "1                     0.351   31      0  \n"
     ]
    }
   ],
   "source": [
    "# Display the first few rows and check for missing values\n",
    "print(\"First few rows of the dataset:\")\n",
    "print(df.head(2))"
   ]
  },
  {
   "cell_type": "code",
   "execution_count": 50,
   "id": "7bff22c0-f7c2-4523-9de2-ee4518e2dd94",
   "metadata": {},
   "outputs": [],
   "source": [
    "# Replace zeros with NaN for columns where zeros are invalid\n",
    "columns_with_zeros = ['Glucose', 'BloodPressure', 'SkinThickness', 'Insulin', 'BMI']\n",
    "df[columns_with_zeros] = df[columns_with_zeros].replace(0, pd.NA)"
   ]
  },
  {
   "cell_type": "code",
   "execution_count": 51,
   "id": "36df5aed-a1e5-4912-ba14-70711c5e475b",
   "metadata": {},
   "outputs": [
    {
     "name": "stderr",
     "output_type": "stream",
     "text": [
      "C:\\Users\\Admin\\AppData\\Local\\Temp\\ipykernel_7796\\3769941975.py:3: FutureWarning: Downcasting object dtype arrays on .fillna, .ffill, .bfill is deprecated and will change in a future version. Call result.infer_objects(copy=False) instead. To opt-in to the future behavior, set `pd.set_option('future.no_silent_downcasting', True)`\n",
      "  df[numeric_cols] = df[numeric_cols].fillna(df[numeric_cols].median())\n"
     ]
    }
   ],
   "source": [
    "# Impute missing values with the median for numeric columns only\n",
    "numeric_cols = df.columns[df.columns != 'Class']\n",
    "df[numeric_cols] = df[numeric_cols].fillna(df[numeric_cols].median())"
   ]
  },
  {
   "cell_type": "code",
   "execution_count": 52,
   "id": "8186afdc-7244-4e79-992e-d6e1301f8436",
   "metadata": {},
   "outputs": [],
   "source": [
    "# Convert 'Class' column to categorical type\n",
    "df['Class'] = df['Class'].astype('category')"
   ]
  },
  {
   "cell_type": "code",
   "execution_count": 53,
   "id": "f4e461ba-1734-4dd9-b752-d7b94be894a9",
   "metadata": {},
   "outputs": [],
   "source": [
    "# Normalize numeric columns, excluding 'Class'\n",
    "scaler = StandardScaler()\n",
    "df[numeric_cols] = scaler.fit_transform(df[numeric_cols])\n"
   ]
  },
  {
   "cell_type": "code",
   "execution_count": 54,
   "id": "71406dba-add0-47fa-a314-505291e89350",
   "metadata": {},
   "outputs": [
    {
     "name": "stdout",
     "output_type": "stream",
     "text": [
      "\n",
      "Cleaned dataset:\n",
      "   Pregnancies   Glucose  BloodPressure  SkinThickness   Insulin       BMI  \\\n",
      "0     0.639947  0.866045      -0.031990       0.670643 -0.181541  0.166619   \n",
      "1    -0.844885 -1.205066      -0.528319      -0.012301 -0.181541 -0.852200   \n",
      "\n",
      "   DiabetesPedigreeFunction       Age Class  \n",
      "0                  0.468492  1.425995     1  \n",
      "1                 -0.365061 -0.190672     0  \n"
     ]
    }
   ],
   "source": [
    "# Verify the cleaned and tidied dataset\n",
    "print(\"\\nCleaned dataset:\")\n",
    "print(df.head(2))\n"
   ]
  },
  {
   "cell_type": "code",
   "execution_count": 55,
   "id": "ff03c0c0-4628-4742-9def-0ea4fa0bfba8",
   "metadata": {},
   "outputs": [],
   "source": [
    "# Establish connection to MongoDB\n",
    "client = MongoClient('mongodb://localhost:27017/')\n",
    "db = client['diabetes_db']\n",
    "collection = db['diabetes_data']"
   ]
  },
  {
   "cell_type": "code",
   "execution_count": 56,
   "id": "0f5e416a-37d7-400e-a275-69e24c4d107d",
   "metadata": {},
   "outputs": [],
   "source": [
    "# Convert DataFrame to dictionary format\n",
    "data_dict = df.to_dict(orient='records')"
   ]
  },
  {
   "cell_type": "code",
   "execution_count": 57,
   "id": "d2dc1b7b-80a4-4e2b-b09e-fb06bd4c49bc",
   "metadata": {},
   "outputs": [
    {
     "data": {
      "text/plain": [
       "InsertManyResult([ObjectId('66b57fe9661fb61774e06234'), ObjectId('66b57fe9661fb61774e06235'), ObjectId('66b57fe9661fb61774e06236'), ObjectId('66b57fe9661fb61774e06237'), ObjectId('66b57fe9661fb61774e06238'), ObjectId('66b57fe9661fb61774e06239'), ObjectId('66b57fe9661fb61774e0623a'), ObjectId('66b57fe9661fb61774e0623b'), ObjectId('66b57fe9661fb61774e0623c'), ObjectId('66b57fe9661fb61774e0623d'), ObjectId('66b57fe9661fb61774e0623e'), ObjectId('66b57fe9661fb61774e0623f'), ObjectId('66b57fe9661fb61774e06240'), ObjectId('66b57fe9661fb61774e06241'), ObjectId('66b57fe9661fb61774e06242'), ObjectId('66b57fe9661fb61774e06243'), ObjectId('66b57fe9661fb61774e06244'), ObjectId('66b57fe9661fb61774e06245'), ObjectId('66b57fe9661fb61774e06246'), ObjectId('66b57fe9661fb61774e06247'), ObjectId('66b57fe9661fb61774e06248'), ObjectId('66b57fe9661fb61774e06249'), ObjectId('66b57fe9661fb61774e0624a'), ObjectId('66b57fe9661fb61774e0624b'), ObjectId('66b57fe9661fb61774e0624c'), ObjectId('66b57fe9661fb61774e0624d'), ObjectId('66b57fe9661fb61774e0624e'), ObjectId('66b57fe9661fb61774e0624f'), ObjectId('66b57fe9661fb61774e06250'), ObjectId('66b57fe9661fb61774e06251'), ObjectId('66b57fe9661fb61774e06252'), ObjectId('66b57fe9661fb61774e06253'), ObjectId('66b57fe9661fb61774e06254'), ObjectId('66b57fe9661fb61774e06255'), ObjectId('66b57fe9661fb61774e06256'), ObjectId('66b57fe9661fb61774e06257'), ObjectId('66b57fe9661fb61774e06258'), ObjectId('66b57fe9661fb61774e06259'), ObjectId('66b57fe9661fb61774e0625a'), ObjectId('66b57fe9661fb61774e0625b'), ObjectId('66b57fe9661fb61774e0625c'), ObjectId('66b57fe9661fb61774e0625d'), ObjectId('66b57fe9661fb61774e0625e'), ObjectId('66b57fe9661fb61774e0625f'), ObjectId('66b57fe9661fb61774e06260'), ObjectId('66b57fe9661fb61774e06261'), ObjectId('66b57fe9661fb61774e06262'), ObjectId('66b57fe9661fb61774e06263'), ObjectId('66b57fe9661fb61774e06264'), ObjectId('66b57fe9661fb61774e06265'), ObjectId('66b57fe9661fb61774e06266'), ObjectId('66b57fe9661fb61774e06267'), ObjectId('66b57fe9661fb61774e06268'), ObjectId('66b57fe9661fb61774e06269'), ObjectId('66b57fe9661fb61774e0626a'), ObjectId('66b57fe9661fb61774e0626b'), ObjectId('66b57fe9661fb61774e0626c'), ObjectId('66b57fe9661fb61774e0626d'), ObjectId('66b57fe9661fb61774e0626e'), ObjectId('66b57fe9661fb61774e0626f'), ObjectId('66b57fe9661fb61774e06270'), ObjectId('66b57fe9661fb61774e06271'), ObjectId('66b57fe9661fb61774e06272'), ObjectId('66b57fe9661fb61774e06273'), ObjectId('66b57fe9661fb61774e06274'), ObjectId('66b57fe9661fb61774e06275'), ObjectId('66b57fe9661fb61774e06276'), ObjectId('66b57fe9661fb61774e06277'), ObjectId('66b57fe9661fb61774e06278'), ObjectId('66b57fe9661fb61774e06279'), ObjectId('66b57fe9661fb61774e0627a'), ObjectId('66b57fe9661fb61774e0627b'), ObjectId('66b57fe9661fb61774e0627c'), ObjectId('66b57fe9661fb61774e0627d'), ObjectId('66b57fe9661fb61774e0627e'), ObjectId('66b57fe9661fb61774e0627f'), ObjectId('66b57fe9661fb61774e06280'), ObjectId('66b57fe9661fb61774e06281'), ObjectId('66b57fe9661fb61774e06282'), ObjectId('66b57fe9661fb61774e06283'), ObjectId('66b57fe9661fb61774e06284'), ObjectId('66b57fe9661fb61774e06285'), ObjectId('66b57fe9661fb61774e06286'), ObjectId('66b57fe9661fb61774e06287'), ObjectId('66b57fe9661fb61774e06288'), ObjectId('66b57fe9661fb61774e06289'), ObjectId('66b57fe9661fb61774e0628a'), ObjectId('66b57fe9661fb61774e0628b'), ObjectId('66b57fe9661fb61774e0628c'), ObjectId('66b57fe9661fb61774e0628d'), ObjectId('66b57fe9661fb61774e0628e'), ObjectId('66b57fe9661fb61774e0628f'), ObjectId('66b57fe9661fb61774e06290'), ObjectId('66b57fe9661fb61774e06291'), ObjectId('66b57fe9661fb61774e06292'), ObjectId('66b57fe9661fb61774e06293'), ObjectId('66b57fe9661fb61774e06294'), ObjectId('66b57fe9661fb61774e06295'), ObjectId('66b57fe9661fb61774e06296'), ObjectId('66b57fe9661fb61774e06297'), ObjectId('66b57fe9661fb61774e06298'), ObjectId('66b57fe9661fb61774e06299'), ObjectId('66b57fe9661fb61774e0629a'), ObjectId('66b57fe9661fb61774e0629b'), ObjectId('66b57fe9661fb61774e0629c'), ObjectId('66b57fe9661fb61774e0629d'), ObjectId('66b57fe9661fb61774e0629e'), ObjectId('66b57fe9661fb61774e0629f'), ObjectId('66b57fe9661fb61774e062a0'), ObjectId('66b57fe9661fb61774e062a1'), ObjectId('66b57fe9661fb61774e062a2'), ObjectId('66b57fe9661fb61774e062a3'), ObjectId('66b57fe9661fb61774e062a4'), ObjectId('66b57fe9661fb61774e062a5'), ObjectId('66b57fe9661fb61774e062a6'), ObjectId('66b57fe9661fb61774e062a7'), ObjectId('66b57fe9661fb61774e062a8'), ObjectId('66b57fe9661fb61774e062a9'), ObjectId('66b57fe9661fb61774e062aa'), ObjectId('66b57fe9661fb61774e062ab'), ObjectId('66b57fe9661fb61774e062ac'), ObjectId('66b57fe9661fb61774e062ad'), ObjectId('66b57fe9661fb61774e062ae'), ObjectId('66b57fe9661fb61774e062af'), ObjectId('66b57fe9661fb61774e062b0'), ObjectId('66b57fe9661fb61774e062b1'), ObjectId('66b57fe9661fb61774e062b2'), ObjectId('66b57fe9661fb61774e062b3'), ObjectId('66b57fe9661fb61774e062b4'), ObjectId('66b57fe9661fb61774e062b5'), ObjectId('66b57fe9661fb61774e062b6'), ObjectId('66b57fe9661fb61774e062b7'), ObjectId('66b57fe9661fb61774e062b8'), ObjectId('66b57fe9661fb61774e062b9'), ObjectId('66b57fe9661fb61774e062ba'), ObjectId('66b57fe9661fb61774e062bb'), ObjectId('66b57fe9661fb61774e062bc'), ObjectId('66b57fe9661fb61774e062bd'), ObjectId('66b57fe9661fb61774e062be'), ObjectId('66b57fe9661fb61774e062bf'), ObjectId('66b57fe9661fb61774e062c0'), ObjectId('66b57fe9661fb61774e062c1'), ObjectId('66b57fe9661fb61774e062c2'), ObjectId('66b57fe9661fb61774e062c3'), ObjectId('66b57fe9661fb61774e062c4'), ObjectId('66b57fe9661fb61774e062c5'), ObjectId('66b57fe9661fb61774e062c6'), ObjectId('66b57fe9661fb61774e062c7'), ObjectId('66b57fe9661fb61774e062c8'), ObjectId('66b57fe9661fb61774e062c9'), ObjectId('66b57fe9661fb61774e062ca'), ObjectId('66b57fe9661fb61774e062cb'), ObjectId('66b57fe9661fb61774e062cc'), ObjectId('66b57fe9661fb61774e062cd'), ObjectId('66b57fe9661fb61774e062ce'), ObjectId('66b57fe9661fb61774e062cf'), ObjectId('66b57fe9661fb61774e062d0'), ObjectId('66b57fe9661fb61774e062d1'), ObjectId('66b57fe9661fb61774e062d2'), ObjectId('66b57fe9661fb61774e062d3'), ObjectId('66b57fe9661fb61774e062d4'), ObjectId('66b57fe9661fb61774e062d5'), ObjectId('66b57fe9661fb61774e062d6'), ObjectId('66b57fe9661fb61774e062d7'), ObjectId('66b57fe9661fb61774e062d8'), ObjectId('66b57fe9661fb61774e062d9'), ObjectId('66b57fe9661fb61774e062da'), ObjectId('66b57fe9661fb61774e062db'), ObjectId('66b57fe9661fb61774e062dc'), ObjectId('66b57fe9661fb61774e062dd'), ObjectId('66b57fe9661fb61774e062de'), ObjectId('66b57fe9661fb61774e062df'), ObjectId('66b57fe9661fb61774e062e0'), ObjectId('66b57fe9661fb61774e062e1'), ObjectId('66b57fe9661fb61774e062e2'), ObjectId('66b57fe9661fb61774e062e3'), ObjectId('66b57fe9661fb61774e062e4'), ObjectId('66b57fe9661fb61774e062e5'), ObjectId('66b57fe9661fb61774e062e6'), ObjectId('66b57fe9661fb61774e062e7'), ObjectId('66b57fe9661fb61774e062e8'), ObjectId('66b57fe9661fb61774e062e9'), ObjectId('66b57fe9661fb61774e062ea'), ObjectId('66b57fe9661fb61774e062eb'), ObjectId('66b57fe9661fb61774e062ec'), ObjectId('66b57fe9661fb61774e062ed'), ObjectId('66b57fe9661fb61774e062ee'), ObjectId('66b57fe9661fb61774e062ef'), ObjectId('66b57fe9661fb61774e062f0'), ObjectId('66b57fe9661fb61774e062f1'), ObjectId('66b57fe9661fb61774e062f2'), ObjectId('66b57fe9661fb61774e062f3'), ObjectId('66b57fe9661fb61774e062f4'), ObjectId('66b57fe9661fb61774e062f5'), ObjectId('66b57fe9661fb61774e062f6'), ObjectId('66b57fe9661fb61774e062f7'), ObjectId('66b57fe9661fb61774e062f8'), ObjectId('66b57fe9661fb61774e062f9'), ObjectId('66b57fe9661fb61774e062fa'), ObjectId('66b57fe9661fb61774e062fb'), ObjectId('66b57fe9661fb61774e062fc'), ObjectId('66b57fe9661fb61774e062fd'), ObjectId('66b57fe9661fb61774e062fe'), ObjectId('66b57fe9661fb61774e062ff'), ObjectId('66b57fe9661fb61774e06300'), ObjectId('66b57fe9661fb61774e06301'), ObjectId('66b57fe9661fb61774e06302'), ObjectId('66b57fe9661fb61774e06303'), ObjectId('66b57fe9661fb61774e06304'), ObjectId('66b57fe9661fb61774e06305'), ObjectId('66b57fe9661fb61774e06306'), ObjectId('66b57fe9661fb61774e06307'), ObjectId('66b57fe9661fb61774e06308'), ObjectId('66b57fe9661fb61774e06309'), ObjectId('66b57fe9661fb61774e0630a'), ObjectId('66b57fe9661fb61774e0630b'), ObjectId('66b57fe9661fb61774e0630c'), ObjectId('66b57fe9661fb61774e0630d'), ObjectId('66b57fe9661fb61774e0630e'), ObjectId('66b57fe9661fb61774e0630f'), ObjectId('66b57fe9661fb61774e06310'), ObjectId('66b57fe9661fb61774e06311'), ObjectId('66b57fe9661fb61774e06312'), ObjectId('66b57fe9661fb61774e06313'), ObjectId('66b57fe9661fb61774e06314'), ObjectId('66b57fe9661fb61774e06315'), ObjectId('66b57fe9661fb61774e06316'), ObjectId('66b57fe9661fb61774e06317'), ObjectId('66b57fe9661fb61774e06318'), ObjectId('66b57fe9661fb61774e06319'), ObjectId('66b57fe9661fb61774e0631a'), ObjectId('66b57fe9661fb61774e0631b'), ObjectId('66b57fe9661fb61774e0631c'), ObjectId('66b57fe9661fb61774e0631d'), ObjectId('66b57fe9661fb61774e0631e'), ObjectId('66b57fe9661fb61774e0631f'), ObjectId('66b57fe9661fb61774e06320'), ObjectId('66b57fe9661fb61774e06321'), ObjectId('66b57fe9661fb61774e06322'), ObjectId('66b57fe9661fb61774e06323'), ObjectId('66b57fe9661fb61774e06324'), ObjectId('66b57fe9661fb61774e06325'), ObjectId('66b57fe9661fb61774e06326'), ObjectId('66b57fe9661fb61774e06327'), ObjectId('66b57fe9661fb61774e06328'), ObjectId('66b57fe9661fb61774e06329'), ObjectId('66b57fe9661fb61774e0632a'), ObjectId('66b57fe9661fb61774e0632b'), ObjectId('66b57fe9661fb61774e0632c'), ObjectId('66b57fe9661fb61774e0632d'), ObjectId('66b57fe9661fb61774e0632e'), ObjectId('66b57fe9661fb61774e0632f'), ObjectId('66b57fe9661fb61774e06330'), ObjectId('66b57fe9661fb61774e06331'), ObjectId('66b57fe9661fb61774e06332'), ObjectId('66b57fe9661fb61774e06333'), ObjectId('66b57fe9661fb61774e06334'), ObjectId('66b57fe9661fb61774e06335'), ObjectId('66b57fe9661fb61774e06336'), ObjectId('66b57fe9661fb61774e06337'), ObjectId('66b57fe9661fb61774e06338'), ObjectId('66b57fe9661fb61774e06339'), ObjectId('66b57fe9661fb61774e0633a'), ObjectId('66b57fe9661fb61774e0633b'), ObjectId('66b57fe9661fb61774e0633c'), ObjectId('66b57fe9661fb61774e0633d'), ObjectId('66b57fe9661fb61774e0633e'), ObjectId('66b57fe9661fb61774e0633f'), ObjectId('66b57fe9661fb61774e06340'), ObjectId('66b57fe9661fb61774e06341'), ObjectId('66b57fe9661fb61774e06342'), ObjectId('66b57fe9661fb61774e06343'), ObjectId('66b57fe9661fb61774e06344'), ObjectId('66b57fe9661fb61774e06345'), ObjectId('66b57fe9661fb61774e06346'), ObjectId('66b57fe9661fb61774e06347'), ObjectId('66b57fe9661fb61774e06348'), ObjectId('66b57fe9661fb61774e06349'), ObjectId('66b57fe9661fb61774e0634a'), ObjectId('66b57fe9661fb61774e0634b'), ObjectId('66b57fe9661fb61774e0634c'), ObjectId('66b57fe9661fb61774e0634d'), ObjectId('66b57fe9661fb61774e0634e'), ObjectId('66b57fe9661fb61774e0634f'), ObjectId('66b57fe9661fb61774e06350'), ObjectId('66b57fe9661fb61774e06351'), ObjectId('66b57fe9661fb61774e06352'), ObjectId('66b57fe9661fb61774e06353'), ObjectId('66b57fe9661fb61774e06354'), ObjectId('66b57fe9661fb61774e06355'), ObjectId('66b57fe9661fb61774e06356'), ObjectId('66b57fe9661fb61774e06357'), ObjectId('66b57fe9661fb61774e06358'), ObjectId('66b57fe9661fb61774e06359'), ObjectId('66b57fe9661fb61774e0635a'), ObjectId('66b57fe9661fb61774e0635b'), ObjectId('66b57fe9661fb61774e0635c'), ObjectId('66b57fe9661fb61774e0635d'), ObjectId('66b57fe9661fb61774e0635e'), ObjectId('66b57fe9661fb61774e0635f'), ObjectId('66b57fe9661fb61774e06360'), ObjectId('66b57fe9661fb61774e06361'), ObjectId('66b57fe9661fb61774e06362'), ObjectId('66b57fe9661fb61774e06363'), ObjectId('66b57fe9661fb61774e06364'), ObjectId('66b57fe9661fb61774e06365'), ObjectId('66b57fe9661fb61774e06366'), ObjectId('66b57fe9661fb61774e06367'), ObjectId('66b57fe9661fb61774e06368'), ObjectId('66b57fe9661fb61774e06369'), ObjectId('66b57fe9661fb61774e0636a'), ObjectId('66b57fe9661fb61774e0636b'), ObjectId('66b57fe9661fb61774e0636c'), ObjectId('66b57fe9661fb61774e0636d'), ObjectId('66b57fe9661fb61774e0636e'), ObjectId('66b57fe9661fb61774e0636f'), ObjectId('66b57fe9661fb61774e06370'), ObjectId('66b57fe9661fb61774e06371'), ObjectId('66b57fe9661fb61774e06372'), ObjectId('66b57fe9661fb61774e06373'), ObjectId('66b57fe9661fb61774e06374'), ObjectId('66b57fe9661fb61774e06375'), ObjectId('66b57fe9661fb61774e06376'), ObjectId('66b57fe9661fb61774e06377'), ObjectId('66b57fe9661fb61774e06378'), ObjectId('66b57fe9661fb61774e06379'), ObjectId('66b57fe9661fb61774e0637a'), ObjectId('66b57fe9661fb61774e0637b'), ObjectId('66b57fe9661fb61774e0637c'), ObjectId('66b57fe9661fb61774e0637d'), ObjectId('66b57fe9661fb61774e0637e'), ObjectId('66b57fe9661fb61774e0637f'), ObjectId('66b57fe9661fb61774e06380'), ObjectId('66b57fe9661fb61774e06381'), ObjectId('66b57fe9661fb61774e06382'), ObjectId('66b57fe9661fb61774e06383'), ObjectId('66b57fe9661fb61774e06384'), ObjectId('66b57fe9661fb61774e06385'), ObjectId('66b57fe9661fb61774e06386'), ObjectId('66b57fe9661fb61774e06387'), ObjectId('66b57fe9661fb61774e06388'), ObjectId('66b57fe9661fb61774e06389'), ObjectId('66b57fe9661fb61774e0638a'), ObjectId('66b57fe9661fb61774e0638b'), ObjectId('66b57fe9661fb61774e0638c'), ObjectId('66b57fe9661fb61774e0638d'), ObjectId('66b57fe9661fb61774e0638e'), ObjectId('66b57fe9661fb61774e0638f'), ObjectId('66b57fe9661fb61774e06390'), ObjectId('66b57fe9661fb61774e06391'), ObjectId('66b57fe9661fb61774e06392'), ObjectId('66b57fe9661fb61774e06393'), ObjectId('66b57fe9661fb61774e06394'), ObjectId('66b57fe9661fb61774e06395'), ObjectId('66b57fe9661fb61774e06396'), ObjectId('66b57fe9661fb61774e06397'), ObjectId('66b57fe9661fb61774e06398'), ObjectId('66b57fe9661fb61774e06399'), ObjectId('66b57fe9661fb61774e0639a'), ObjectId('66b57fe9661fb61774e0639b'), ObjectId('66b57fe9661fb61774e0639c'), ObjectId('66b57fe9661fb61774e0639d'), ObjectId('66b57fe9661fb61774e0639e'), ObjectId('66b57fe9661fb61774e0639f'), ObjectId('66b57fe9661fb61774e063a0'), ObjectId('66b57fe9661fb61774e063a1'), ObjectId('66b57fe9661fb61774e063a2'), ObjectId('66b57fe9661fb61774e063a3'), ObjectId('66b57fe9661fb61774e063a4'), ObjectId('66b57fe9661fb61774e063a5'), ObjectId('66b57fe9661fb61774e063a6'), ObjectId('66b57fe9661fb61774e063a7'), ObjectId('66b57fe9661fb61774e063a8'), ObjectId('66b57fe9661fb61774e063a9'), ObjectId('66b57fe9661fb61774e063aa'), ObjectId('66b57fe9661fb61774e063ab'), ObjectId('66b57fe9661fb61774e063ac'), ObjectId('66b57fe9661fb61774e063ad'), ObjectId('66b57fe9661fb61774e063ae'), ObjectId('66b57fe9661fb61774e063af'), ObjectId('66b57fe9661fb61774e063b0'), ObjectId('66b57fe9661fb61774e063b1'), ObjectId('66b57fe9661fb61774e063b2'), ObjectId('66b57fe9661fb61774e063b3'), ObjectId('66b57fe9661fb61774e063b4'), ObjectId('66b57fe9661fb61774e063b5'), ObjectId('66b57fe9661fb61774e063b6'), ObjectId('66b57fe9661fb61774e063b7'), ObjectId('66b57fe9661fb61774e063b8'), ObjectId('66b57fe9661fb61774e063b9'), ObjectId('66b57fe9661fb61774e063ba'), ObjectId('66b57fe9661fb61774e063bb'), ObjectId('66b57fe9661fb61774e063bc'), ObjectId('66b57fe9661fb61774e063bd'), ObjectId('66b57fe9661fb61774e063be'), ObjectId('66b57fe9661fb61774e063bf'), ObjectId('66b57fe9661fb61774e063c0'), ObjectId('66b57fe9661fb61774e063c1'), ObjectId('66b57fe9661fb61774e063c2'), ObjectId('66b57fe9661fb61774e063c3'), ObjectId('66b57fe9661fb61774e063c4'), ObjectId('66b57fe9661fb61774e063c5'), ObjectId('66b57fe9661fb61774e063c6'), ObjectId('66b57fe9661fb61774e063c7'), ObjectId('66b57fe9661fb61774e063c8'), ObjectId('66b57fe9661fb61774e063c9'), ObjectId('66b57fe9661fb61774e063ca'), ObjectId('66b57fe9661fb61774e063cb'), ObjectId('66b57fe9661fb61774e063cc'), ObjectId('66b57fe9661fb61774e063cd'), ObjectId('66b57fe9661fb61774e063ce'), ObjectId('66b57fe9661fb61774e063cf'), ObjectId('66b57fe9661fb61774e063d0'), ObjectId('66b57fe9661fb61774e063d1'), ObjectId('66b57fe9661fb61774e063d2'), ObjectId('66b57fe9661fb61774e063d3'), ObjectId('66b57fe9661fb61774e063d4'), ObjectId('66b57fe9661fb61774e063d5'), ObjectId('66b57fe9661fb61774e063d6'), ObjectId('66b57fe9661fb61774e063d7'), ObjectId('66b57fe9661fb61774e063d8'), ObjectId('66b57fe9661fb61774e063d9'), ObjectId('66b57fe9661fb61774e063da'), ObjectId('66b57fe9661fb61774e063db'), ObjectId('66b57fe9661fb61774e063dc'), ObjectId('66b57fe9661fb61774e063dd'), ObjectId('66b57fe9661fb61774e063de'), ObjectId('66b57fe9661fb61774e063df'), ObjectId('66b57fe9661fb61774e063e0'), ObjectId('66b57fe9661fb61774e063e1'), ObjectId('66b57fe9661fb61774e063e2'), ObjectId('66b57fe9661fb61774e063e3'), ObjectId('66b57fe9661fb61774e063e4'), ObjectId('66b57fe9661fb61774e063e5'), ObjectId('66b57fe9661fb61774e063e6'), ObjectId('66b57fe9661fb61774e063e7'), ObjectId('66b57fe9661fb61774e063e8'), ObjectId('66b57fe9661fb61774e063e9'), ObjectId('66b57fe9661fb61774e063ea'), ObjectId('66b57fe9661fb61774e063eb'), ObjectId('66b57fe9661fb61774e063ec'), ObjectId('66b57fe9661fb61774e063ed'), ObjectId('66b57fe9661fb61774e063ee'), ObjectId('66b57fe9661fb61774e063ef'), ObjectId('66b57fe9661fb61774e063f0'), ObjectId('66b57fe9661fb61774e063f1'), ObjectId('66b57fe9661fb61774e063f2'), ObjectId('66b57fe9661fb61774e063f3'), ObjectId('66b57fe9661fb61774e063f4'), ObjectId('66b57fe9661fb61774e063f5'), ObjectId('66b57fe9661fb61774e063f6'), ObjectId('66b57fe9661fb61774e063f7'), ObjectId('66b57fe9661fb61774e063f8'), ObjectId('66b57fe9661fb61774e063f9'), ObjectId('66b57fe9661fb61774e063fa'), ObjectId('66b57fe9661fb61774e063fb'), ObjectId('66b57fe9661fb61774e063fc'), ObjectId('66b57fe9661fb61774e063fd'), ObjectId('66b57fe9661fb61774e063fe'), ObjectId('66b57fe9661fb61774e063ff'), ObjectId('66b57fe9661fb61774e06400'), ObjectId('66b57fe9661fb61774e06401'), ObjectId('66b57fe9661fb61774e06402'), ObjectId('66b57fe9661fb61774e06403'), ObjectId('66b57fe9661fb61774e06404'), ObjectId('66b57fe9661fb61774e06405'), ObjectId('66b57fe9661fb61774e06406'), ObjectId('66b57fe9661fb61774e06407'), ObjectId('66b57fe9661fb61774e06408'), ObjectId('66b57fe9661fb61774e06409'), ObjectId('66b57fe9661fb61774e0640a'), ObjectId('66b57fe9661fb61774e0640b'), ObjectId('66b57fe9661fb61774e0640c'), ObjectId('66b57fe9661fb61774e0640d'), ObjectId('66b57fe9661fb61774e0640e'), ObjectId('66b57fe9661fb61774e0640f'), ObjectId('66b57fe9661fb61774e06410'), ObjectId('66b57fe9661fb61774e06411'), ObjectId('66b57fe9661fb61774e06412'), ObjectId('66b57fe9661fb61774e06413'), ObjectId('66b57fe9661fb61774e06414'), ObjectId('66b57fe9661fb61774e06415'), ObjectId('66b57fe9661fb61774e06416'), ObjectId('66b57fe9661fb61774e06417'), ObjectId('66b57fe9661fb61774e06418'), ObjectId('66b57fe9661fb61774e06419'), ObjectId('66b57fe9661fb61774e0641a'), ObjectId('66b57fe9661fb61774e0641b'), ObjectId('66b57fe9661fb61774e0641c'), ObjectId('66b57fe9661fb61774e0641d'), ObjectId('66b57fe9661fb61774e0641e'), ObjectId('66b57fe9661fb61774e0641f'), ObjectId('66b57fe9661fb61774e06420'), ObjectId('66b57fe9661fb61774e06421'), ObjectId('66b57fe9661fb61774e06422'), ObjectId('66b57fe9661fb61774e06423'), ObjectId('66b57fe9661fb61774e06424'), ObjectId('66b57fe9661fb61774e06425'), ObjectId('66b57fe9661fb61774e06426'), ObjectId('66b57fe9661fb61774e06427'), ObjectId('66b57fe9661fb61774e06428'), ObjectId('66b57fe9661fb61774e06429'), ObjectId('66b57fe9661fb61774e0642a'), ObjectId('66b57fe9661fb61774e0642b'), ObjectId('66b57fe9661fb61774e0642c'), ObjectId('66b57fe9661fb61774e0642d'), ObjectId('66b57fe9661fb61774e0642e'), ObjectId('66b57fe9661fb61774e0642f'), ObjectId('66b57fe9661fb61774e06430'), ObjectId('66b57fe9661fb61774e06431'), ObjectId('66b57fe9661fb61774e06432'), ObjectId('66b57fe9661fb61774e06433'), ObjectId('66b57fe9661fb61774e06434'), ObjectId('66b57fe9661fb61774e06435'), ObjectId('66b57fe9661fb61774e06436'), ObjectId('66b57fe9661fb61774e06437'), ObjectId('66b57fe9661fb61774e06438'), ObjectId('66b57fe9661fb61774e06439'), ObjectId('66b57fe9661fb61774e0643a'), ObjectId('66b57fe9661fb61774e0643b'), ObjectId('66b57fe9661fb61774e0643c'), ObjectId('66b57fe9661fb61774e0643d'), ObjectId('66b57fe9661fb61774e0643e'), ObjectId('66b57fe9661fb61774e0643f'), ObjectId('66b57fe9661fb61774e06440'), ObjectId('66b57fe9661fb61774e06441'), ObjectId('66b57fe9661fb61774e06442'), ObjectId('66b57fe9661fb61774e06443'), ObjectId('66b57fe9661fb61774e06444'), ObjectId('66b57fe9661fb61774e06445'), ObjectId('66b57fe9661fb61774e06446'), ObjectId('66b57fe9661fb61774e06447'), ObjectId('66b57fe9661fb61774e06448'), ObjectId('66b57fe9661fb61774e06449'), ObjectId('66b57fe9661fb61774e0644a'), ObjectId('66b57fe9661fb61774e0644b'), ObjectId('66b57fe9661fb61774e0644c'), ObjectId('66b57fe9661fb61774e0644d'), ObjectId('66b57fe9661fb61774e0644e'), ObjectId('66b57fe9661fb61774e0644f'), ObjectId('66b57fe9661fb61774e06450'), ObjectId('66b57fe9661fb61774e06451'), ObjectId('66b57fe9661fb61774e06452'), ObjectId('66b57fe9661fb61774e06453'), ObjectId('66b57fe9661fb61774e06454'), ObjectId('66b57fe9661fb61774e06455'), ObjectId('66b57fe9661fb61774e06456'), ObjectId('66b57fe9661fb61774e06457'), ObjectId('66b57fe9661fb61774e06458'), ObjectId('66b57fe9661fb61774e06459'), ObjectId('66b57fe9661fb61774e0645a'), ObjectId('66b57fe9661fb61774e0645b'), ObjectId('66b57fe9661fb61774e0645c'), ObjectId('66b57fe9661fb61774e0645d'), ObjectId('66b57fe9661fb61774e0645e'), ObjectId('66b57fe9661fb61774e0645f'), ObjectId('66b57fe9661fb61774e06460'), ObjectId('66b57fe9661fb61774e06461'), ObjectId('66b57fe9661fb61774e06462'), ObjectId('66b57fe9661fb61774e06463'), ObjectId('66b57fe9661fb61774e06464'), ObjectId('66b57fe9661fb61774e06465'), ObjectId('66b57fe9661fb61774e06466'), ObjectId('66b57fe9661fb61774e06467'), ObjectId('66b57fe9661fb61774e06468'), ObjectId('66b57fe9661fb61774e06469'), ObjectId('66b57fe9661fb61774e0646a'), ObjectId('66b57fe9661fb61774e0646b'), ObjectId('66b57fe9661fb61774e0646c'), ObjectId('66b57fe9661fb61774e0646d'), ObjectId('66b57fe9661fb61774e0646e'), ObjectId('66b57fe9661fb61774e0646f'), ObjectId('66b57fe9661fb61774e06470'), ObjectId('66b57fe9661fb61774e06471'), ObjectId('66b57fe9661fb61774e06472'), ObjectId('66b57fe9661fb61774e06473'), ObjectId('66b57fe9661fb61774e06474'), ObjectId('66b57fe9661fb61774e06475'), ObjectId('66b57fe9661fb61774e06476'), ObjectId('66b57fe9661fb61774e06477'), ObjectId('66b57fe9661fb61774e06478'), ObjectId('66b57fe9661fb61774e06479'), ObjectId('66b57fe9661fb61774e0647a'), ObjectId('66b57fe9661fb61774e0647b'), ObjectId('66b57fe9661fb61774e0647c'), ObjectId('66b57fe9661fb61774e0647d'), ObjectId('66b57fe9661fb61774e0647e'), ObjectId('66b57fe9661fb61774e0647f'), ObjectId('66b57fe9661fb61774e06480'), ObjectId('66b57fe9661fb61774e06481'), ObjectId('66b57fe9661fb61774e06482'), ObjectId('66b57fe9661fb61774e06483'), ObjectId('66b57fe9661fb61774e06484'), ObjectId('66b57fe9661fb61774e06485'), ObjectId('66b57fe9661fb61774e06486'), ObjectId('66b57fe9661fb61774e06487'), ObjectId('66b57fe9661fb61774e06488'), ObjectId('66b57fe9661fb61774e06489'), ObjectId('66b57fe9661fb61774e0648a'), ObjectId('66b57fe9661fb61774e0648b'), ObjectId('66b57fe9661fb61774e0648c'), ObjectId('66b57fe9661fb61774e0648d'), ObjectId('66b57fe9661fb61774e0648e'), ObjectId('66b57fe9661fb61774e0648f'), ObjectId('66b57fe9661fb61774e06490'), ObjectId('66b57fe9661fb61774e06491'), ObjectId('66b57fe9661fb61774e06492'), ObjectId('66b57fe9661fb61774e06493'), ObjectId('66b57fe9661fb61774e06494'), ObjectId('66b57fe9661fb61774e06495'), ObjectId('66b57fe9661fb61774e06496'), ObjectId('66b57fe9661fb61774e06497'), ObjectId('66b57fe9661fb61774e06498'), ObjectId('66b57fe9661fb61774e06499'), ObjectId('66b57fe9661fb61774e0649a'), ObjectId('66b57fe9661fb61774e0649b'), ObjectId('66b57fe9661fb61774e0649c'), ObjectId('66b57fe9661fb61774e0649d'), ObjectId('66b57fe9661fb61774e0649e'), ObjectId('66b57fe9661fb61774e0649f'), ObjectId('66b57fe9661fb61774e064a0'), ObjectId('66b57fe9661fb61774e064a1'), ObjectId('66b57fe9661fb61774e064a2'), ObjectId('66b57fe9661fb61774e064a3'), ObjectId('66b57fe9661fb61774e064a4'), ObjectId('66b57fe9661fb61774e064a5'), ObjectId('66b57fe9661fb61774e064a6'), ObjectId('66b57fe9661fb61774e064a7'), ObjectId('66b57fe9661fb61774e064a8'), ObjectId('66b57fe9661fb61774e064a9'), ObjectId('66b57fe9661fb61774e064aa'), ObjectId('66b57fe9661fb61774e064ab'), ObjectId('66b57fe9661fb61774e064ac'), ObjectId('66b57fe9661fb61774e064ad'), ObjectId('66b57fe9661fb61774e064ae'), ObjectId('66b57fe9661fb61774e064af'), ObjectId('66b57fe9661fb61774e064b0'), ObjectId('66b57fe9661fb61774e064b1'), ObjectId('66b57fe9661fb61774e064b2'), ObjectId('66b57fe9661fb61774e064b3'), ObjectId('66b57fe9661fb61774e064b4'), ObjectId('66b57fe9661fb61774e064b5'), ObjectId('66b57fe9661fb61774e064b6'), ObjectId('66b57fe9661fb61774e064b7'), ObjectId('66b57fe9661fb61774e064b8'), ObjectId('66b57fe9661fb61774e064b9'), ObjectId('66b57fe9661fb61774e064ba'), ObjectId('66b57fe9661fb61774e064bb'), ObjectId('66b57fe9661fb61774e064bc'), ObjectId('66b57fe9661fb61774e064bd'), ObjectId('66b57fe9661fb61774e064be'), ObjectId('66b57fe9661fb61774e064bf'), ObjectId('66b57fe9661fb61774e064c0'), ObjectId('66b57fe9661fb61774e064c1'), ObjectId('66b57fe9661fb61774e064c2'), ObjectId('66b57fe9661fb61774e064c3'), ObjectId('66b57fe9661fb61774e064c4'), ObjectId('66b57fe9661fb61774e064c5'), ObjectId('66b57fe9661fb61774e064c6'), ObjectId('66b57fe9661fb61774e064c7'), ObjectId('66b57fe9661fb61774e064c8'), ObjectId('66b57fe9661fb61774e064c9'), ObjectId('66b57fe9661fb61774e064ca'), ObjectId('66b57fe9661fb61774e064cb'), ObjectId('66b57fe9661fb61774e064cc'), ObjectId('66b57fe9661fb61774e064cd'), ObjectId('66b57fe9661fb61774e064ce'), ObjectId('66b57fe9661fb61774e064cf'), ObjectId('66b57fe9661fb61774e064d0'), ObjectId('66b57fe9661fb61774e064d1'), ObjectId('66b57fe9661fb61774e064d2'), ObjectId('66b57fe9661fb61774e064d3'), ObjectId('66b57fe9661fb61774e064d4'), ObjectId('66b57fe9661fb61774e064d5'), ObjectId('66b57fe9661fb61774e064d6'), ObjectId('66b57fe9661fb61774e064d7'), ObjectId('66b57fe9661fb61774e064d8'), ObjectId('66b57fe9661fb61774e064d9'), ObjectId('66b57fe9661fb61774e064da'), ObjectId('66b57fe9661fb61774e064db'), ObjectId('66b57fe9661fb61774e064dc'), ObjectId('66b57fe9661fb61774e064dd'), ObjectId('66b57fe9661fb61774e064de'), ObjectId('66b57fe9661fb61774e064df'), ObjectId('66b57fe9661fb61774e064e0'), ObjectId('66b57fe9661fb61774e064e1'), ObjectId('66b57fe9661fb61774e064e2'), ObjectId('66b57fe9661fb61774e064e3'), ObjectId('66b57fe9661fb61774e064e4'), ObjectId('66b57fe9661fb61774e064e5'), ObjectId('66b57fe9661fb61774e064e6'), ObjectId('66b57fe9661fb61774e064e7'), ObjectId('66b57fe9661fb61774e064e8'), ObjectId('66b57fe9661fb61774e064e9'), ObjectId('66b57fe9661fb61774e064ea'), ObjectId('66b57fe9661fb61774e064eb'), ObjectId('66b57fe9661fb61774e064ec'), ObjectId('66b57fe9661fb61774e064ed'), ObjectId('66b57fe9661fb61774e064ee'), ObjectId('66b57fe9661fb61774e064ef'), ObjectId('66b57fe9661fb61774e064f0'), ObjectId('66b57fe9661fb61774e064f1'), ObjectId('66b57fe9661fb61774e064f2'), ObjectId('66b57fe9661fb61774e064f3'), ObjectId('66b57fe9661fb61774e064f4'), ObjectId('66b57fe9661fb61774e064f5'), ObjectId('66b57fe9661fb61774e064f6'), ObjectId('66b57fe9661fb61774e064f7'), ObjectId('66b57fe9661fb61774e064f8'), ObjectId('66b57fe9661fb61774e064f9'), ObjectId('66b57fe9661fb61774e064fa'), ObjectId('66b57fe9661fb61774e064fb'), ObjectId('66b57fe9661fb61774e064fc'), ObjectId('66b57fe9661fb61774e064fd'), ObjectId('66b57fe9661fb61774e064fe'), ObjectId('66b57fe9661fb61774e064ff'), ObjectId('66b57fe9661fb61774e06500'), ObjectId('66b57fe9661fb61774e06501'), ObjectId('66b57fe9661fb61774e06502'), ObjectId('66b57fe9661fb61774e06503'), ObjectId('66b57fe9661fb61774e06504'), ObjectId('66b57fe9661fb61774e06505'), ObjectId('66b57fe9661fb61774e06506'), ObjectId('66b57fe9661fb61774e06507'), ObjectId('66b57fe9661fb61774e06508'), ObjectId('66b57fe9661fb61774e06509'), ObjectId('66b57fe9661fb61774e0650a'), ObjectId('66b57fe9661fb61774e0650b'), ObjectId('66b57fe9661fb61774e0650c'), ObjectId('66b57fe9661fb61774e0650d'), ObjectId('66b57fe9661fb61774e0650e'), ObjectId('66b57fe9661fb61774e0650f'), ObjectId('66b57fe9661fb61774e06510'), ObjectId('66b57fe9661fb61774e06511'), ObjectId('66b57fe9661fb61774e06512'), ObjectId('66b57fe9661fb61774e06513'), ObjectId('66b57fe9661fb61774e06514'), ObjectId('66b57fe9661fb61774e06515'), ObjectId('66b57fe9661fb61774e06516'), ObjectId('66b57fe9661fb61774e06517'), ObjectId('66b57fe9661fb61774e06518'), ObjectId('66b57fe9661fb61774e06519'), ObjectId('66b57fe9661fb61774e0651a'), ObjectId('66b57fe9661fb61774e0651b'), ObjectId('66b57fe9661fb61774e0651c'), ObjectId('66b57fe9661fb61774e0651d'), ObjectId('66b57fe9661fb61774e0651e'), ObjectId('66b57fe9661fb61774e0651f'), ObjectId('66b57fe9661fb61774e06520'), ObjectId('66b57fe9661fb61774e06521'), ObjectId('66b57fe9661fb61774e06522'), ObjectId('66b57fe9661fb61774e06523'), ObjectId('66b57fe9661fb61774e06524'), ObjectId('66b57fe9661fb61774e06525'), ObjectId('66b57fe9661fb61774e06526'), ObjectId('66b57fe9661fb61774e06527'), ObjectId('66b57fe9661fb61774e06528'), ObjectId('66b57fe9661fb61774e06529'), ObjectId('66b57fe9661fb61774e0652a'), ObjectId('66b57fe9661fb61774e0652b'), ObjectId('66b57fe9661fb61774e0652c'), ObjectId('66b57fe9661fb61774e0652d'), ObjectId('66b57fe9661fb61774e0652e'), ObjectId('66b57fe9661fb61774e0652f'), ObjectId('66b57fe9661fb61774e06530'), ObjectId('66b57fe9661fb61774e06531'), ObjectId('66b57fe9661fb61774e06532'), ObjectId('66b57fe9661fb61774e06533')], acknowledged=True)"
      ]
     },
     "execution_count": 57,
     "metadata": {},
     "output_type": "execute_result"
    }
   ],
   "source": [
    "# Insert data into MongoDB collection\n",
    "collection.insert_many(data_dict)"
   ]
  },
  {
   "cell_type": "code",
   "execution_count": 58,
   "id": "bafe20e3-1d30-4d28-a16e-02bfbc35c3d3",
   "metadata": {},
   "outputs": [],
   "source": [
    "# Count the number of documents in the collection\n",
    "document_count = collection.count_documents({})"
   ]
  },
  {
   "cell_type": "code",
   "execution_count": 59,
   "id": "0e2a3eaf-d6ef-49bb-890d-34b643ff83f0",
   "metadata": {},
   "outputs": [
    {
     "name": "stdout",
     "output_type": "stream",
     "text": [
      "\n",
      "Number of documents in the MongoDB collection: 3840\n"
     ]
    }
   ],
   "source": [
    "print(f\"\\nNumber of documents in the MongoDB collection: {document_count}\")\n"
   ]
  },
  {
   "cell_type": "code",
   "execution_count": 60,
   "id": "a41a3492-c5ed-498b-8838-7447021ea795",
   "metadata": {},
   "outputs": [],
   "source": [
    "#i"
   ]
  },
  {
   "cell_type": "code",
   "execution_count": 61,
   "id": "d6d42dbd-0852-4a77-a0fe-8c06f4c81e82",
   "metadata": {},
   "outputs": [],
   "source": [
    "# Perform grouping operation: Group by 'Class' and calculate the average 'Glucose' level\n",
    "pipeline = [\n",
    "    {\n",
    "        \"$group\": {\n",
    "            \"_id\": \"$Class\",\n",
    "            \"average_glucose\": {\"$avg\": \"$Glucose\"}\n",
    "        }\n",
    "    }\n",
    "]\n",
    "\n",
    "grouped_result = collection.aggregate(pipeline)\n",
    "grouped_result_df = pd.DataFrame(list(grouped_result))\n"
   ]
  },
  {
   "cell_type": "code",
   "execution_count": 62,
   "id": "582cd0c8-42da-402f-a315-75e298584527",
   "metadata": {},
   "outputs": [
    {
     "name": "stdout",
     "output_type": "stream",
     "text": [
      "\n",
      "Grouped result (average Glucose level by Class):\n",
      "   _id  average_glucose\n",
      "0    1         0.673089\n",
      "1    0        -0.360776\n"
     ]
    }
   ],
   "source": [
    "print(\"\\nGrouped result (average Glucose level by Class):\")\n",
    "print(grouped_result_df)"
   ]
  },
  {
   "cell_type": "code",
   "execution_count": null,
   "id": "fadcc81a-665c-432f-8239-ae0488adba81",
   "metadata": {},
   "outputs": [],
   "source": []
  },
  {
   "cell_type": "code",
   "execution_count": 63,
   "id": "c66c1362-d348-4bb8-a202-c3b5cc4180ec",
   "metadata": {},
   "outputs": [],
   "source": [
    "#K"
   ]
  },
  {
   "cell_type": "code",
   "execution_count": 64,
   "id": "08ac26bd-7fe4-46d5-8055-1a237139060a",
   "metadata": {},
   "outputs": [],
   "source": [
    "import pandas as pd\n",
    "from pymongo import MongoClient\n",
    "from sklearn.preprocessing import StandardScaler"
   ]
  },
  {
   "cell_type": "code",
   "execution_count": 65,
   "id": "71bfe374-93b8-4255-8e70-fd459b9a3bba",
   "metadata": {},
   "outputs": [],
   "source": [
    "# Load the dataset\n",
    "df = pd.read_csv('pima-indians-diabetes.csv')"
   ]
  },
  {
   "cell_type": "code",
   "execution_count": 66,
   "id": "78c31be1-44f4-4e77-9c40-fe6b8112757a",
   "metadata": {},
   "outputs": [
    {
     "name": "stdout",
     "output_type": "stream",
     "text": [
      "First few rows of the dataset:\n",
      "   Pregnancies  Glucose  BloodPressure  SkinThickness  Insulin   BMI  \\\n",
      "0            6      148             72             35        0  33.6   \n",
      "1            1       85             66             29        0  26.6   \n",
      "2            8      183             64              0        0  23.3   \n",
      "3            1       89             66             23       94  28.1   \n",
      "4            0      137             40             35      168  43.1   \n",
      "\n",
      "   DiabetesPedigreeFunction  Age  Class  \n",
      "0                     0.627   50      1  \n",
      "1                     0.351   31      0  \n",
      "2                     0.672   32      1  \n",
      "3                     0.167   21      0  \n",
      "4                     2.288   33      1  \n"
     ]
    }
   ],
   "source": [
    "# Display the first few rows and check for missing values\n",
    "print(\"First few rows of the dataset:\")\n",
    "print(df.head())\n"
   ]
  },
  {
   "cell_type": "code",
   "execution_count": 67,
   "id": "d866a17c-238a-4236-a8c2-0b103d64c9e1",
   "metadata": {},
   "outputs": [],
   "source": [
    "# Replace zeros with NaN for columns where zeros are invalid\n",
    "columns_with_zeros = ['Glucose', 'BloodPressure', 'SkinThickness', 'Insulin', 'BMI']\n",
    "df[columns_with_zeros] = df[columns_with_zeros].replace(0, pd.NA)\n"
   ]
  },
  {
   "cell_type": "code",
   "execution_count": 68,
   "id": "a1009028-c212-4843-96d5-643d09a5c2b9",
   "metadata": {},
   "outputs": [
    {
     "name": "stderr",
     "output_type": "stream",
     "text": [
      "C:\\Users\\Admin\\AppData\\Local\\Temp\\ipykernel_7796\\1906470425.py:3: FutureWarning: Downcasting object dtype arrays on .fillna, .ffill, .bfill is deprecated and will change in a future version. Call result.infer_objects(copy=False) instead. To opt-in to the future behavior, set `pd.set_option('future.no_silent_downcasting', True)`\n",
      "  df[numeric_cols] = df[numeric_cols].fillna(df[numeric_cols].median())\n"
     ]
    }
   ],
   "source": [
    "# Impute missing values with the median for numeric columns only\n",
    "numeric_cols = df.columns[df.columns != 'Class']\n",
    "df[numeric_cols] = df[numeric_cols].fillna(df[numeric_cols].median())\n"
   ]
  },
  {
   "cell_type": "code",
   "execution_count": 69,
   "id": "7f9143ed-6b9b-45af-bd7b-608bd3eca922",
   "metadata": {},
   "outputs": [],
   "source": [
    "# Convert 'Class' column to categorical type\n",
    "df['Class'] = df['Class'].astype('category')\n"
   ]
  },
  {
   "cell_type": "code",
   "execution_count": 70,
   "id": "440d602f-3474-441b-b24f-7a85344768f6",
   "metadata": {},
   "outputs": [],
   "source": [
    "# Normalize numeric columns, excluding 'Class'\n",
    "scaler = StandardScaler()\n",
    "df[numeric_cols] = scaler.fit_transform(df[numeric_cols])\n"
   ]
  },
  {
   "cell_type": "code",
   "execution_count": 71,
   "id": "3aa6eefb-fd7f-4cd8-a00f-23586fe965ce",
   "metadata": {},
   "outputs": [
    {
     "name": "stdout",
     "output_type": "stream",
     "text": [
      "\n",
      "Cleaned dataset:\n",
      "   Pregnancies   Glucose  BloodPressure  SkinThickness   Insulin       BMI  \\\n",
      "0     0.639947  0.866045      -0.031990       0.670643 -0.181541  0.166619   \n",
      "1    -0.844885 -1.205066      -0.528319      -0.012301 -0.181541 -0.852200   \n",
      "2     1.233880  2.016662      -0.693761      -0.012301 -0.181541 -1.332500   \n",
      "3    -0.844885 -1.073567      -0.528319      -0.695245 -0.540642 -0.633881   \n",
      "4    -1.141852  0.504422      -2.679076       0.670643  0.316566  1.549303   \n",
      "\n",
      "   DiabetesPedigreeFunction       Age Class  \n",
      "0                  0.468492  1.425995     1  \n",
      "1                 -0.365061 -0.190672     0  \n",
      "2                  0.604397 -0.105584     1  \n",
      "3                 -0.920763 -1.041549     0  \n",
      "4                  5.484909 -0.020496     1  \n"
     ]
    }
   ],
   "source": [
    "# Verify the cleaned and tidied dataset\n",
    "print(\"\\nCleaned dataset:\")\n",
    "print(df.head())"
   ]
  },
  {
   "cell_type": "code",
   "execution_count": 72,
   "id": "6a197f16-f2f7-4f8e-823a-a2541c14835c",
   "metadata": {},
   "outputs": [],
   "source": [
    "# Establish connection to MongoDB\n",
    "client = MongoClient('mongodb://localhost:27017/')\n",
    "db = client['diabetes_db']\n",
    "collection = db['diabetes_data']\n"
   ]
  },
  {
   "cell_type": "code",
   "execution_count": 73,
   "id": "0ad23c7a-b374-4842-afcc-f33f2731b1a0",
   "metadata": {},
   "outputs": [],
   "source": [
    "# Convert DataFrame to dictionary format\n",
    "data_dict = df.to_dict(orient='records')\n"
   ]
  },
  {
   "cell_type": "code",
   "execution_count": 74,
   "id": "b3e1fdee-546a-465f-bdfa-dec8562681c9",
   "metadata": {},
   "outputs": [
    {
     "data": {
      "text/plain": [
       "InsertManyResult([ObjectId('66b58182661fb61774e06535'), ObjectId('66b58182661fb61774e06536'), ObjectId('66b58182661fb61774e06537'), ObjectId('66b58182661fb61774e06538'), ObjectId('66b58182661fb61774e06539'), ObjectId('66b58182661fb61774e0653a'), ObjectId('66b58182661fb61774e0653b'), ObjectId('66b58182661fb61774e0653c'), ObjectId('66b58182661fb61774e0653d'), ObjectId('66b58182661fb61774e0653e'), ObjectId('66b58182661fb61774e0653f'), ObjectId('66b58182661fb61774e06540'), ObjectId('66b58182661fb61774e06541'), ObjectId('66b58182661fb61774e06542'), ObjectId('66b58182661fb61774e06543'), ObjectId('66b58182661fb61774e06544'), ObjectId('66b58182661fb61774e06545'), ObjectId('66b58182661fb61774e06546'), ObjectId('66b58182661fb61774e06547'), ObjectId('66b58182661fb61774e06548'), ObjectId('66b58182661fb61774e06549'), ObjectId('66b58182661fb61774e0654a'), ObjectId('66b58182661fb61774e0654b'), ObjectId('66b58182661fb61774e0654c'), ObjectId('66b58182661fb61774e0654d'), ObjectId('66b58182661fb61774e0654e'), ObjectId('66b58182661fb61774e0654f'), ObjectId('66b58182661fb61774e06550'), ObjectId('66b58182661fb61774e06551'), ObjectId('66b58182661fb61774e06552'), ObjectId('66b58182661fb61774e06553'), ObjectId('66b58182661fb61774e06554'), ObjectId('66b58182661fb61774e06555'), ObjectId('66b58182661fb61774e06556'), ObjectId('66b58182661fb61774e06557'), ObjectId('66b58182661fb61774e06558'), ObjectId('66b58182661fb61774e06559'), ObjectId('66b58182661fb61774e0655a'), ObjectId('66b58182661fb61774e0655b'), ObjectId('66b58182661fb61774e0655c'), ObjectId('66b58182661fb61774e0655d'), ObjectId('66b58182661fb61774e0655e'), ObjectId('66b58182661fb61774e0655f'), ObjectId('66b58182661fb61774e06560'), ObjectId('66b58182661fb61774e06561'), ObjectId('66b58182661fb61774e06562'), ObjectId('66b58182661fb61774e06563'), ObjectId('66b58182661fb61774e06564'), ObjectId('66b58182661fb61774e06565'), ObjectId('66b58182661fb61774e06566'), ObjectId('66b58182661fb61774e06567'), ObjectId('66b58182661fb61774e06568'), ObjectId('66b58182661fb61774e06569'), ObjectId('66b58182661fb61774e0656a'), ObjectId('66b58182661fb61774e0656b'), ObjectId('66b58182661fb61774e0656c'), ObjectId('66b58182661fb61774e0656d'), ObjectId('66b58182661fb61774e0656e'), ObjectId('66b58182661fb61774e0656f'), ObjectId('66b58182661fb61774e06570'), ObjectId('66b58182661fb61774e06571'), ObjectId('66b58182661fb61774e06572'), ObjectId('66b58182661fb61774e06573'), ObjectId('66b58182661fb61774e06574'), ObjectId('66b58182661fb61774e06575'), ObjectId('66b58182661fb61774e06576'), ObjectId('66b58182661fb61774e06577'), ObjectId('66b58182661fb61774e06578'), ObjectId('66b58182661fb61774e06579'), ObjectId('66b58182661fb61774e0657a'), ObjectId('66b58182661fb61774e0657b'), ObjectId('66b58182661fb61774e0657c'), ObjectId('66b58182661fb61774e0657d'), ObjectId('66b58182661fb61774e0657e'), ObjectId('66b58182661fb61774e0657f'), ObjectId('66b58182661fb61774e06580'), ObjectId('66b58182661fb61774e06581'), ObjectId('66b58182661fb61774e06582'), ObjectId('66b58182661fb61774e06583'), ObjectId('66b58182661fb61774e06584'), ObjectId('66b58182661fb61774e06585'), ObjectId('66b58182661fb61774e06586'), ObjectId('66b58182661fb61774e06587'), ObjectId('66b58182661fb61774e06588'), ObjectId('66b58182661fb61774e06589'), ObjectId('66b58182661fb61774e0658a'), ObjectId('66b58182661fb61774e0658b'), ObjectId('66b58182661fb61774e0658c'), ObjectId('66b58182661fb61774e0658d'), ObjectId('66b58182661fb61774e0658e'), ObjectId('66b58182661fb61774e0658f'), ObjectId('66b58182661fb61774e06590'), ObjectId('66b58182661fb61774e06591'), ObjectId('66b58182661fb61774e06592'), ObjectId('66b58182661fb61774e06593'), ObjectId('66b58182661fb61774e06594'), ObjectId('66b58182661fb61774e06595'), ObjectId('66b58182661fb61774e06596'), ObjectId('66b58182661fb61774e06597'), ObjectId('66b58182661fb61774e06598'), ObjectId('66b58182661fb61774e06599'), ObjectId('66b58182661fb61774e0659a'), ObjectId('66b58182661fb61774e0659b'), ObjectId('66b58182661fb61774e0659c'), ObjectId('66b58182661fb61774e0659d'), ObjectId('66b58182661fb61774e0659e'), ObjectId('66b58182661fb61774e0659f'), ObjectId('66b58182661fb61774e065a0'), ObjectId('66b58182661fb61774e065a1'), ObjectId('66b58182661fb61774e065a2'), ObjectId('66b58182661fb61774e065a3'), ObjectId('66b58182661fb61774e065a4'), ObjectId('66b58182661fb61774e065a5'), ObjectId('66b58182661fb61774e065a6'), ObjectId('66b58182661fb61774e065a7'), ObjectId('66b58182661fb61774e065a8'), ObjectId('66b58182661fb61774e065a9'), ObjectId('66b58182661fb61774e065aa'), ObjectId('66b58182661fb61774e065ab'), ObjectId('66b58182661fb61774e065ac'), ObjectId('66b58182661fb61774e065ad'), ObjectId('66b58182661fb61774e065ae'), ObjectId('66b58182661fb61774e065af'), ObjectId('66b58182661fb61774e065b0'), ObjectId('66b58182661fb61774e065b1'), ObjectId('66b58182661fb61774e065b2'), ObjectId('66b58182661fb61774e065b3'), ObjectId('66b58182661fb61774e065b4'), ObjectId('66b58182661fb61774e065b5'), ObjectId('66b58182661fb61774e065b6'), ObjectId('66b58182661fb61774e065b7'), ObjectId('66b58182661fb61774e065b8'), ObjectId('66b58182661fb61774e065b9'), ObjectId('66b58182661fb61774e065ba'), ObjectId('66b58182661fb61774e065bb'), ObjectId('66b58182661fb61774e065bc'), ObjectId('66b58182661fb61774e065bd'), ObjectId('66b58182661fb61774e065be'), ObjectId('66b58182661fb61774e065bf'), ObjectId('66b58182661fb61774e065c0'), ObjectId('66b58182661fb61774e065c1'), ObjectId('66b58182661fb61774e065c2'), ObjectId('66b58182661fb61774e065c3'), ObjectId('66b58182661fb61774e065c4'), ObjectId('66b58182661fb61774e065c5'), ObjectId('66b58182661fb61774e065c6'), ObjectId('66b58182661fb61774e065c7'), ObjectId('66b58182661fb61774e065c8'), ObjectId('66b58182661fb61774e065c9'), ObjectId('66b58182661fb61774e065ca'), ObjectId('66b58182661fb61774e065cb'), ObjectId('66b58182661fb61774e065cc'), ObjectId('66b58182661fb61774e065cd'), ObjectId('66b58182661fb61774e065ce'), ObjectId('66b58182661fb61774e065cf'), ObjectId('66b58182661fb61774e065d0'), ObjectId('66b58182661fb61774e065d1'), ObjectId('66b58182661fb61774e065d2'), ObjectId('66b58182661fb61774e065d3'), ObjectId('66b58182661fb61774e065d4'), ObjectId('66b58182661fb61774e065d5'), ObjectId('66b58182661fb61774e065d6'), ObjectId('66b58182661fb61774e065d7'), ObjectId('66b58182661fb61774e065d8'), ObjectId('66b58182661fb61774e065d9'), ObjectId('66b58182661fb61774e065da'), ObjectId('66b58182661fb61774e065db'), ObjectId('66b58182661fb61774e065dc'), ObjectId('66b58182661fb61774e065dd'), ObjectId('66b58182661fb61774e065de'), ObjectId('66b58182661fb61774e065df'), ObjectId('66b58182661fb61774e065e0'), ObjectId('66b58182661fb61774e065e1'), ObjectId('66b58182661fb61774e065e2'), ObjectId('66b58182661fb61774e065e3'), ObjectId('66b58182661fb61774e065e4'), ObjectId('66b58182661fb61774e065e5'), ObjectId('66b58182661fb61774e065e6'), ObjectId('66b58182661fb61774e065e7'), ObjectId('66b58182661fb61774e065e8'), ObjectId('66b58182661fb61774e065e9'), ObjectId('66b58182661fb61774e065ea'), ObjectId('66b58182661fb61774e065eb'), ObjectId('66b58182661fb61774e065ec'), ObjectId('66b58182661fb61774e065ed'), ObjectId('66b58182661fb61774e065ee'), ObjectId('66b58182661fb61774e065ef'), ObjectId('66b58182661fb61774e065f0'), ObjectId('66b58182661fb61774e065f1'), ObjectId('66b58182661fb61774e065f2'), ObjectId('66b58182661fb61774e065f3'), ObjectId('66b58182661fb61774e065f4'), ObjectId('66b58182661fb61774e065f5'), ObjectId('66b58182661fb61774e065f6'), ObjectId('66b58182661fb61774e065f7'), ObjectId('66b58182661fb61774e065f8'), ObjectId('66b58182661fb61774e065f9'), ObjectId('66b58182661fb61774e065fa'), ObjectId('66b58182661fb61774e065fb'), ObjectId('66b58182661fb61774e065fc'), ObjectId('66b58182661fb61774e065fd'), ObjectId('66b58182661fb61774e065fe'), ObjectId('66b58182661fb61774e065ff'), ObjectId('66b58182661fb61774e06600'), ObjectId('66b58182661fb61774e06601'), ObjectId('66b58182661fb61774e06602'), ObjectId('66b58182661fb61774e06603'), ObjectId('66b58182661fb61774e06604'), ObjectId('66b58182661fb61774e06605'), ObjectId('66b58182661fb61774e06606'), ObjectId('66b58182661fb61774e06607'), ObjectId('66b58182661fb61774e06608'), ObjectId('66b58182661fb61774e06609'), ObjectId('66b58182661fb61774e0660a'), ObjectId('66b58182661fb61774e0660b'), ObjectId('66b58182661fb61774e0660c'), ObjectId('66b58182661fb61774e0660d'), ObjectId('66b58182661fb61774e0660e'), ObjectId('66b58182661fb61774e0660f'), ObjectId('66b58182661fb61774e06610'), ObjectId('66b58182661fb61774e06611'), ObjectId('66b58182661fb61774e06612'), ObjectId('66b58182661fb61774e06613'), ObjectId('66b58182661fb61774e06614'), ObjectId('66b58182661fb61774e06615'), ObjectId('66b58182661fb61774e06616'), ObjectId('66b58182661fb61774e06617'), ObjectId('66b58182661fb61774e06618'), ObjectId('66b58182661fb61774e06619'), ObjectId('66b58182661fb61774e0661a'), ObjectId('66b58182661fb61774e0661b'), ObjectId('66b58182661fb61774e0661c'), ObjectId('66b58182661fb61774e0661d'), ObjectId('66b58182661fb61774e0661e'), ObjectId('66b58182661fb61774e0661f'), ObjectId('66b58182661fb61774e06620'), ObjectId('66b58182661fb61774e06621'), ObjectId('66b58182661fb61774e06622'), ObjectId('66b58182661fb61774e06623'), ObjectId('66b58182661fb61774e06624'), ObjectId('66b58182661fb61774e06625'), ObjectId('66b58182661fb61774e06626'), ObjectId('66b58182661fb61774e06627'), ObjectId('66b58182661fb61774e06628'), ObjectId('66b58182661fb61774e06629'), ObjectId('66b58182661fb61774e0662a'), ObjectId('66b58182661fb61774e0662b'), ObjectId('66b58182661fb61774e0662c'), ObjectId('66b58182661fb61774e0662d'), ObjectId('66b58182661fb61774e0662e'), ObjectId('66b58182661fb61774e0662f'), ObjectId('66b58182661fb61774e06630'), ObjectId('66b58182661fb61774e06631'), ObjectId('66b58182661fb61774e06632'), ObjectId('66b58182661fb61774e06633'), ObjectId('66b58182661fb61774e06634'), ObjectId('66b58182661fb61774e06635'), ObjectId('66b58182661fb61774e06636'), ObjectId('66b58182661fb61774e06637'), ObjectId('66b58182661fb61774e06638'), ObjectId('66b58182661fb61774e06639'), ObjectId('66b58182661fb61774e0663a'), ObjectId('66b58182661fb61774e0663b'), ObjectId('66b58182661fb61774e0663c'), ObjectId('66b58182661fb61774e0663d'), ObjectId('66b58182661fb61774e0663e'), ObjectId('66b58182661fb61774e0663f'), ObjectId('66b58182661fb61774e06640'), ObjectId('66b58182661fb61774e06641'), ObjectId('66b58182661fb61774e06642'), ObjectId('66b58182661fb61774e06643'), ObjectId('66b58182661fb61774e06644'), ObjectId('66b58182661fb61774e06645'), ObjectId('66b58182661fb61774e06646'), ObjectId('66b58182661fb61774e06647'), ObjectId('66b58182661fb61774e06648'), ObjectId('66b58182661fb61774e06649'), ObjectId('66b58182661fb61774e0664a'), ObjectId('66b58182661fb61774e0664b'), ObjectId('66b58182661fb61774e0664c'), ObjectId('66b58182661fb61774e0664d'), ObjectId('66b58182661fb61774e0664e'), ObjectId('66b58182661fb61774e0664f'), ObjectId('66b58182661fb61774e06650'), ObjectId('66b58182661fb61774e06651'), ObjectId('66b58182661fb61774e06652'), ObjectId('66b58182661fb61774e06653'), ObjectId('66b58182661fb61774e06654'), ObjectId('66b58182661fb61774e06655'), ObjectId('66b58182661fb61774e06656'), ObjectId('66b58182661fb61774e06657'), ObjectId('66b58182661fb61774e06658'), ObjectId('66b58182661fb61774e06659'), ObjectId('66b58182661fb61774e0665a'), ObjectId('66b58182661fb61774e0665b'), ObjectId('66b58182661fb61774e0665c'), ObjectId('66b58182661fb61774e0665d'), ObjectId('66b58182661fb61774e0665e'), ObjectId('66b58182661fb61774e0665f'), ObjectId('66b58182661fb61774e06660'), ObjectId('66b58182661fb61774e06661'), ObjectId('66b58182661fb61774e06662'), ObjectId('66b58182661fb61774e06663'), ObjectId('66b58182661fb61774e06664'), ObjectId('66b58182661fb61774e06665'), ObjectId('66b58182661fb61774e06666'), ObjectId('66b58182661fb61774e06667'), ObjectId('66b58182661fb61774e06668'), ObjectId('66b58182661fb61774e06669'), ObjectId('66b58182661fb61774e0666a'), ObjectId('66b58182661fb61774e0666b'), ObjectId('66b58182661fb61774e0666c'), ObjectId('66b58182661fb61774e0666d'), ObjectId('66b58182661fb61774e0666e'), ObjectId('66b58182661fb61774e0666f'), ObjectId('66b58182661fb61774e06670'), ObjectId('66b58182661fb61774e06671'), ObjectId('66b58182661fb61774e06672'), ObjectId('66b58182661fb61774e06673'), ObjectId('66b58182661fb61774e06674'), ObjectId('66b58182661fb61774e06675'), ObjectId('66b58182661fb61774e06676'), ObjectId('66b58182661fb61774e06677'), ObjectId('66b58182661fb61774e06678'), ObjectId('66b58182661fb61774e06679'), ObjectId('66b58182661fb61774e0667a'), ObjectId('66b58182661fb61774e0667b'), ObjectId('66b58182661fb61774e0667c'), ObjectId('66b58182661fb61774e0667d'), ObjectId('66b58182661fb61774e0667e'), ObjectId('66b58182661fb61774e0667f'), ObjectId('66b58182661fb61774e06680'), ObjectId('66b58182661fb61774e06681'), ObjectId('66b58182661fb61774e06682'), ObjectId('66b58182661fb61774e06683'), ObjectId('66b58182661fb61774e06684'), ObjectId('66b58182661fb61774e06685'), ObjectId('66b58182661fb61774e06686'), ObjectId('66b58182661fb61774e06687'), ObjectId('66b58182661fb61774e06688'), ObjectId('66b58182661fb61774e06689'), ObjectId('66b58182661fb61774e0668a'), ObjectId('66b58182661fb61774e0668b'), ObjectId('66b58182661fb61774e0668c'), ObjectId('66b58182661fb61774e0668d'), ObjectId('66b58182661fb61774e0668e'), ObjectId('66b58182661fb61774e0668f'), ObjectId('66b58182661fb61774e06690'), ObjectId('66b58182661fb61774e06691'), ObjectId('66b58182661fb61774e06692'), ObjectId('66b58182661fb61774e06693'), ObjectId('66b58182661fb61774e06694'), ObjectId('66b58182661fb61774e06695'), ObjectId('66b58182661fb61774e06696'), ObjectId('66b58182661fb61774e06697'), ObjectId('66b58182661fb61774e06698'), ObjectId('66b58182661fb61774e06699'), ObjectId('66b58182661fb61774e0669a'), ObjectId('66b58182661fb61774e0669b'), ObjectId('66b58182661fb61774e0669c'), ObjectId('66b58182661fb61774e0669d'), ObjectId('66b58182661fb61774e0669e'), ObjectId('66b58182661fb61774e0669f'), ObjectId('66b58182661fb61774e066a0'), ObjectId('66b58182661fb61774e066a1'), ObjectId('66b58182661fb61774e066a2'), ObjectId('66b58182661fb61774e066a3'), ObjectId('66b58182661fb61774e066a4'), ObjectId('66b58182661fb61774e066a5'), ObjectId('66b58182661fb61774e066a6'), ObjectId('66b58182661fb61774e066a7'), ObjectId('66b58182661fb61774e066a8'), ObjectId('66b58182661fb61774e066a9'), ObjectId('66b58182661fb61774e066aa'), ObjectId('66b58182661fb61774e066ab'), ObjectId('66b58182661fb61774e066ac'), ObjectId('66b58182661fb61774e066ad'), ObjectId('66b58182661fb61774e066ae'), ObjectId('66b58182661fb61774e066af'), ObjectId('66b58182661fb61774e066b0'), ObjectId('66b58182661fb61774e066b1'), ObjectId('66b58182661fb61774e066b2'), ObjectId('66b58182661fb61774e066b3'), ObjectId('66b58182661fb61774e066b4'), ObjectId('66b58182661fb61774e066b5'), ObjectId('66b58182661fb61774e066b6'), ObjectId('66b58182661fb61774e066b7'), ObjectId('66b58182661fb61774e066b8'), ObjectId('66b58182661fb61774e066b9'), ObjectId('66b58182661fb61774e066ba'), ObjectId('66b58182661fb61774e066bb'), ObjectId('66b58182661fb61774e066bc'), ObjectId('66b58182661fb61774e066bd'), ObjectId('66b58182661fb61774e066be'), ObjectId('66b58182661fb61774e066bf'), ObjectId('66b58182661fb61774e066c0'), ObjectId('66b58182661fb61774e066c1'), ObjectId('66b58182661fb61774e066c2'), ObjectId('66b58182661fb61774e066c3'), ObjectId('66b58182661fb61774e066c4'), ObjectId('66b58182661fb61774e066c5'), ObjectId('66b58182661fb61774e066c6'), ObjectId('66b58182661fb61774e066c7'), ObjectId('66b58182661fb61774e066c8'), ObjectId('66b58182661fb61774e066c9'), ObjectId('66b58182661fb61774e066ca'), ObjectId('66b58182661fb61774e066cb'), ObjectId('66b58182661fb61774e066cc'), ObjectId('66b58182661fb61774e066cd'), ObjectId('66b58182661fb61774e066ce'), ObjectId('66b58182661fb61774e066cf'), ObjectId('66b58182661fb61774e066d0'), ObjectId('66b58182661fb61774e066d1'), ObjectId('66b58182661fb61774e066d2'), ObjectId('66b58182661fb61774e066d3'), ObjectId('66b58182661fb61774e066d4'), ObjectId('66b58182661fb61774e066d5'), ObjectId('66b58182661fb61774e066d6'), ObjectId('66b58182661fb61774e066d7'), ObjectId('66b58182661fb61774e066d8'), ObjectId('66b58182661fb61774e066d9'), ObjectId('66b58182661fb61774e066da'), ObjectId('66b58182661fb61774e066db'), ObjectId('66b58182661fb61774e066dc'), ObjectId('66b58182661fb61774e066dd'), ObjectId('66b58182661fb61774e066de'), ObjectId('66b58182661fb61774e066df'), ObjectId('66b58182661fb61774e066e0'), ObjectId('66b58182661fb61774e066e1'), ObjectId('66b58182661fb61774e066e2'), ObjectId('66b58182661fb61774e066e3'), ObjectId('66b58182661fb61774e066e4'), ObjectId('66b58182661fb61774e066e5'), ObjectId('66b58182661fb61774e066e6'), ObjectId('66b58182661fb61774e066e7'), ObjectId('66b58182661fb61774e066e8'), ObjectId('66b58182661fb61774e066e9'), ObjectId('66b58182661fb61774e066ea'), ObjectId('66b58182661fb61774e066eb'), ObjectId('66b58182661fb61774e066ec'), ObjectId('66b58182661fb61774e066ed'), ObjectId('66b58182661fb61774e066ee'), ObjectId('66b58182661fb61774e066ef'), ObjectId('66b58182661fb61774e066f0'), ObjectId('66b58182661fb61774e066f1'), ObjectId('66b58182661fb61774e066f2'), ObjectId('66b58182661fb61774e066f3'), ObjectId('66b58182661fb61774e066f4'), ObjectId('66b58182661fb61774e066f5'), ObjectId('66b58182661fb61774e066f6'), ObjectId('66b58182661fb61774e066f7'), ObjectId('66b58182661fb61774e066f8'), ObjectId('66b58182661fb61774e066f9'), ObjectId('66b58182661fb61774e066fa'), ObjectId('66b58182661fb61774e066fb'), ObjectId('66b58182661fb61774e066fc'), ObjectId('66b58182661fb61774e066fd'), ObjectId('66b58182661fb61774e066fe'), ObjectId('66b58182661fb61774e066ff'), ObjectId('66b58182661fb61774e06700'), ObjectId('66b58182661fb61774e06701'), ObjectId('66b58182661fb61774e06702'), ObjectId('66b58182661fb61774e06703'), ObjectId('66b58182661fb61774e06704'), ObjectId('66b58182661fb61774e06705'), ObjectId('66b58182661fb61774e06706'), ObjectId('66b58182661fb61774e06707'), ObjectId('66b58182661fb61774e06708'), ObjectId('66b58182661fb61774e06709'), ObjectId('66b58182661fb61774e0670a'), ObjectId('66b58182661fb61774e0670b'), ObjectId('66b58182661fb61774e0670c'), ObjectId('66b58182661fb61774e0670d'), ObjectId('66b58182661fb61774e0670e'), ObjectId('66b58182661fb61774e0670f'), ObjectId('66b58182661fb61774e06710'), ObjectId('66b58182661fb61774e06711'), ObjectId('66b58182661fb61774e06712'), ObjectId('66b58182661fb61774e06713'), ObjectId('66b58182661fb61774e06714'), ObjectId('66b58182661fb61774e06715'), ObjectId('66b58182661fb61774e06716'), ObjectId('66b58182661fb61774e06717'), ObjectId('66b58182661fb61774e06718'), ObjectId('66b58182661fb61774e06719'), ObjectId('66b58182661fb61774e0671a'), ObjectId('66b58182661fb61774e0671b'), ObjectId('66b58182661fb61774e0671c'), ObjectId('66b58182661fb61774e0671d'), ObjectId('66b58182661fb61774e0671e'), ObjectId('66b58182661fb61774e0671f'), ObjectId('66b58182661fb61774e06720'), ObjectId('66b58182661fb61774e06721'), ObjectId('66b58182661fb61774e06722'), ObjectId('66b58182661fb61774e06723'), ObjectId('66b58182661fb61774e06724'), ObjectId('66b58182661fb61774e06725'), ObjectId('66b58182661fb61774e06726'), ObjectId('66b58182661fb61774e06727'), ObjectId('66b58182661fb61774e06728'), ObjectId('66b58182661fb61774e06729'), ObjectId('66b58182661fb61774e0672a'), ObjectId('66b58182661fb61774e0672b'), ObjectId('66b58182661fb61774e0672c'), ObjectId('66b58182661fb61774e0672d'), ObjectId('66b58182661fb61774e0672e'), ObjectId('66b58182661fb61774e0672f'), ObjectId('66b58182661fb61774e06730'), ObjectId('66b58182661fb61774e06731'), ObjectId('66b58182661fb61774e06732'), ObjectId('66b58182661fb61774e06733'), ObjectId('66b58182661fb61774e06734'), ObjectId('66b58182661fb61774e06735'), ObjectId('66b58182661fb61774e06736'), ObjectId('66b58182661fb61774e06737'), ObjectId('66b58182661fb61774e06738'), ObjectId('66b58182661fb61774e06739'), ObjectId('66b58182661fb61774e0673a'), ObjectId('66b58182661fb61774e0673b'), ObjectId('66b58182661fb61774e0673c'), ObjectId('66b58182661fb61774e0673d'), ObjectId('66b58182661fb61774e0673e'), ObjectId('66b58182661fb61774e0673f'), ObjectId('66b58182661fb61774e06740'), ObjectId('66b58182661fb61774e06741'), ObjectId('66b58182661fb61774e06742'), ObjectId('66b58182661fb61774e06743'), ObjectId('66b58182661fb61774e06744'), ObjectId('66b58182661fb61774e06745'), ObjectId('66b58182661fb61774e06746'), ObjectId('66b58182661fb61774e06747'), ObjectId('66b58182661fb61774e06748'), ObjectId('66b58182661fb61774e06749'), ObjectId('66b58182661fb61774e0674a'), ObjectId('66b58182661fb61774e0674b'), ObjectId('66b58182661fb61774e0674c'), ObjectId('66b58182661fb61774e0674d'), ObjectId('66b58182661fb61774e0674e'), ObjectId('66b58182661fb61774e0674f'), ObjectId('66b58182661fb61774e06750'), ObjectId('66b58182661fb61774e06751'), ObjectId('66b58182661fb61774e06752'), ObjectId('66b58182661fb61774e06753'), ObjectId('66b58182661fb61774e06754'), ObjectId('66b58182661fb61774e06755'), ObjectId('66b58182661fb61774e06756'), ObjectId('66b58182661fb61774e06757'), ObjectId('66b58182661fb61774e06758'), ObjectId('66b58182661fb61774e06759'), ObjectId('66b58182661fb61774e0675a'), ObjectId('66b58182661fb61774e0675b'), ObjectId('66b58182661fb61774e0675c'), ObjectId('66b58182661fb61774e0675d'), ObjectId('66b58182661fb61774e0675e'), ObjectId('66b58182661fb61774e0675f'), ObjectId('66b58182661fb61774e06760'), ObjectId('66b58182661fb61774e06761'), ObjectId('66b58182661fb61774e06762'), ObjectId('66b58182661fb61774e06763'), ObjectId('66b58182661fb61774e06764'), ObjectId('66b58182661fb61774e06765'), ObjectId('66b58182661fb61774e06766'), ObjectId('66b58182661fb61774e06767'), ObjectId('66b58182661fb61774e06768'), ObjectId('66b58182661fb61774e06769'), ObjectId('66b58182661fb61774e0676a'), ObjectId('66b58182661fb61774e0676b'), ObjectId('66b58182661fb61774e0676c'), ObjectId('66b58182661fb61774e0676d'), ObjectId('66b58182661fb61774e0676e'), ObjectId('66b58182661fb61774e0676f'), ObjectId('66b58182661fb61774e06770'), ObjectId('66b58182661fb61774e06771'), ObjectId('66b58182661fb61774e06772'), ObjectId('66b58182661fb61774e06773'), ObjectId('66b58182661fb61774e06774'), ObjectId('66b58182661fb61774e06775'), ObjectId('66b58182661fb61774e06776'), ObjectId('66b58182661fb61774e06777'), ObjectId('66b58182661fb61774e06778'), ObjectId('66b58182661fb61774e06779'), ObjectId('66b58182661fb61774e0677a'), ObjectId('66b58182661fb61774e0677b'), ObjectId('66b58182661fb61774e0677c'), ObjectId('66b58182661fb61774e0677d'), ObjectId('66b58182661fb61774e0677e'), ObjectId('66b58182661fb61774e0677f'), ObjectId('66b58182661fb61774e06780'), ObjectId('66b58182661fb61774e06781'), ObjectId('66b58182661fb61774e06782'), ObjectId('66b58182661fb61774e06783'), ObjectId('66b58182661fb61774e06784'), ObjectId('66b58182661fb61774e06785'), ObjectId('66b58182661fb61774e06786'), ObjectId('66b58182661fb61774e06787'), ObjectId('66b58182661fb61774e06788'), ObjectId('66b58182661fb61774e06789'), ObjectId('66b58182661fb61774e0678a'), ObjectId('66b58182661fb61774e0678b'), ObjectId('66b58182661fb61774e0678c'), ObjectId('66b58182661fb61774e0678d'), ObjectId('66b58182661fb61774e0678e'), ObjectId('66b58182661fb61774e0678f'), ObjectId('66b58182661fb61774e06790'), ObjectId('66b58182661fb61774e06791'), ObjectId('66b58182661fb61774e06792'), ObjectId('66b58182661fb61774e06793'), ObjectId('66b58182661fb61774e06794'), ObjectId('66b58182661fb61774e06795'), ObjectId('66b58182661fb61774e06796'), ObjectId('66b58182661fb61774e06797'), ObjectId('66b58182661fb61774e06798'), ObjectId('66b58182661fb61774e06799'), ObjectId('66b58182661fb61774e0679a'), ObjectId('66b58182661fb61774e0679b'), ObjectId('66b58182661fb61774e0679c'), ObjectId('66b58182661fb61774e0679d'), ObjectId('66b58182661fb61774e0679e'), ObjectId('66b58182661fb61774e0679f'), ObjectId('66b58182661fb61774e067a0'), ObjectId('66b58182661fb61774e067a1'), ObjectId('66b58182661fb61774e067a2'), ObjectId('66b58182661fb61774e067a3'), ObjectId('66b58182661fb61774e067a4'), ObjectId('66b58182661fb61774e067a5'), ObjectId('66b58182661fb61774e067a6'), ObjectId('66b58182661fb61774e067a7'), ObjectId('66b58182661fb61774e067a8'), ObjectId('66b58182661fb61774e067a9'), ObjectId('66b58182661fb61774e067aa'), ObjectId('66b58182661fb61774e067ab'), ObjectId('66b58182661fb61774e067ac'), ObjectId('66b58182661fb61774e067ad'), ObjectId('66b58182661fb61774e067ae'), ObjectId('66b58182661fb61774e067af'), ObjectId('66b58182661fb61774e067b0'), ObjectId('66b58182661fb61774e067b1'), ObjectId('66b58182661fb61774e067b2'), ObjectId('66b58182661fb61774e067b3'), ObjectId('66b58182661fb61774e067b4'), ObjectId('66b58182661fb61774e067b5'), ObjectId('66b58182661fb61774e067b6'), ObjectId('66b58182661fb61774e067b7'), ObjectId('66b58182661fb61774e067b8'), ObjectId('66b58182661fb61774e067b9'), ObjectId('66b58182661fb61774e067ba'), ObjectId('66b58182661fb61774e067bb'), ObjectId('66b58182661fb61774e067bc'), ObjectId('66b58182661fb61774e067bd'), ObjectId('66b58182661fb61774e067be'), ObjectId('66b58182661fb61774e067bf'), ObjectId('66b58182661fb61774e067c0'), ObjectId('66b58182661fb61774e067c1'), ObjectId('66b58182661fb61774e067c2'), ObjectId('66b58182661fb61774e067c3'), ObjectId('66b58182661fb61774e067c4'), ObjectId('66b58182661fb61774e067c5'), ObjectId('66b58182661fb61774e067c6'), ObjectId('66b58182661fb61774e067c7'), ObjectId('66b58182661fb61774e067c8'), ObjectId('66b58182661fb61774e067c9'), ObjectId('66b58182661fb61774e067ca'), ObjectId('66b58182661fb61774e067cb'), ObjectId('66b58182661fb61774e067cc'), ObjectId('66b58182661fb61774e067cd'), ObjectId('66b58182661fb61774e067ce'), ObjectId('66b58182661fb61774e067cf'), ObjectId('66b58182661fb61774e067d0'), ObjectId('66b58182661fb61774e067d1'), ObjectId('66b58182661fb61774e067d2'), ObjectId('66b58182661fb61774e067d3'), ObjectId('66b58182661fb61774e067d4'), ObjectId('66b58182661fb61774e067d5'), ObjectId('66b58182661fb61774e067d6'), ObjectId('66b58182661fb61774e067d7'), ObjectId('66b58182661fb61774e067d8'), ObjectId('66b58182661fb61774e067d9'), ObjectId('66b58182661fb61774e067da'), ObjectId('66b58182661fb61774e067db'), ObjectId('66b58182661fb61774e067dc'), ObjectId('66b58182661fb61774e067dd'), ObjectId('66b58182661fb61774e067de'), ObjectId('66b58182661fb61774e067df'), ObjectId('66b58182661fb61774e067e0'), ObjectId('66b58182661fb61774e067e1'), ObjectId('66b58182661fb61774e067e2'), ObjectId('66b58182661fb61774e067e3'), ObjectId('66b58182661fb61774e067e4'), ObjectId('66b58182661fb61774e067e5'), ObjectId('66b58182661fb61774e067e6'), ObjectId('66b58182661fb61774e067e7'), ObjectId('66b58182661fb61774e067e8'), ObjectId('66b58182661fb61774e067e9'), ObjectId('66b58182661fb61774e067ea'), ObjectId('66b58182661fb61774e067eb'), ObjectId('66b58182661fb61774e067ec'), ObjectId('66b58182661fb61774e067ed'), ObjectId('66b58182661fb61774e067ee'), ObjectId('66b58182661fb61774e067ef'), ObjectId('66b58182661fb61774e067f0'), ObjectId('66b58182661fb61774e067f1'), ObjectId('66b58182661fb61774e067f2'), ObjectId('66b58182661fb61774e067f3'), ObjectId('66b58182661fb61774e067f4'), ObjectId('66b58182661fb61774e067f5'), ObjectId('66b58182661fb61774e067f6'), ObjectId('66b58182661fb61774e067f7'), ObjectId('66b58182661fb61774e067f8'), ObjectId('66b58182661fb61774e067f9'), ObjectId('66b58182661fb61774e067fa'), ObjectId('66b58182661fb61774e067fb'), ObjectId('66b58182661fb61774e067fc'), ObjectId('66b58182661fb61774e067fd'), ObjectId('66b58182661fb61774e067fe'), ObjectId('66b58182661fb61774e067ff'), ObjectId('66b58182661fb61774e06800'), ObjectId('66b58182661fb61774e06801'), ObjectId('66b58182661fb61774e06802'), ObjectId('66b58182661fb61774e06803'), ObjectId('66b58182661fb61774e06804'), ObjectId('66b58182661fb61774e06805'), ObjectId('66b58182661fb61774e06806'), ObjectId('66b58182661fb61774e06807'), ObjectId('66b58182661fb61774e06808'), ObjectId('66b58182661fb61774e06809'), ObjectId('66b58182661fb61774e0680a'), ObjectId('66b58182661fb61774e0680b'), ObjectId('66b58182661fb61774e0680c'), ObjectId('66b58182661fb61774e0680d'), ObjectId('66b58182661fb61774e0680e'), ObjectId('66b58182661fb61774e0680f'), ObjectId('66b58182661fb61774e06810'), ObjectId('66b58182661fb61774e06811'), ObjectId('66b58182661fb61774e06812'), ObjectId('66b58182661fb61774e06813'), ObjectId('66b58182661fb61774e06814'), ObjectId('66b58182661fb61774e06815'), ObjectId('66b58182661fb61774e06816'), ObjectId('66b58182661fb61774e06817'), ObjectId('66b58182661fb61774e06818'), ObjectId('66b58182661fb61774e06819'), ObjectId('66b58182661fb61774e0681a'), ObjectId('66b58182661fb61774e0681b'), ObjectId('66b58182661fb61774e0681c'), ObjectId('66b58182661fb61774e0681d'), ObjectId('66b58182661fb61774e0681e'), ObjectId('66b58182661fb61774e0681f'), ObjectId('66b58182661fb61774e06820'), ObjectId('66b58182661fb61774e06821'), ObjectId('66b58182661fb61774e06822'), ObjectId('66b58182661fb61774e06823'), ObjectId('66b58182661fb61774e06824'), ObjectId('66b58182661fb61774e06825'), ObjectId('66b58182661fb61774e06826'), ObjectId('66b58182661fb61774e06827'), ObjectId('66b58182661fb61774e06828'), ObjectId('66b58182661fb61774e06829'), ObjectId('66b58182661fb61774e0682a'), ObjectId('66b58182661fb61774e0682b'), ObjectId('66b58182661fb61774e0682c'), ObjectId('66b58182661fb61774e0682d'), ObjectId('66b58182661fb61774e0682e'), ObjectId('66b58182661fb61774e0682f'), ObjectId('66b58182661fb61774e06830'), ObjectId('66b58182661fb61774e06831'), ObjectId('66b58182661fb61774e06832'), ObjectId('66b58182661fb61774e06833'), ObjectId('66b58182661fb61774e06834')], acknowledged=True)"
      ]
     },
     "execution_count": 74,
     "metadata": {},
     "output_type": "execute_result"
    }
   ],
   "source": [
    "# Insert data into MongoDB collection\n",
    "collection.insert_many(data_dict)\n"
   ]
  },
  {
   "cell_type": "code",
   "execution_count": 75,
   "id": "807f8c1a-1667-4c1f-b57c-51b03dc7718b",
   "metadata": {},
   "outputs": [
    {
     "name": "stdout",
     "output_type": "stream",
     "text": [
      "\n",
      "Number of documents matched: 1608\n",
      "Number of documents modified: 1608\n"
     ]
    }
   ],
   "source": [
    "# Execute update operation: Set 'BloodPressure' to 80 where 'Class' is 1\n",
    "update_result = collection.update_many(\n",
    "    {\"Class\": 1},\n",
    "    {\"$set\": {\"BloodPressure\": 80}}\n",
    ")\n",
    "\n",
    "print(f\"\\nNumber of documents matched: {update_result.matched_count}\")\n",
    "print(f\"Number of documents modified: {update_result.modified_count}\")\n"
   ]
  },
  {
   "cell_type": "code",
   "execution_count": 76,
   "id": "983aafb7-33fb-4471-bdf2-44947ff9f6b4",
   "metadata": {},
   "outputs": [],
   "source": [
    "# Verify the update by retrieving updated documents\n",
    "updated_docs = collection.find({\"Class\": 1, \"BloodPressure\": 80})\n",
    "updated_docs_df = pd.DataFrame(list(updated_docs))"
   ]
  },
  {
   "cell_type": "code",
   "execution_count": 80,
   "id": "4b464f98-f02b-4676-bfe2-d03142be9f97",
   "metadata": {},
   "outputs": [
    {
     "name": "stdout",
     "output_type": "stream",
     "text": [
      "\n",
      "Updated documents where 'Class' is 1 and 'BloodPressure' is 80:\n"
     ]
    },
    {
     "data": {
      "text/html": [
       "<div>\n",
       "<style scoped>\n",
       "    .dataframe tbody tr th:only-of-type {\n",
       "        vertical-align: middle;\n",
       "    }\n",
       "\n",
       "    .dataframe tbody tr th {\n",
       "        vertical-align: top;\n",
       "    }\n",
       "\n",
       "    .dataframe thead th {\n",
       "        text-align: right;\n",
       "    }\n",
       "</style>\n",
       "<table border=\"1\" class=\"dataframe\">\n",
       "  <thead>\n",
       "    <tr style=\"text-align: right;\">\n",
       "      <th></th>\n",
       "      <th>_id</th>\n",
       "      <th>Pregnancies</th>\n",
       "      <th>Glucose</th>\n",
       "      <th>BloodPressure</th>\n",
       "      <th>SkinThickness</th>\n",
       "      <th>Insulin</th>\n",
       "      <th>BMI</th>\n",
       "      <th>DiabetesPedigreeFunction</th>\n",
       "      <th>Age</th>\n",
       "      <th>Class</th>\n",
       "    </tr>\n",
       "  </thead>\n",
       "  <tbody>\n",
       "    <tr>\n",
       "      <th>0</th>\n",
       "      <td>66b0319ca162d7e96f89ab9e</td>\n",
       "      <td>0.639947</td>\n",
       "      <td>0.866045</td>\n",
       "      <td>80</td>\n",
       "      <td>0.670643</td>\n",
       "      <td>-0.181541</td>\n",
       "      <td>0.166619</td>\n",
       "      <td>0.468492</td>\n",
       "      <td>1.425995</td>\n",
       "      <td>1</td>\n",
       "    </tr>\n",
       "    <tr>\n",
       "      <th>1</th>\n",
       "      <td>66b0319ca162d7e96f89aba0</td>\n",
       "      <td>1.233880</td>\n",
       "      <td>2.016662</td>\n",
       "      <td>80</td>\n",
       "      <td>-0.012301</td>\n",
       "      <td>-0.181541</td>\n",
       "      <td>-1.332500</td>\n",
       "      <td>0.604397</td>\n",
       "      <td>-0.105584</td>\n",
       "      <td>1</td>\n",
       "    </tr>\n",
       "    <tr>\n",
       "      <th>2</th>\n",
       "      <td>66b0319ca162d7e96f89aba2</td>\n",
       "      <td>-1.141852</td>\n",
       "      <td>0.504422</td>\n",
       "      <td>80</td>\n",
       "      <td>0.670643</td>\n",
       "      <td>0.316566</td>\n",
       "      <td>1.549303</td>\n",
       "      <td>5.484909</td>\n",
       "      <td>-0.020496</td>\n",
       "      <td>1</td>\n",
       "    </tr>\n",
       "    <tr>\n",
       "      <th>3</th>\n",
       "      <td>66b0319ca162d7e96f89aba4</td>\n",
       "      <td>-0.250952</td>\n",
       "      <td>-1.435189</td>\n",
       "      <td>80</td>\n",
       "      <td>0.329171</td>\n",
       "      <td>-0.610145</td>\n",
       "      <td>-0.211799</td>\n",
       "      <td>-0.676133</td>\n",
       "      <td>-0.616111</td>\n",
       "      <td>1</td>\n",
       "    </tr>\n",
       "    <tr>\n",
       "      <th>4</th>\n",
       "      <td>66b0319ca162d7e96f89aba6</td>\n",
       "      <td>-0.547919</td>\n",
       "      <td>2.476909</td>\n",
       "      <td>80</td>\n",
       "      <td>1.808882</td>\n",
       "      <td>4.660524</td>\n",
       "      <td>-0.284572</td>\n",
       "      <td>-0.947944</td>\n",
       "      <td>1.681259</td>\n",
       "      <td>1</td>\n",
       "    </tr>\n",
       "    <tr>\n",
       "      <th>...</th>\n",
       "      <td>...</td>\n",
       "      <td>...</td>\n",
       "      <td>...</td>\n",
       "      <td>...</td>\n",
       "      <td>...</td>\n",
       "      <td>...</td>\n",
       "      <td>...</td>\n",
       "      <td>...</td>\n",
       "      <td>...</td>\n",
       "      <td>...</td>\n",
       "    </tr>\n",
       "    <tr>\n",
       "      <th>1603</th>\n",
       "      <td>66b58182661fb61774e06828</td>\n",
       "      <td>-0.844885</td>\n",
       "      <td>0.208549</td>\n",
       "      <td>80</td>\n",
       "      <td>1.125938</td>\n",
       "      <td>-0.355300</td>\n",
       "      <td>0.588702</td>\n",
       "      <td>1.767143</td>\n",
       "      <td>0.319855</td>\n",
       "      <td>1</td>\n",
       "    </tr>\n",
       "    <tr>\n",
       "      <th>1604</th>\n",
       "      <td>66b58182661fb61774e0682a</td>\n",
       "      <td>-1.141852</td>\n",
       "      <td>0.044175</td>\n",
       "      <td>80</td>\n",
       "      <td>-0.012301</td>\n",
       "      <td>-0.181541</td>\n",
       "      <td>0.559592</td>\n",
       "      <td>-0.645932</td>\n",
       "      <td>1.596171</td>\n",
       "      <td>1</td>\n",
       "    </tr>\n",
       "    <tr>\n",
       "      <th>1605</th>\n",
       "      <td>66b58182661fb61774e0682c</td>\n",
       "      <td>0.639947</td>\n",
       "      <td>2.246785</td>\n",
       "      <td>80</td>\n",
       "      <td>-0.012301</td>\n",
       "      <td>-0.181541</td>\n",
       "      <td>0.443156</td>\n",
       "      <td>-0.585529</td>\n",
       "      <td>2.787399</td>\n",
       "      <td>1</td>\n",
       "    </tr>\n",
       "    <tr>\n",
       "      <th>1606</th>\n",
       "      <td>66b58182661fb61774e0682e</td>\n",
       "      <td>1.530847</td>\n",
       "      <td>1.589290</td>\n",
       "      <td>80</td>\n",
       "      <td>0.215347</td>\n",
       "      <td>-0.181541</td>\n",
       "      <td>1.680294</td>\n",
       "      <td>-0.208015</td>\n",
       "      <td>0.830381</td>\n",
       "      <td>1</td>\n",
       "    </tr>\n",
       "    <tr>\n",
       "      <th>1607</th>\n",
       "      <td>66b58182661fb61774e06833</td>\n",
       "      <td>-0.844885</td>\n",
       "      <td>0.142800</td>\n",
       "      <td>80</td>\n",
       "      <td>-0.012301</td>\n",
       "      <td>-0.181541</td>\n",
       "      <td>-0.342790</td>\n",
       "      <td>-0.371101</td>\n",
       "      <td>1.170732</td>\n",
       "      <td>1</td>\n",
       "    </tr>\n",
       "  </tbody>\n",
       "</table>\n",
       "<p>1608 rows × 10 columns</p>\n",
       "</div>"
      ],
      "text/plain": [
       "                           _id  Pregnancies   Glucose  BloodPressure  \\\n",
       "0     66b0319ca162d7e96f89ab9e     0.639947  0.866045             80   \n",
       "1     66b0319ca162d7e96f89aba0     1.233880  2.016662             80   \n",
       "2     66b0319ca162d7e96f89aba2    -1.141852  0.504422             80   \n",
       "3     66b0319ca162d7e96f89aba4    -0.250952 -1.435189             80   \n",
       "4     66b0319ca162d7e96f89aba6    -0.547919  2.476909             80   \n",
       "...                        ...          ...       ...            ...   \n",
       "1603  66b58182661fb61774e06828    -0.844885  0.208549             80   \n",
       "1604  66b58182661fb61774e0682a    -1.141852  0.044175             80   \n",
       "1605  66b58182661fb61774e0682c     0.639947  2.246785             80   \n",
       "1606  66b58182661fb61774e0682e     1.530847  1.589290             80   \n",
       "1607  66b58182661fb61774e06833    -0.844885  0.142800             80   \n",
       "\n",
       "      SkinThickness   Insulin       BMI  DiabetesPedigreeFunction       Age  \\\n",
       "0          0.670643 -0.181541  0.166619                  0.468492  1.425995   \n",
       "1         -0.012301 -0.181541 -1.332500                  0.604397 -0.105584   \n",
       "2          0.670643  0.316566  1.549303                  5.484909 -0.020496   \n",
       "3          0.329171 -0.610145 -0.211799                 -0.676133 -0.616111   \n",
       "4          1.808882  4.660524 -0.284572                 -0.947944  1.681259   \n",
       "...             ...       ...       ...                       ...       ...   \n",
       "1603       1.125938 -0.355300  0.588702                  1.767143  0.319855   \n",
       "1604      -0.012301 -0.181541  0.559592                 -0.645932  1.596171   \n",
       "1605      -0.012301 -0.181541  0.443156                 -0.585529  2.787399   \n",
       "1606       0.215347 -0.181541  1.680294                 -0.208015  0.830381   \n",
       "1607      -0.012301 -0.181541 -0.342790                 -0.371101  1.170732   \n",
       "\n",
       "      Class  \n",
       "0         1  \n",
       "1         1  \n",
       "2         1  \n",
       "3         1  \n",
       "4         1  \n",
       "...     ...  \n",
       "1603      1  \n",
       "1604      1  \n",
       "1605      1  \n",
       "1606      1  \n",
       "1607      1  \n",
       "\n",
       "[1608 rows x 10 columns]"
      ]
     },
     "execution_count": 80,
     "metadata": {},
     "output_type": "execute_result"
    }
   ],
   "source": [
    "print(\"\\nUpdated documents where 'Class' is 1 and 'BloodPressure' is 80:\")\n",
    "(updated_docs_df)\n"
   ]
  },
  {
   "cell_type": "code",
   "execution_count": 81,
   "id": "3b44fe50-8f56-430e-8341-104dbc8b5a12",
   "metadata": {},
   "outputs": [],
   "source": [
    "#part B\n",
    "#A"
   ]
  },
  {
   "cell_type": "code",
   "execution_count": 2,
   "id": "c3f1fccf-0439-4def-8d24-5a9c25603805",
   "metadata": {},
   "outputs": [],
   "source": [
    "import pandas as pd\n",
    "from pymongo import MongoClient"
   ]
  },
  {
   "cell_type": "code",
   "execution_count": 3,
   "id": "ffd9d585-d4f2-44c3-8950-726a5b4cf444",
   "metadata": {},
   "outputs": [],
   "source": [
    "# Step 1: Establish connection to MongoDB\n",
    "client = MongoClient('mongodb://localhost:27017/')\n",
    "db = client['diabetes_db']\n",
    "collection = db['diabetes_data']\n"
   ]
  },
  {
   "cell_type": "code",
   "execution_count": 4,
   "id": "0dd2b20a-5eb4-427f-8ca5-7920e92226e2",
   "metadata": {},
   "outputs": [],
   "source": [
    "# Step 2: Retrieve data from MongoDB collection\n",
    "data = list(collection.find())\n"
   ]
  },
  {
   "cell_type": "code",
   "execution_count": 5,
   "id": "a49bf18a-8423-4b36-8e5e-7539dab195b1",
   "metadata": {},
   "outputs": [],
   "source": [
    "# Step 3: Convert the data to a DataFrame\n",
    "df = pd.DataFrame(data)\n"
   ]
  },
  {
   "cell_type": "code",
   "execution_count": 6,
   "id": "a5732a85-6bab-4160-9b4e-5b0c2f612216",
   "metadata": {},
   "outputs": [],
   "source": [
    "# Step 4: Export the DataFrame to a CSV file\n",
    "csv_file_path = 'exported_diabetes_data.csv'\n",
    "df.to_csv(csv_file_path, index=False)\n"
   ]
  },
  {
   "cell_type": "code",
   "execution_count": 7,
   "id": "4e99ed3b-17c9-4ae6-b687-440947097f5d",
   "metadata": {},
   "outputs": [
    {
     "name": "stdout",
     "output_type": "stream",
     "text": [
      "Data has been successfully exported to exported_diabetes_data.csv\n"
     ]
    }
   ],
   "source": [
    "print(f\"Data has been successfully exported to {csv_file_path}\")"
   ]
  },
  {
   "cell_type": "code",
   "execution_count": 8,
   "id": "f6a778d3-2f0d-4005-b12c-acdb5a0a16a0",
   "metadata": {},
   "outputs": [
    {
     "data": {
      "text/html": [
       "<div>\n",
       "<style scoped>\n",
       "    .dataframe tbody tr th:only-of-type {\n",
       "        vertical-align: middle;\n",
       "    }\n",
       "\n",
       "    .dataframe tbody tr th {\n",
       "        vertical-align: top;\n",
       "    }\n",
       "\n",
       "    .dataframe thead th {\n",
       "        text-align: right;\n",
       "    }\n",
       "</style>\n",
       "<table border=\"1\" class=\"dataframe\">\n",
       "  <thead>\n",
       "    <tr style=\"text-align: right;\">\n",
       "      <th></th>\n",
       "      <th>_id</th>\n",
       "      <th>Pregnancies</th>\n",
       "      <th>Glucose</th>\n",
       "      <th>BloodPressure</th>\n",
       "      <th>SkinThickness</th>\n",
       "      <th>Insulin</th>\n",
       "      <th>BMI</th>\n",
       "      <th>DiabetesPedigreeFunction</th>\n",
       "      <th>Age</th>\n",
       "      <th>Class</th>\n",
       "    </tr>\n",
       "  </thead>\n",
       "  <tbody>\n",
       "    <tr>\n",
       "      <th>0</th>\n",
       "      <td>66b0319ca162d7e96f89ab9e</td>\n",
       "      <td>0.639947</td>\n",
       "      <td>0.866045</td>\n",
       "      <td>80.000000</td>\n",
       "      <td>0.670643</td>\n",
       "      <td>-0.181541</td>\n",
       "      <td>0.166619</td>\n",
       "      <td>0.468492</td>\n",
       "      <td>1.425995</td>\n",
       "      <td>1</td>\n",
       "    </tr>\n",
       "    <tr>\n",
       "      <th>1</th>\n",
       "      <td>66b0319ca162d7e96f89ab9f</td>\n",
       "      <td>-0.844885</td>\n",
       "      <td>-1.205066</td>\n",
       "      <td>-0.528319</td>\n",
       "      <td>-0.012301</td>\n",
       "      <td>-0.181541</td>\n",
       "      <td>-0.852200</td>\n",
       "      <td>-0.365061</td>\n",
       "      <td>-0.190672</td>\n",
       "      <td>0</td>\n",
       "    </tr>\n",
       "  </tbody>\n",
       "</table>\n",
       "</div>"
      ],
      "text/plain": [
       "                        _id  Pregnancies   Glucose  BloodPressure  \\\n",
       "0  66b0319ca162d7e96f89ab9e     0.639947  0.866045      80.000000   \n",
       "1  66b0319ca162d7e96f89ab9f    -0.844885 -1.205066      -0.528319   \n",
       "\n",
       "   SkinThickness   Insulin       BMI  DiabetesPedigreeFunction       Age  \\\n",
       "0       0.670643 -0.181541  0.166619                  0.468492  1.425995   \n",
       "1      -0.012301 -0.181541 -0.852200                 -0.365061 -0.190672   \n",
       "\n",
       "   Class  \n",
       "0      1  \n",
       "1      0  "
      ]
     },
     "execution_count": 8,
     "metadata": {},
     "output_type": "execute_result"
    }
   ],
   "source": [
    "df.head(2)"
   ]
  },
  {
   "cell_type": "code",
   "execution_count": 97,
   "id": "2f4f2cb9-cd70-40c4-aab4-3fb7b03d38b4",
   "metadata": {},
   "outputs": [],
   "source": [
    "#establish connection\n",
    "#b"
   ]
  },
  {
   "cell_type": "code",
   "execution_count": 99,
   "id": "82a4a2fb-5249-4b6a-8391-7b5c9cfe7f64",
   "metadata": {},
   "outputs": [],
   "source": [
    "import os"
   ]
  },
  {
   "cell_type": "code",
   "execution_count": 100,
   "id": "81d5a643-9981-46e9-9d81-35aae6ed2311",
   "metadata": {},
   "outputs": [
    {
     "name": "stdout",
     "output_type": "stream",
     "text": [
      "['.ipynb_checkpoints', 'data transformation ass-2.ipynb', 'exported_diabetes_data.csv', 'pima-indians-diabetes.csv', 'Untitled.ipynb']\n"
     ]
    }
   ],
   "source": [
    "# List all files in the current directory\n",
    "print(os.listdir())"
   ]
  },
  {
   "cell_type": "code",
   "execution_count": 101,
   "id": "e02fcb79-c7aa-40b0-8633-db770ab87395",
   "metadata": {},
   "outputs": [
    {
     "name": "stdout",
     "output_type": "stream",
     "text": [
      "File exported successfully.\n"
     ]
    }
   ],
   "source": [
    "# Export the DataFrame to a CSV file\n",
    "df.to_csv('exported_diabetes_data.csv', index=False)\n",
    "\n",
    "print(\"File exported successfully.\")"
   ]
  },
  {
   "cell_type": "code",
   "execution_count": 102,
   "id": "9e7931ea-6ad9-4a5a-a2b7-1a89b670c118",
   "metadata": {},
   "outputs": [],
   "source": [
    "local_file_path = '/path/to/exported_diabetes_data.csv'"
   ]
  },
  {
   "cell_type": "code",
   "execution_count": 103,
   "id": "1ab5fff4-b97f-4380-af5f-3234f417a99f",
   "metadata": {},
   "outputs": [],
   "source": [
    "import shutil"
   ]
  },
  {
   "cell_type": "code",
   "execution_count": 104,
   "id": "ac032023-ad06-41d1-8ee2-3b93a5e41e34",
   "metadata": {},
   "outputs": [],
   "source": [
    "# Replace with the correct path if needed\n",
    "local_file_path = 'exported_diabetes_data.csv'\n",
    "drive_folder_path = '/content/drive/My Drive/'"
   ]
  },
  {
   "cell_type": "code",
   "execution_count": 23,
   "id": "e732cb4d-a961-4f12-80eb-50b55a63b1cd",
   "metadata": {},
   "outputs": [
    {
     "name": "stdout",
     "output_type": "stream",
     "text": [
      "Defaulting to user installation because normal site-packages is not writeable\n",
      "Collecting dicttoxml\n",
      "  Using cached dicttoxml-1.7.16-py3-none-any.whl.metadata (47 kB)\n",
      "Using cached dicttoxml-1.7.16-py3-none-any.whl (24 kB)\n",
      "Installing collected packages: dicttoxml\n",
      "Successfully installed dicttoxml-1.7.16\n",
      "Note: you may need to restart the kernel to use updated packages.\n"
     ]
    }
   ],
   "source": [
    "pip install dicttoxml"
   ]
  },
  {
   "cell_type": "code",
   "execution_count": 24,
   "id": "da1dfbc5-7182-49d9-919a-e4a316e0e865",
   "metadata": {},
   "outputs": [],
   "source": [
    "import pandas as pd\n",
    "import pymongo\n",
    "import dicttoxml"
   ]
  },
  {
   "cell_type": "code",
   "execution_count": 12,
   "id": "c7f16fff-357d-4065-8b25-d14498e98c58",
   "metadata": {},
   "outputs": [],
   "source": [
    "# Step 1: Load the dataset into a pandas DataFrame\n",
    "df = pd.read_csv('pima-indians-diabetes.csv')\n"
   ]
  },
  {
   "cell_type": "code",
   "execution_count": 13,
   "id": "84f42c23-d20d-4613-90a3-d422fbf7c7ed",
   "metadata": {},
   "outputs": [],
   "source": [
    "# Step 2: Establish a connection to MongoDB\n",
    "client = pymongo.MongoClient(\"mongodb://localhost:27017/\")\n",
    "db = client[\"diabetes_db\"]\n",
    "collection = db[\"pima_indians_diabetes\"]\n"
   ]
  },
  {
   "cell_type": "code",
   "execution_count": 14,
   "id": "157e5f72-d97b-4c19-bd72-12cd78482968",
   "metadata": {},
   "outputs": [
    {
     "name": "stdout",
     "output_type": "stream",
     "text": [
      "Data successfully loaded into MongoDB.\n"
     ]
    }
   ],
   "source": [
    "# Step 3: Insert the DataFrame into MongoDB\n",
    "data_dict = df.to_dict(\"records\")\n",
    "collection.insert_many(data_dict)\n",
    "print(\"Data successfully loaded into MongoDB.\")"
   ]
  },
  {
   "cell_type": "code",
   "execution_count": 15,
   "id": "f29d4c5d-dab2-4e5a-b0a2-3bc79fe18ca4",
   "metadata": {},
   "outputs": [],
   "source": [
    "# Step 4: Retrieve data from MongoDB\n",
    "documents = collection.find()"
   ]
  },
  {
   "cell_type": "code",
   "execution_count": 16,
   "id": "b4858fb1-c395-4e19-8ded-f310cb698838",
   "metadata": {},
   "outputs": [],
   "source": [
    "# Step 5: Convert the MongoDB documents to a pandas DataFrame\n",
    "df_mongo = pd.DataFrame(list(documents))\n"
   ]
  },
  {
   "cell_type": "code",
   "execution_count": 19,
   "id": "9c2f0a82-eb7c-4183-aeed-184dc2061e3d",
   "metadata": {},
   "outputs": [],
   "source": [
    "# Step 6: Drop the MongoDB _id column (optional)\n",
    "df_mongo.drop('Glucose', axis=1, inplace=True)"
   ]
  },
  {
   "cell_type": "code",
   "execution_count": 20,
   "id": "fac59366-e256-4329-8ebd-698772d98bfb",
   "metadata": {},
   "outputs": [
    {
     "name": "stdout",
     "output_type": "stream",
     "text": [
      "Data has been successfully exported to 'exported_pima_indians_diabetes.csv'.\n"
     ]
    }
   ],
   "source": [
    "# Step 7: Export the retrieved data to a CSV file\n",
    "df_mongo.to_csv('exported_pima_indians_diabetes.csv', index=False)\n",
    "print(\"Data has been successfully exported to 'exported_pima_indians_diabetes.csv'.\")"
   ]
  },
  {
   "cell_type": "code",
   "execution_count": 25,
   "id": "a6d67a61-7aab-4cbb-a184-f38b251149b7",
   "metadata": {},
   "outputs": [
    {
     "name": "stdout",
     "output_type": "stream",
     "text": [
      "Data has been successfully exported to 'exported_pima_indians_diabetes.json'.\n"
     ]
    }
   ],
   "source": [
    "# Step 8: Export the retrieved data to a JSON file\n",
    "df_mongo.to_json('exported_pima_indians_diabetes.json', orient='records', lines=True)\n",
    "print(\"Data has been successfully exported to 'exported_pima_indians_diabetes.json'.\")"
   ]
  },
  {
   "cell_type": "code",
   "execution_count": 26,
   "id": "4d63ce3a-12e9-4de3-8e61-b04c741a7409",
   "metadata": {},
   "outputs": [
    {
     "name": "stdout",
     "output_type": "stream",
     "text": [
      "Data has been successfully exported to 'exported_pima_indians_diabetes.xml'.\n"
     ]
    }
   ],
   "source": [
    "# Step 9: Export the retrieved data to an XML file\n",
    "data_dict = df_mongo.to_dict(orient=\"records\")\n",
    "xml_data = dicttoxml.dicttoxml(data_dict, custom_root='records', attr_type=False)\n",
    "\n",
    "with open('exported_pima_indians_diabetes.xml', 'wb') as xml_file:\n",
    "    xml_file.write(xml_data)\n",
    "\n",
    "print(\"Data has been successfully exported to 'exported_pima_indians_diabetes.xml'.\")"
   ]
  },
  {
   "cell_type": "code",
   "execution_count": null,
   "id": "8692c304-f19b-495f-bf8a-878334d84f16",
   "metadata": {},
   "outputs": [],
   "source": []
  }
 ],
 "metadata": {
  "kernelspec": {
   "display_name": "Python 3 (ipykernel)",
   "language": "python",
   "name": "python3"
  },
  "language_info": {
   "codemirror_mode": {
    "name": "ipython",
    "version": 3
   },
   "file_extension": ".py",
   "mimetype": "text/x-python",
   "name": "python",
   "nbconvert_exporter": "python",
   "pygments_lexer": "ipython3",
   "version": "3.12.5"
  }
 },
 "nbformat": 4,
 "nbformat_minor": 5
}
